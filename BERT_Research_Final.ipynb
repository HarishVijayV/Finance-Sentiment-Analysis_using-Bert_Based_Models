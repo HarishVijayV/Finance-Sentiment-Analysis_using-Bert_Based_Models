{
  "cells": [
    {
      "cell_type": "code",
      "execution_count": 8,
      "metadata": {},
      "outputs": [
        {
          "name": "stdout",
          "output_type": "stream",
          "text": [
            "Collecting transformers\n",
            "  Downloading transformers-4.44.2-py3-none-any.whl.metadata (43 kB)\n",
            "Requirement already satisfied: filelock in c:\\users\\haris\\anaconda3\\envs\\college\\lib\\site-packages (from transformers) (3.13.1)\n",
            "Collecting huggingface-hub<1.0,>=0.23.2 (from transformers)\n",
            "  Downloading huggingface_hub-0.24.6-py3-none-any.whl.metadata (13 kB)\n",
            "Requirement already satisfied: numpy>=1.17 in c:\\users\\haris\\anaconda3\\envs\\college\\lib\\site-packages (from transformers) (1.26.3)\n",
            "Requirement already satisfied: packaging>=20.0 in c:\\users\\haris\\anaconda3\\envs\\college\\lib\\site-packages (from transformers) (24.1)\n",
            "Collecting pyyaml>=5.1 (from transformers)\n",
            "  Downloading PyYAML-6.0.2-cp311-cp311-win_amd64.whl.metadata (2.1 kB)\n",
            "Collecting regex!=2019.12.17 (from transformers)\n",
            "  Downloading regex-2024.7.24-cp311-cp311-win_amd64.whl.metadata (41 kB)\n",
            "Collecting requests (from transformers)\n",
            "  Downloading requests-2.32.3-py3-none-any.whl.metadata (4.6 kB)\n",
            "Collecting safetensors>=0.4.1 (from transformers)\n",
            "  Downloading safetensors-0.4.4-cp311-none-win_amd64.whl.metadata (3.9 kB)\n",
            "Collecting tokenizers<0.20,>=0.19 (from transformers)\n",
            "  Downloading tokenizers-0.19.1-cp311-none-win_amd64.whl.metadata (6.9 kB)\n",
            "Collecting tqdm>=4.27 (from transformers)\n",
            "  Downloading tqdm-4.66.5-py3-none-any.whl.metadata (57 kB)\n",
            "Requirement already satisfied: fsspec>=2023.5.0 in c:\\users\\haris\\anaconda3\\envs\\college\\lib\\site-packages (from huggingface-hub<1.0,>=0.23.2->transformers) (2024.2.0)\n",
            "Requirement already satisfied: typing-extensions>=3.7.4.3 in c:\\users\\haris\\anaconda3\\envs\\college\\lib\\site-packages (from huggingface-hub<1.0,>=0.23.2->transformers) (4.12.2)\n",
            "Requirement already satisfied: colorama in c:\\users\\haris\\appdata\\roaming\\python\\python311\\site-packages (from tqdm>=4.27->transformers) (0.4.6)\n",
            "Collecting charset-normalizer<4,>=2 (from requests->transformers)\n",
            "  Using cached charset_normalizer-3.3.2-cp311-cp311-win_amd64.whl.metadata (34 kB)\n",
            "Collecting idna<4,>=2.5 (from requests->transformers)\n",
            "  Downloading idna-3.8-py3-none-any.whl.metadata (9.9 kB)\n",
            "Collecting urllib3<3,>=1.21.1 (from requests->transformers)\n",
            "  Downloading urllib3-2.2.2-py3-none-any.whl.metadata (6.4 kB)\n",
            "Collecting certifi>=2017.4.17 (from requests->transformers)\n",
            "  Downloading certifi-2024.8.30-py3-none-any.whl.metadata (2.2 kB)\n",
            "Downloading transformers-4.44.2-py3-none-any.whl (9.5 MB)\n",
            "   ---------------------------------------- 0.0/9.5 MB ? eta -:--:--\n",
            "   ---------------------------------------- 0.0/9.5 MB ? eta -:--:--\n",
            "   - -------------------------------------- 0.3/9.5 MB ? eta -:--:--\n",
            "   -- ------------------------------------- 0.5/9.5 MB 885.6 kB/s eta 0:00:11\n",
            "   --- ------------------------------------ 0.8/9.5 MB 1.0 MB/s eta 0:00:09\n",
            "   ---- ----------------------------------- 1.0/9.5 MB 1.0 MB/s eta 0:00:09\n",
            "   ----- ---------------------------------- 1.3/9.5 MB 1.0 MB/s eta 0:00:08\n",
            "   ------ --------------------------------- 1.6/9.5 MB 1.1 MB/s eta 0:00:08\n",
            "   ------ --------------------------------- 1.6/9.5 MB 1.1 MB/s eta 0:00:08\n",
            "   ------- -------------------------------- 1.8/9.5 MB 1.0 MB/s eta 0:00:08\n",
            "   -------- ------------------------------- 2.1/9.5 MB 1.1 MB/s eta 0:00:07\n",
            "   --------- ------------------------------ 2.4/9.5 MB 1.1 MB/s eta 0:00:07\n",
            "   ----------- ---------------------------- 2.6/9.5 MB 1.1 MB/s eta 0:00:07\n",
            "   ------------ --------------------------- 2.9/9.5 MB 1.1 MB/s eta 0:00:07\n",
            "   ------------- -------------------------- 3.1/9.5 MB 1.1 MB/s eta 0:00:06\n",
            "   -------------- ------------------------- 3.4/9.5 MB 1.1 MB/s eta 0:00:06\n",
            "   --------------- ------------------------ 3.7/9.5 MB 1.1 MB/s eta 0:00:06\n",
            "   ---------------- ----------------------- 3.9/9.5 MB 1.1 MB/s eta 0:00:05\n",
            "   ---------------- ----------------------- 3.9/9.5 MB 1.1 MB/s eta 0:00:05\n",
            "   ----------------- ---------------------- 4.2/9.5 MB 1.1 MB/s eta 0:00:05\n",
            "   ------------------ --------------------- 4.5/9.5 MB 1.1 MB/s eta 0:00:05\n",
            "   ------------------- -------------------- 4.7/9.5 MB 1.1 MB/s eta 0:00:05\n",
            "   --------------------- ------------------ 5.0/9.5 MB 1.1 MB/s eta 0:00:04\n",
            "   ---------------------- ----------------- 5.2/9.5 MB 1.1 MB/s eta 0:00:04\n",
            "   ----------------------- ---------------- 5.5/9.5 MB 1.1 MB/s eta 0:00:04\n",
            "   ------------------------- -------------- 6.0/9.5 MB 1.1 MB/s eta 0:00:03\n",
            "   ------------------------- -------------- 6.0/9.5 MB 1.1 MB/s eta 0:00:03\n",
            "   -------------------------- ------------- 6.3/9.5 MB 1.1 MB/s eta 0:00:03\n",
            "   --------------------------- ------------ 6.6/9.5 MB 1.1 MB/s eta 0:00:03\n",
            "   ---------------------------- ----------- 6.8/9.5 MB 1.1 MB/s eta 0:00:03\n",
            "   ----------------------------- ---------- 7.1/9.5 MB 1.1 MB/s eta 0:00:03\n",
            "   ------------------------------- -------- 7.3/9.5 MB 1.1 MB/s eta 0:00:02\n",
            "   -------------------------------- ------- 7.6/9.5 MB 1.2 MB/s eta 0:00:02\n",
            "   --------------------------------- ------ 7.9/9.5 MB 1.2 MB/s eta 0:00:02\n",
            "   ---------------------------------- ----- 8.1/9.5 MB 1.2 MB/s eta 0:00:02\n",
            "   ----------------------------------- ---- 8.4/9.5 MB 1.2 MB/s eta 0:00:01\n",
            "   ------------------------------------ --- 8.7/9.5 MB 1.2 MB/s eta 0:00:01\n",
            "   ------------------------------------- -- 8.9/9.5 MB 1.2 MB/s eta 0:00:01\n",
            "   -------------------------------------- - 9.2/9.5 MB 1.2 MB/s eta 0:00:01\n",
            "   ---------------------------------------- 9.5/9.5 MB 1.2 MB/s eta 0:00:00\n",
            "Downloading huggingface_hub-0.24.6-py3-none-any.whl (417 kB)\n",
            "Downloading PyYAML-6.0.2-cp311-cp311-win_amd64.whl (161 kB)\n",
            "Downloading regex-2024.7.24-cp311-cp311-win_amd64.whl (269 kB)\n",
            "Downloading safetensors-0.4.4-cp311-none-win_amd64.whl (285 kB)\n",
            "Downloading tokenizers-0.19.1-cp311-none-win_amd64.whl (2.2 MB)\n",
            "   ---------------------------------------- 0.0/2.2 MB ? eta -:--:--\n",
            "   ---------------------------------------- 0.0/2.2 MB ? eta -:--:--\n",
            "   ---- ----------------------------------- 0.3/2.2 MB ? eta -:--:--\n",
            "   --------- ------------------------------ 0.5/2.2 MB 1.3 MB/s eta 0:00:02\n",
            "   -------------- ------------------------- 0.8/2.2 MB 1.3 MB/s eta 0:00:02\n",
            "   ------------------ --------------------- 1.0/2.2 MB 1.3 MB/s eta 0:00:01\n",
            "   ----------------------- ---------------- 1.3/2.2 MB 1.3 MB/s eta 0:00:01\n",
            "   ---------------------------- ----------- 1.6/2.2 MB 1.3 MB/s eta 0:00:01\n",
            "   --------------------------------- ------ 1.8/2.2 MB 1.3 MB/s eta 0:00:01\n",
            "   ---------------------------------------- 2.2/2.2 MB 1.2 MB/s eta 0:00:00\n",
            "Downloading tqdm-4.66.5-py3-none-any.whl (78 kB)\n",
            "Downloading requests-2.32.3-py3-none-any.whl (64 kB)\n",
            "Downloading certifi-2024.8.30-py3-none-any.whl (167 kB)\n",
            "Using cached charset_normalizer-3.3.2-cp311-cp311-win_amd64.whl (99 kB)\n",
            "Downloading idna-3.8-py3-none-any.whl (66 kB)\n",
            "Downloading urllib3-2.2.2-py3-none-any.whl (121 kB)\n",
            "Installing collected packages: urllib3, tqdm, safetensors, regex, pyyaml, idna, charset-normalizer, certifi, requests, huggingface-hub, tokenizers, transformers\n",
            "Successfully installed certifi-2024.8.30 charset-normalizer-3.3.2 huggingface-hub-0.24.6 idna-3.8 pyyaml-6.0.2 regex-2024.7.24 requests-2.32.3 safetensors-0.4.4 tokenizers-0.19.1 tqdm-4.66.5 transformers-4.44.2 urllib3-2.2.2\n"
          ]
        }
      ],
      "source": [
        "! pip install transformers"
      ]
    },
    {
      "cell_type": "markdown",
      "metadata": {},
      "source": []
    },
    {
      "cell_type": "code",
      "execution_count": 10,
      "metadata": {
        "colab": {
          "base_uri": "https://localhost:8080/"
        },
        "id": "18NwoDijE1hf",
        "outputId": "d3bbb6e8-2e61-43be-ffb2-936632794360"
      },
      "outputs": [
        {
          "name": "stdout",
          "output_type": "stream",
          "text": [
            "                                            sentence sentiment\n",
            "0  The GeoSolutions technology will leverage Bene...  positive\n",
            "1  $ESI on lows, down $1.50 to $2.50 BK a real po...  negative\n",
            "2  For the last quarter of 2010 , Componenta 's n...  positive\n",
            "3  According to the Finnish-Russian Chamber of Co...   neutral\n",
            "4  The Swedish buyout firm has sold its remaining...   neutral\n",
            "                                            sentence  sentiment\n",
            "0  The GeoSolutions technology will leverage Bene...          2\n",
            "1  $ESI on lows, down $1.50 to $2.50 BK a real po...          0\n",
            "2  For the last quarter of 2010 , Componenta 's n...          2\n",
            "3  According to the Finnish-Russian Chamber of Co...          1\n",
            "4  The Swedish buyout firm has sold its remaining...          1\n"
          ]
        }
      ],
      "source": [
        "import torch\n",
        "import pandas as pd\n",
        "from torch.utils.data import DataLoader, Dataset\n",
        "from transformers import BertTokenizer, BertForSequenceClassification, AdamW\n",
        "from tqdm import tqdm\n",
        "# Read the CSV file with a different encoding\n",
        "df = pd.read_csv(r\"C:\\Users\\haris\\Desktop\\imp\\masters\\Research\\done\\Finance-sentiment_analysis_with_sir\\res\\finalized_4_models\\FINAL_BERT_RESEARCH\\data.csv\", names=[\"sentence\", 'sentiment'], encoding='ISO-8859-1')\n",
        "\n",
        "# df=messages=pd.read_csv('data.csv',names=[\"sentence\",'sentiment'])\n",
        "print(df.head())\n",
        "\n",
        "sentiment_map = {\n",
        "    'positive': 2,\n",
        "    'negative': 0,\n",
        "    'neutral': 1\n",
        "}\n",
        "df['sentiment'] = df['sentiment'].map(sentiment_map)\n",
        "\n",
        "# Drop rows with NaN values in the 'sentiment' column\n",
        "df = df.dropna(subset=['sentiment'])\n",
        "\n",
        "\n",
        "# Apply the mapping to the 'sentiment' column in the DataFrame\n",
        "df['sentiment'] = df['sentiment'].astype(int)\n",
        "print(df.head())\n"
      ]
    },
    {
      "cell_type": "code",
      "execution_count": 11,
      "metadata": {
        "colab": {
          "base_uri": "https://localhost:8080/",
          "height": 371,
          "referenced_widgets": [
            "0681822be22542f4b9bcfe7603b008d1",
            "3e6c9282eaa0411daf47f5b62327240f",
            "3b45e391edb54562b38931a65cc39678",
            "bae5f01778ce4e4d8fcbe465896a2c92",
            "c6cb2c7a1c4e40f6a22b5817f99cbd16",
            "03cab8617ec044a8b5237eb467a937c0",
            "b2ca6f109b58491986f77a008768ffe8",
            "d4ca72b74d0946eeb217234e54dea716",
            "029adc8186f04d27bdf74e01776adbad",
            "4fa13e4923e8432a8766db0e4036e1fd",
            "4428ca2298364764a9dda1e2184c1d4a",
            "381403c5c8744712bd24d7ccc31acd12",
            "00317796d06a43e7b61596a24c903907",
            "94ea72bb62f047d0b7943a02df7e1f9e",
            "0c669369289e442698ae58c4f1368a02",
            "2274b2449c044514bbd82bb1d05ca76a",
            "1e4e699f1d8a41cbbc40225112a0b823",
            "6cc8cb4ff70b4d1ea579118c52881a65",
            "cd13062a02a64b29b0f4be88ea1ce656",
            "4515214f4a44471ea99867471d90a64c",
            "61252adaa28248088d62d6cd125f2004",
            "ab694abd134c475aa1bef08f25305e49",
            "ece5d50ac7f343778cd79604fb0664cb",
            "2729b314b0964a6da1d5e67b114ea577",
            "9ac0dda6769f4014a7cf1ccd02d21a4e",
            "2622d5b88cd3459d90b53f762482e467",
            "b1ff384baec448178fa7853d8e7f33da",
            "205e1568c5984b73944867148dce7ea3",
            "66ed221c674142a9b53038dea5366be7",
            "5c42d90be845449eb0435f095aa51c72",
            "4de62ceab9064edb9700222d51d009e9",
            "81f14c5a460544ab9ff06df68ec3ae66",
            "5f27c65d334f4a289e5d84f5852712e6",
            "cfc55d314dfe49b9aed92c2a1c6c9149",
            "c5fbd66865b44241a020d405a1e26579",
            "52a3cd2b831c443d934c988ae7795c5d",
            "f2e71ee2e66a4823a7935ad528542db1",
            "22757ec08eee4ca095a3ef76f6cda1b0",
            "df4dd26a74164a38ba157070efe2c6b4",
            "7e2b50317ab44d1193b88f97cb2b140d",
            "05cba170a6e84fafa286fce6d314766e",
            "281754faed45470583e7d5ec8c133c11",
            "119a58381bea4f37987b4b99c2a28932",
            "9fa831d2b09c4cf89ef9cee9e900a24c",
            "9f1716896679493d86e269ad62fba64e",
            "18c92d50104241759affea847a8738d6",
            "7d3563244d5745d5a4b9e1605b9d8454",
            "6426da1234d347998e91fd92dda2e9be",
            "1fe7b90583eb4f278aab083d6f9f0eb2",
            "ff38581f582c4935b4a2bb1e617645b8",
            "36b65d4305464e28904586467d7e74e4",
            "bd3e9eb190534914938177c29ab89b75",
            "3bbb41c3405c4823847494ad4d15016b",
            "5aa572b8578048b2a2e0772784fbadd0",
            "ffdc0320f5ed4b2c8f1bc5f009491f67"
          ]
        },
        "id": "ZYL_6nj0E1Tg",
        "outputId": "3e8aaf85-9b79-45f7-b5ec-355a5ccd491f"
      },
      "outputs": [
        {
          "name": "stderr",
          "output_type": "stream",
          "text": [
            "c:\\Users\\haris\\anaconda3\\envs\\college\\Lib\\site-packages\\transformers\\tokenization_utils_base.py:1601: FutureWarning: `clean_up_tokenization_spaces` was not set. It will be set to `True` by default. This behavior will be depracted in transformers v4.45, and will be then set to `False` by default. For more details check this issue: https://github.com/huggingface/transformers/issues/31884\n",
            "  warnings.warn(\n",
            "Some weights of BertForSequenceClassification were not initialized from the model checkpoint at bert-base-uncased and are newly initialized: ['classifier.bias', 'classifier.weight']\n",
            "You should probably TRAIN this model on a down-stream task to be able to use it for predictions and inference.\n",
            "c:\\Users\\haris\\anaconda3\\envs\\college\\Lib\\site-packages\\transformers\\optimization.py:591: FutureWarning: This implementation of AdamW is deprecated and will be removed in a future version. Use the PyTorch implementation torch.optim.AdamW instead, or set `no_deprecation_warning=True` to disable this warning\n",
            "  warnings.warn(\n",
            "Epoch 1/4:   0%|          | 0/585 [00:00<?, ?batches/s]c:\\Users\\haris\\anaconda3\\envs\\college\\Lib\\site-packages\\transformers\\models\\bert\\modeling_bert.py:439: UserWarning: 1Torch was not compiled with flash attention. (Triggered internally at C:\\actions-runner\\_work\\pytorch\\pytorch\\builder\\windows\\pytorch\\aten\\src\\ATen\\native\\transformers\\cuda\\sdp_utils.cpp:555.)\n",
            "  attn_output = torch.nn.functional.scaled_dot_product_attention(\n",
            "Epoch 1/4: 100%|██████████| 585/585 [01:52<00:00,  5.18batches/s]\n"
          ]
        },
        {
          "name": "stdout",
          "output_type": "stream",
          "text": [
            "Average training loss: 0.593934162094807\n"
          ]
        },
        {
          "name": "stderr",
          "output_type": "stream",
          "text": [
            "Epoch 2/4: 100%|██████████| 585/585 [01:48<00:00,  5.39batches/s]\n"
          ]
        },
        {
          "name": "stdout",
          "output_type": "stream",
          "text": [
            "Average training loss: 0.32803501452550166\n"
          ]
        },
        {
          "name": "stderr",
          "output_type": "stream",
          "text": [
            "Epoch 3/4: 100%|██████████| 585/585 [01:25<00:00,  6.83batches/s]\n"
          ]
        },
        {
          "name": "stdout",
          "output_type": "stream",
          "text": [
            "Average training loss: 0.22820769718203407\n"
          ]
        },
        {
          "name": "stderr",
          "output_type": "stream",
          "text": [
            "Epoch 4/4:  13%|█▎        | 74/585 [00:09<01:06,  7.68batches/s]"
          ]
        }
      ],
      "source": [
        "\n",
        "\n",
        "\n",
        "# Define your custom dataset class\n",
        "class CustomDataset(Dataset):\n",
        "    def __init__(self, dataframe, tokenizer, max_len):\n",
        "        self.dataframe = dataframe\n",
        "        self.tokenizer = tokenizer\n",
        "        self.max_len = max_len\n",
        "\n",
        "    def __len__(self):\n",
        "        return len(self.dataframe)\n",
        "\n",
        "    def __getitem__(self, idx):\n",
        "        text = self.dataframe.loc[idx, 'sentence']\n",
        "        label = self.dataframe.loc[idx, 'sentiment']\n",
        "        encoding = self.tokenizer(text,\n",
        "                                  add_special_tokens=True,\n",
        "                                  max_length=self.max_len,\n",
        "                                  truncation=True,\n",
        "                                  padding='max_length',\n",
        "                                  return_tensors='pt')\n",
        "        return {\n",
        "            'input_ids': encoding['input_ids'].flatten(),\n",
        "            'attention_mask': encoding['attention_mask'].flatten(),\n",
        "            'labels': torch.tensor(label, dtype=torch.long)\n",
        "        }\n",
        "\n",
        "\n",
        "tokenizer = BertTokenizer.from_pretrained('bert-base-uncased')\n",
        "num_classes = len(df['sentiment'].unique())\n",
        "model = BertForSequenceClassification.from_pretrained('bert-base-uncased', num_labels=num_classes)\n",
        "\n",
        "batch_size = 8\n",
        "max_len = 128\n",
        "num_epochs = 4\n",
        "learning_rate = 2e-5\n",
        "\n",
        "dataset = CustomDataset(dataframe=df, tokenizer=tokenizer, max_len=max_len)\n",
        "\n",
        "train_size = int(0.8 * len(dataset))\n",
        "val_size = len(dataset) - train_size\n",
        "train_dataset, val_dataset = torch.utils.data.random_split(dataset, [train_size, val_size])\n",
        "\n",
        "train_loader = DataLoader(train_dataset, batch_size=batch_size, shuffle=True)\n",
        "val_loader = DataLoader(val_dataset, batch_size=batch_size, shuffle=False)\n",
        "\n",
        "device = torch.device('cuda' if torch.cuda.is_available() else 'cpu')\n",
        "model.to(device)\n",
        "\n",
        "optimizer = AdamW(model.parameters(), lr=learning_rate)\n",
        "scheduler = torch.optim.lr_scheduler.StepLR(optimizer, step_size=1, gamma=0.1)\n",
        "\n",
        "for epoch in range(num_epochs):\n",
        "    model.train()\n",
        "    total_loss = 0\n",
        "    for batch in tqdm(train_loader, desc=f'Epoch {epoch + 1}/{num_epochs}', unit='batches'):\n",
        "        input_ids = batch['input_ids'].to(device)\n",
        "        attention_mask = batch['attention_mask'].to(device)\n",
        "        labels = batch['labels'].to(device)\n",
        "\n",
        "        optimizer.zero_grad()\n",
        "        outputs = model(input_ids, attention_mask=attention_mask, labels=labels)\n",
        "        loss = outputs.loss\n",
        "        total_loss += loss.item()\n",
        "        loss.backward()\n",
        "        optimizer.step()\n",
        "    avg_train_loss = total_loss / len(train_loader)\n",
        "    print(f'Average training loss: {avg_train_loss}')\n",
        "\n",
        "    # Validation\n",
        "    model.eval()\n",
        "    val_loss = 0\n",
        "    num_correct = 0\n",
        "    num_samples = 0\n",
        "    with torch.no_grad():\n",
        "        for batch in val_loader:\n",
        "            input_ids = batch['input_ids'].to(device)\n",
        "#             attention_mask = batch['attention_mask'].to(device)\n",
        "#             labels = batch['labels'].to(device)\n",
        "\n",
        "#             outputs = model(input_ids, attention_mask=attention_mask, labels=labels)\n",
        "#             loss = outputs.loss\n",
        "#             val_loss += loss.item()\n",
        "\n",
        "#             _, preds = torch.max(outputs.logits, dim=1)\n",
        "#             num_correct += (preds == labels).sum().item()\n",
        "#             num_samples += labels.size(0)\n",
        "\n",
        "#     avg_val_loss = val_loss / len(val_loader)\n",
        "#     val_accuracy = num_correct / num_samples\n",
        "#     print(f'Average validation loss: {avg_val_loss}, Validation accuracy: {val_accuracy}')\n",
        "\n",
        "#     # Update the learning rate\n",
        "#     scheduler.step()\n",
        "\n",
        "# print('Training complete!')\n",
        "\n",
        "# # Save the model after training\n",
        "# # torch.save(model.state_dict(), 'bert_modelll.pth')\n"
      ]
    },
    {
      "cell_type": "code",
      "execution_count": null,
      "metadata": {
        "id": "VHZZFqJ1C-0s"
      },
      "outputs": [],
      "source": [
        "# model_path = '/content/drive/My Drive/Final_Bert/bert_model.pth'\n",
        "# tokenizer_path = '/content/drive/My Drive/Final_Bert/bert_tokenizer'\n",
        "\n",
        "# # Save the model state_dict\n",
        "# torch.save(model.state_dict(), model_path)\n",
        "\n",
        "# # Save the tokenizer\n",
        "# tokenizer.save_pretrained(tokenizer_path)"
      ]
    },
    {
      "cell_type": "code",
      "execution_count": null,
      "metadata": {
        "id": "aDdDJmeFZ7_G"
      },
      "outputs": [],
      "source": [
        "# from transformers import BertForSequenceClassification, BertTokenizer\n",
        "\n",
        "# # Assume that model and tokenizer are already fine-tuned and initialized\n",
        "# model = BertForSequenceClassification.from_pretrained(\"bert-base-uncased\")\n",
        "# tokenizer = BertTokenizer.from_pretrained(\"bert-base-uncased\")\n",
        "\n",
        "# # Save model weights\n",
        "# model.save_pretrained(\"/content/drive/MyDrive/Final_Bert\")\n",
        "\n",
        "# # Save model configuration\n",
        "# model.config.save_pretrained(\"/content/drive/MyDrive/Final_Bert\")\n",
        "\n",
        "# # Save tokenizer configuration\n",
        "# tokenizer.save_pretrained(\"/content/drive/MyDrive/Final_Bert\")\n"
      ]
    },
    {
      "cell_type": "code",
      "execution_count": null,
      "metadata": {
        "colab": {
          "base_uri": "https://localhost:8080/"
        },
        "id": "y5m7YHs-FG8r",
        "outputId": "016b6370-ab59-414b-b95b-ca9e7a9f4d77"
      },
      "outputs": [
        {
          "name": "stderr",
          "output_type": "stream",
          "text": [
            "Some weights of BertForSequenceClassification were not initialized from the model checkpoint at bert-base-uncased and are newly initialized: ['classifier.bias', 'classifier.weight']\n",
            "You should probably TRAIN this model on a down-stream task to be able to use it for predictions and inference.\n"
          ]
        },
        {
          "data": {
            "text/plain": [
              "BertForSequenceClassification(\n",
              "  (bert): BertModel(\n",
              "    (embeddings): BertEmbeddings(\n",
              "      (word_embeddings): Embedding(30522, 768, padding_idx=0)\n",
              "      (position_embeddings): Embedding(512, 768)\n",
              "      (token_type_embeddings): Embedding(2, 768)\n",
              "      (LayerNorm): LayerNorm((768,), eps=1e-12, elementwise_affine=True)\n",
              "      (dropout): Dropout(p=0.1, inplace=False)\n",
              "    )\n",
              "    (encoder): BertEncoder(\n",
              "      (layer): ModuleList(\n",
              "        (0-11): 12 x BertLayer(\n",
              "          (attention): BertAttention(\n",
              "            (self): BertSelfAttention(\n",
              "              (query): Linear(in_features=768, out_features=768, bias=True)\n",
              "              (key): Linear(in_features=768, out_features=768, bias=True)\n",
              "              (value): Linear(in_features=768, out_features=768, bias=True)\n",
              "              (dropout): Dropout(p=0.1, inplace=False)\n",
              "            )\n",
              "            (output): BertSelfOutput(\n",
              "              (dense): Linear(in_features=768, out_features=768, bias=True)\n",
              "              (LayerNorm): LayerNorm((768,), eps=1e-12, elementwise_affine=True)\n",
              "              (dropout): Dropout(p=0.1, inplace=False)\n",
              "            )\n",
              "          )\n",
              "          (intermediate): BertIntermediate(\n",
              "            (dense): Linear(in_features=768, out_features=3072, bias=True)\n",
              "            (intermediate_act_fn): GELUActivation()\n",
              "          )\n",
              "          (output): BertOutput(\n",
              "            (dense): Linear(in_features=3072, out_features=768, bias=True)\n",
              "            (LayerNorm): LayerNorm((768,), eps=1e-12, elementwise_affine=True)\n",
              "            (dropout): Dropout(p=0.1, inplace=False)\n",
              "          )\n",
              "        )\n",
              "      )\n",
              "    )\n",
              "    (pooler): BertPooler(\n",
              "      (dense): Linear(in_features=768, out_features=768, bias=True)\n",
              "      (activation): Tanh()\n",
              "    )\n",
              "  )\n",
              "  (dropout): Dropout(p=0.1, inplace=False)\n",
              "  (classifier): Linear(in_features=768, out_features=3, bias=True)\n",
              ")"
            ]
          },
          "execution_count": 3,
          "metadata": {},
          "output_type": "execute_result"
        }
      ],
      "source": [
        "from transformers import BertForSequenceClassification\n",
        "import torch\n",
        "\n",
        "# Assuming labels are integers and stored in `num_classes`\n",
        "num_classes = len(df['sentiment'].unique())\n",
        "\n",
        "# Load the model architecture\n",
        "model = BertForSequenceClassification.from_pretrained('bert-base-uncased', num_labels=num_classes)\n",
        "\n",
        "# Define the path to the saved model\n",
        "model_path = '/content/drive/MyDrive/Final_Bert/bert_model.pth'\n",
        "\n",
        "# Load the model state dictionary\n",
        "model.load_state_dict(torch.load(model_path, map_location=torch.device('cuda' if torch.cuda.is_available() else 'cpu')))\n",
        "\n",
        "\n",
        "# Set the model to evaluation mode\n",
        "model.eval()\n"
      ]
    },
    {
      "cell_type": "code",
      "execution_count": null,
      "metadata": {
        "colab": {
          "base_uri": "https://localhost:8080/"
        },
        "id": "RVWardgjxQy3",
        "outputId": "c8170e5e-b12d-4669-e430-9f1065115f61"
      },
      "outputs": [
        {
          "name": "stderr",
          "output_type": "stream",
          "text": [
            "Some weights of BertForSequenceClassification were not initialized from the model checkpoint at bert-base-uncased and are newly initialized: ['classifier.bias', 'classifier.weight']\n",
            "You should probably TRAIN this model on a down-stream task to be able to use it for predictions and inference.\n"
          ]
        },
        {
          "data": {
            "text/plain": [
              "BertForSequenceClassification(\n",
              "  (bert): BertModel(\n",
              "    (embeddings): BertEmbeddings(\n",
              "      (word_embeddings): Embedding(30522, 768, padding_idx=0)\n",
              "      (position_embeddings): Embedding(512, 768)\n",
              "      (token_type_embeddings): Embedding(2, 768)\n",
              "      (LayerNorm): LayerNorm((768,), eps=1e-12, elementwise_affine=True)\n",
              "      (dropout): Dropout(p=0.1, inplace=False)\n",
              "    )\n",
              "    (encoder): BertEncoder(\n",
              "      (layer): ModuleList(\n",
              "        (0-11): 12 x BertLayer(\n",
              "          (attention): BertAttention(\n",
              "            (self): BertSelfAttention(\n",
              "              (query): Linear(in_features=768, out_features=768, bias=True)\n",
              "              (key): Linear(in_features=768, out_features=768, bias=True)\n",
              "              (value): Linear(in_features=768, out_features=768, bias=True)\n",
              "              (dropout): Dropout(p=0.1, inplace=False)\n",
              "            )\n",
              "            (output): BertSelfOutput(\n",
              "              (dense): Linear(in_features=768, out_features=768, bias=True)\n",
              "              (LayerNorm): LayerNorm((768,), eps=1e-12, elementwise_affine=True)\n",
              "              (dropout): Dropout(p=0.1, inplace=False)\n",
              "            )\n",
              "          )\n",
              "          (intermediate): BertIntermediate(\n",
              "            (dense): Linear(in_features=768, out_features=3072, bias=True)\n",
              "            (intermediate_act_fn): GELUActivation()\n",
              "          )\n",
              "          (output): BertOutput(\n",
              "            (dense): Linear(in_features=3072, out_features=768, bias=True)\n",
              "            (LayerNorm): LayerNorm((768,), eps=1e-12, elementwise_affine=True)\n",
              "            (dropout): Dropout(p=0.1, inplace=False)\n",
              "          )\n",
              "        )\n",
              "      )\n",
              "    )\n",
              "    (pooler): BertPooler(\n",
              "      (dense): Linear(in_features=768, out_features=768, bias=True)\n",
              "      (activation): Tanh()\n",
              "    )\n",
              "  )\n",
              "  (dropout): Dropout(p=0.1, inplace=False)\n",
              "  (classifier): Linear(in_features=768, out_features=3, bias=True)\n",
              ")"
            ]
          },
          "execution_count": 33,
          "metadata": {},
          "output_type": "execute_result"
        }
      ],
      "source": [
        "# from transformers import BertForSequenceClassification\n",
        "\n",
        "# num_classes = len(df['sentiment'].unique())  # Assuming labels are integers\n",
        "\n",
        "# model_path = '/content/drive/MyDrive/Final_Bert/bert_model.pth'\n",
        "# model = BertForSequenceClassification.from_pretrained('bert-base-uncased', num_labels=num_classes)\n",
        "\n",
        "# # Load the model checkpoint onto the CPU\n",
        "# model.load_state_dict(torch.load(model_path, map_location=torch.device('cuda' if torch.cuda.is_available() else 'cpu')))\n",
        "# model.eval()  # Set the model to evaluation mode\n"
      ]
    },
    {
      "cell_type": "code",
      "execution_count": null,
      "metadata": {
        "colab": {
          "base_uri": "https://localhost:8080/"
        },
        "id": "IIg81a0sFKjn",
        "outputId": "6853ae07-4289-47af-c5c8-1d6a206a9f43"
      },
      "outputs": [
        {
          "name": "stdout",
          "output_type": "stream",
          "text": [
            "0\n"
          ]
        }
      ],
      "source": [
        "#new_sentence_pos=\"The GeoSolutions technology will leverage Benefon 's GPS solutions by providing Location Based Search Technology , a Communities Platform , location relevant multimedia content and a new and powerful commercial model .\"\n",
        "new_sentence_pos = \"The company reported larger than expected earnings for the quarter, leading to a surge in stock prices.\"\n",
        "\n",
        "new_sentence_neg = \"The company reported lower than expected earnings for the quarter, leading to a drop in stock prices.\"\n",
        "#new_sentence_neg = \"$ESI on lows, down $1.50 to $2.50 BK a real possibility\"\n",
        "\n",
        "new_sentence_neut = \"The company announced its quarterly earnings report.\"\n",
        "#new_sentence_neut =\"Ahlstrom Corporation STOCK EXCHANGE ANNOUNCEMENT 7.2.2007 at 10.30 A total of 56,955 new shares of Ahlstrom Corporation have been subscribed with option rights under the company 's stock option programs I 2001 and II 2001 .\"\n",
        "tokenizer = BertTokenizer.from_pretrained('bert-base-uncased')\n",
        "\n",
        "inputs = tokenizer(new_sentence_neg, return_tensors='pt')\n",
        "with torch.no_grad():\n",
        "    outputs = model(**inputs)\n",
        "    logits = outputs.logits\n",
        "    predicted_label = torch.argmax(logits, dim=1).item()\n",
        "print(predicted_label)"
      ]
    },
    {
      "cell_type": "code",
      "execution_count": null,
      "metadata": {
        "colab": {
          "base_uri": "https://localhost:8080/"
        },
        "id": "Y86m8UeiFL8g",
        "outputId": "1e3b9aaa-a3c9-4be0-9749-85b4566489bb"
      },
      "outputs": [
        {
          "name": "stdout",
          "output_type": "stream",
          "text": [
            "2\n"
          ]
        }
      ],
      "source": [
        "tokenizer = BertTokenizer.from_pretrained('bert-base-uncased')\n",
        "\n",
        "\n",
        "inputs = tokenizer(new_sentence_pos, return_tensors='pt')\n",
        "with torch.no_grad():\n",
        "    outputs = model(**inputs)\n",
        "    logits = outputs.logits\n",
        "    predicted_label = torch.argmax(logits, dim=1).item()\n",
        "print(predicted_label)"
      ]
    },
    {
      "cell_type": "code",
      "execution_count": null,
      "metadata": {
        "colab": {
          "base_uri": "https://localhost:8080/"
        },
        "id": "tMgLw9a0FNde",
        "outputId": "f53a34e3-fd65-4964-b996-08ffa628c297"
      },
      "outputs": [
        {
          "name": "stdout",
          "output_type": "stream",
          "text": [
            "1\n"
          ]
        }
      ],
      "source": [
        "inputs = tokenizer(new_sentence_neut, return_tensors='pt')\n",
        "with torch.no_grad():\n",
        "    outputs = model(**inputs)\n",
        "    logits = outputs.logits\n",
        "    predicted_label = torch.argmax(logits, dim=1).item()\n",
        "print(predicted_label)"
      ]
    },
    {
      "cell_type": "code",
      "execution_count": null,
      "metadata": {
        "colab": {
          "base_uri": "https://localhost:8080/"
        },
        "id": "QtUsYi0Kwddp",
        "outputId": "43f72547-b781-4e85-ec32-473a48e0f3ee"
      },
      "outputs": [
        {
          "name": "stdout",
          "output_type": "stream",
          "text": [
            "Enter a statement: hi\n",
            "Predicted label: LABEL_2\n",
            "Predicted score: 0.7647318243980408\n",
            "Predicted sentiment: Positive\n"
          ]
        }
      ],
      "source": [
        "from transformers import BertForSequenceClassification, BertTokenizer, pipeline\n",
        "import torch\n",
        "\n",
        "# Set up the few-shot pipeline\n",
        "def create_few_shot_pipeline(modelll):\n",
        "    # Load the fine-tuned BERT model\n",
        "    # model = BertForSequenceClassification.from_pretrained(model_path)\n",
        "    tokenizer = BertTokenizer.from_pretrained('bert-base-uncased')\n",
        "\n",
        "    few_shot_pipeline = pipeline(\n",
        "        task=\"text-classification\",\n",
        "        model=modelll,\n",
        "        tokenizer=tokenizer\n",
        "    )\n",
        "\n",
        "    return few_shot_pipeline\n",
        "\n",
        "# Define the path to your fine-tuned BERT model\n",
        "# model_path = \"/content/drive/MyDrive/Final_Bert\"\n",
        "\n",
        "# Create the few-shot pipeline with your fine-tuned model\n",
        "few_shot_pipeline = create_few_shot_pipeline(model)\n",
        "\n",
        "# Define your few-shot texts and labels for training\n",
        "few_shot_texts = [\n",
        "    \"The GeoSolutions technology will leverage Benefon 's GPS solutions by providing Location Based Search Technology , a Communities Platform , location relevant multimedia content and a new and powerful commercial model .\",\n",
        "    \"Ahlstrom Corporation STOCK EXCHANGE ANNOUNCEMENT 7.2.2007 at 10.30 A total of 56,955 new shares of Ahlstrom Corporation have been subscribed with option rights under the company 's stock option programs I 2001 and II 2001 .\",\n",
        "    \"$ESI on lows, down $1.50 to $2.50 BK a real possibility\"\n",
        "                  ]\n",
        "few_shot_labels = [\"Positive\", \"Neutral\",\"Negative\"]  # Adjust labels accordingly\n",
        "\n",
        "# Train the pipeline with your few-shot data\n",
        "#\n",
        "#########################################################\n",
        "################ to  stop overfittinng ####################\n",
        "############################################################\n",
        "# for text, label in zip(few_shot_texts, few_shot_labels):\n",
        "#     few_shot_pipeline(text)\n",
        "#\n",
        "#\n",
        "#\n",
        "#\n",
        "# Ask the user for input and predict\n",
        "user_input = input(\"Enter a statement: \")\n",
        "\n",
        "result = few_shot_pipeline(user_input)\n",
        "\n",
        "# Extract the predicted label from the result\n",
        "predicted_label = result[0]['label']\n",
        "predicted_score = result[0]['score']\n",
        "\n",
        "print(\"Predicted label:\", predicted_label)\n",
        "print(\"Predicted score:\", predicted_score)\n",
        "label_map = {\n",
        "    \"LABEL_0\": \"Negative\",\n",
        "    \"LABEL_1\": \"Neutral\",\n",
        "    \"LABEL_2\": \"Positive\"\n",
        "}\n",
        "\n",
        "predicted_sentiment = label_map.get(predicted_label, \"Unknown\")\n",
        "print(\"Predicted sentiment:\", predicted_sentiment)\n",
        "\n"
      ]
    },
    {
      "cell_type": "code",
      "execution_count": null,
      "metadata": {
        "id": "V2JHOy-xsD_p"
      },
      "outputs": [],
      "source": [
        "# # Define the path to save the model (including the filename with the .pth extension)\n",
        "# save_model_path = \"/content/drive/MyDrive/Final_Bert/fewshoted_model.pth\"\n",
        "\n",
        "# # Save the model's state_dict() to a .pth file\n",
        "# torch.save(model.state_dict(), save_model_path)\n"
      ]
    },
    {
      "cell_type": "code",
      "execution_count": null,
      "metadata": {
        "id": "y_ItO0-Uz56P"
      },
      "outputs": [],
      "source": [
        "# # Define the directory path where you want to save your model\n",
        "# save_model_path = \"/content/drive/MyDrive/Final_Bert/Final_Bert_fewshot\"\n",
        "\n",
        "# # Save the model and tokenizer (optional) using the save_pretrained() method\n",
        "# model.save_pretrained(save_model_path)\n"
      ]
    },
    {
      "cell_type": "code",
      "execution_count": null,
      "metadata": {
        "colab": {
          "base_uri": "https://localhost:8080/"
        },
        "id": "vWqM5K9Psg8w",
        "outputId": "bd1f2e6b-9c80-455b-84d0-b888412e769b"
      },
      "outputs": [
        {
          "name": "stderr",
          "output_type": "stream",
          "text": [
            "Some weights of BertForSequenceClassification were not initialized from the model checkpoint at bert-base-uncased and are newly initialized: ['classifier.bias', 'classifier.weight']\n",
            "You should probably TRAIN this model on a down-stream task to be able to use it for predictions and inference.\n"
          ]
        },
        {
          "data": {
            "text/plain": [
              "BertForSequenceClassification(\n",
              "  (bert): BertModel(\n",
              "    (embeddings): BertEmbeddings(\n",
              "      (word_embeddings): Embedding(30522, 768, padding_idx=0)\n",
              "      (position_embeddings): Embedding(512, 768)\n",
              "      (token_type_embeddings): Embedding(2, 768)\n",
              "      (LayerNorm): LayerNorm((768,), eps=1e-12, elementwise_affine=True)\n",
              "      (dropout): Dropout(p=0.1, inplace=False)\n",
              "    )\n",
              "    (encoder): BertEncoder(\n",
              "      (layer): ModuleList(\n",
              "        (0-11): 12 x BertLayer(\n",
              "          (attention): BertAttention(\n",
              "            (self): BertSelfAttention(\n",
              "              (query): Linear(in_features=768, out_features=768, bias=True)\n",
              "              (key): Linear(in_features=768, out_features=768, bias=True)\n",
              "              (value): Linear(in_features=768, out_features=768, bias=True)\n",
              "              (dropout): Dropout(p=0.1, inplace=False)\n",
              "            )\n",
              "            (output): BertSelfOutput(\n",
              "              (dense): Linear(in_features=768, out_features=768, bias=True)\n",
              "              (LayerNorm): LayerNorm((768,), eps=1e-12, elementwise_affine=True)\n",
              "              (dropout): Dropout(p=0.1, inplace=False)\n",
              "            )\n",
              "          )\n",
              "          (intermediate): BertIntermediate(\n",
              "            (dense): Linear(in_features=768, out_features=3072, bias=True)\n",
              "            (intermediate_act_fn): GELUActivation()\n",
              "          )\n",
              "          (output): BertOutput(\n",
              "            (dense): Linear(in_features=3072, out_features=768, bias=True)\n",
              "            (LayerNorm): LayerNorm((768,), eps=1e-12, elementwise_affine=True)\n",
              "            (dropout): Dropout(p=0.1, inplace=False)\n",
              "          )\n",
              "        )\n",
              "      )\n",
              "    )\n",
              "    (pooler): BertPooler(\n",
              "      (dense): Linear(in_features=768, out_features=768, bias=True)\n",
              "      (activation): Tanh()\n",
              "    )\n",
              "  )\n",
              "  (dropout): Dropout(p=0.1, inplace=False)\n",
              "  (classifier): Linear(in_features=768, out_features=3, bias=True)\n",
              ")"
            ]
          },
          "execution_count": 8,
          "metadata": {},
          "output_type": "execute_result"
        }
      ],
      "source": [
        "from transformers import BertTokenizer, BertForSequenceClassification, AdamW\n",
        "\n",
        "tokenizer = BertTokenizer.from_pretrained('bert-base-uncased')\n",
        "num_classes = len(df['sentiment'].unique())  # Assuming labels are integers\n",
        "\n",
        "model_path = '/content/drive/MyDrive/Final_Bert/fewshoted_model.pth'\n",
        "model = BertForSequenceClassification.from_pretrained('bert-base-uncased', num_labels=num_classes)\n",
        "model.load_state_dict(torch.load(model_path, map_location=torch.device('cuda' if torch.cuda.is_available() else 'cpu')))\n",
        "model.eval()  # Set the model to evaluation mode\n"
      ]
    },
    {
      "cell_type": "code",
      "execution_count": null,
      "metadata": {
        "colab": {
          "base_uri": "https://localhost:8080/"
        },
        "id": "rz77wUwhZ-xZ",
        "outputId": "706aca8f-e03d-4721-a112-d17079ec1575"
      },
      "outputs": [
        {
          "name": "stdout",
          "output_type": "stream",
          "text": [
            "      True Label  Predicted Label\n",
            "0              1                1\n",
            "1              1                1\n",
            "2              2                2\n",
            "3              2                2\n",
            "4              1                1\n",
            "...          ...              ...\n",
            "1164           1                1\n",
            "1165           1                1\n",
            "1166           1                1\n",
            "1167           0                1\n",
            "1168           1                1\n",
            "\n",
            "[1169 rows x 2 columns]\n"
          ]
        }
      ],
      "source": [
        "import pandas as pd\n",
        "\n",
        "# Define a list to store data\n",
        "data = []\n",
        "\n",
        "# Evaluate the model on the validation dataset and store data\n",
        "model.eval()\n",
        "with torch.no_grad():\n",
        "    for batch in val_loader:\n",
        "        input_ids = batch['input_ids'].to(device)\n",
        "        attention_mask = batch['attention_mask'].to(device)\n",
        "        labels = batch['labels'].to(device)  # Assuming labels are also tensors\n",
        "\n",
        "        # Move model to the same device as input tensors\n",
        "        model = model.to(device)\n",
        "\n",
        "        # Make predictions\n",
        "        outputs = model(input_ids, attention_mask=attention_mask)\n",
        "        _, preds = torch.max(outputs.logits, dim=1)\n",
        "\n",
        "        # Append data to the list\n",
        "        for i, label in enumerate(labels):  # Iterate over labels directly\n",
        "            true_label = label.item()\n",
        "            predicted_label = preds[i].item()\n",
        "            data.append((true_label, predicted_label))\n",
        "\n",
        "# Create a DataFrame\n",
        "df_validation = pd.DataFrame(data, columns=['True Label', 'Predicted Label'])\n",
        "\n",
        "# Display the DataFrame\n",
        "print(df_validation)\n",
        "\n",
        "# Save the DataFrame to a CSV file\n",
        "df_validation.to_csv('your_file.csv', index=False)  # index=False prevents writing row indices\n"
      ]
    },
    {
      "cell_type": "code",
      "execution_count": null,
      "metadata": {
        "colab": {
          "base_uri": "https://localhost:8080/"
        },
        "id": "4d9dj_lAaGg4",
        "outputId": "e7f7299f-726c-4e75-b773-d0160edf632c"
      },
      "outputs": [
        {
          "name": "stdout",
          "output_type": "stream",
          "text": [
            "CSV file saved to: /content/drive/MyDrive/Final_Bert/your_file.csv\n"
          ]
        }
      ],
      "source": [
        "import os\n",
        "\n",
        "# Define the directory where you want to save the CSV file\n",
        "save_directory = '/content/drive/MyDrive/Final_Bert'\n",
        "\n",
        "# Ensure the directory exists, create it if necessary\n",
        "os.makedirs(save_directory, exist_ok=True)\n",
        "\n",
        "# Define the file path\n",
        "csv_file_path = os.path.join(save_directory, 'your_file.csv')\n",
        "\n",
        "# Save the DataFrame to a CSV file\n",
        "df_validation.to_csv(csv_file_path, index=False)  # index=False prevents writing row indices\n",
        "\n",
        "print(f\"CSV file saved to: {csv_file_path}\")\n"
      ]
    },
    {
      "cell_type": "markdown",
      "metadata": {
        "id": "tnsC3FXkbaeC"
      },
      "source": [
        "# Overall Evaluation"
      ]
    },
    {
      "cell_type": "code",
      "execution_count": null,
      "metadata": {
        "colab": {
          "base_uri": "https://localhost:8080/"
        },
        "id": "byxUCwfyaMEU",
        "outputId": "d0d8661f-f3cc-44dd-978a-ecb4ab1de933"
      },
      "outputs": [
        {
          "name": "stdout",
          "output_type": "stream",
          "text": [
            "Accuracy: 0.8776732249786142\n",
            "Precision: 0.8766332065974555\n",
            "Recall: 0.8776732249786142\n",
            "F1-score: 0.8771117412005065\n"
          ]
        }
      ],
      "source": [
        "from sklearn.metrics import accuracy_score, precision_score, recall_score, f1_score, confusion_matrix\n",
        "import pandas as pd\n",
        "\n",
        "# Assuming you have loaded your dataset into a pandas DataFrame\n",
        "# Replace 'data.csv' with the path to your actual dataset\n",
        "df = pd.read_csv(r\"/content/drive/MyDrive/Final_Bert/your_file.csv\")\n",
        "\n",
        "# Extract true labels and predicted labels from the DataFrame\n",
        "true_labels = df['True Label']\n",
        "predicted_labels = df['Predicted Label']\n",
        "\n",
        "# Calculate accuracy\n",
        "accuracy = accuracy_score(true_labels, predicted_labels)\n",
        "print(\"Accuracy:\", accuracy)\n",
        "\n",
        "# Calculate precision\n",
        "precision = precision_score(true_labels, predicted_labels, average='weighted')\n",
        "print(\"Precision:\", precision)\n",
        "\n",
        "# Calculate recall\n",
        "recall = recall_score(true_labels, predicted_labels, average='weighted')\n",
        "print(\"Recall:\", recall)\n",
        "\n",
        "# Calculate F1-score\n",
        "f1 = f1_score(true_labels, predicted_labels, average='weighted')\n",
        "print(\"F1-score:\", f1)\n",
        "\n",
        "\n"
      ]
    },
    {
      "cell_type": "markdown",
      "metadata": {
        "id": "jW6arE2ZbX6L"
      },
      "source": [
        "# Confusion Matrix"
      ]
    },
    {
      "cell_type": "code",
      "execution_count": null,
      "metadata": {
        "colab": {
          "base_uri": "https://localhost:8080/"
        },
        "id": "yyA9oR-jaOYI",
        "outputId": "b7aaa01c-bd7a-4ada-b748-b23583cbe908"
      },
      "outputs": [
        {
          "name": "stdout",
          "output_type": "stream",
          "text": [
            "Confusion Matrix:\n",
            "          Predicted 0  Predicted 1  Predicted 2\n",
            "Actual 0          110           46            9\n",
            "Actual 1           45          558           20\n",
            "Actual 2            5           18          358\n"
          ]
        }
      ],
      "source": [
        "import pandas as pd\n",
        "from sklearn.metrics import confusion_matrix\n",
        "\n",
        "\n",
        "# Extract true labels and predicted labels from the DataFrame\n",
        "true_labels = df['True Label']\n",
        "predicted_labels = df['Predicted Label']\n",
        "\n",
        "# Get unique labels\n",
        "labels = sorted(set(true_labels) | set(predicted_labels))\n",
        "\n",
        "# Calculate confusion matrix\n",
        "conf_matrix = confusion_matrix(true_labels, predicted_labels, labels=labels)\n",
        "\n",
        "# Create a DataFrame for the confusion matrix with headers\n",
        "confusion_df = pd.DataFrame(conf_matrix, index=['Actual ' + str(label) for label in labels], columns=['Predicted ' + str(label) for label in labels])\n",
        "print(\"Confusion Matrix:\")\n",
        "print(confusion_df)\n"
      ]
    },
    {
      "cell_type": "markdown",
      "metadata": {
        "id": "OwhVjDYebQxJ"
      },
      "source": [
        "# Evaluation-Positive class"
      ]
    },
    {
      "cell_type": "code",
      "execution_count": null,
      "metadata": {
        "colab": {
          "base_uri": "https://localhost:8080/"
        },
        "id": "9LZrEQuVaTsg",
        "outputId": "033d3ba5-b832-4bb7-a146-c474baec85d5"
      },
      "outputs": [
        {
          "name": "stdout",
          "output_type": "stream",
          "text": [
            "Accuracy for +ve class: 0.9555175363558597\n",
            "Recall for +ve class: 0.9396325459317585\n",
            "Precision for +ve class: 0.9250645994832042\n",
            "F1-score for +ve class: 0.9322916666666666\n"
          ]
        }
      ],
      "source": [
        "# Calculate the index for the positive class\n",
        "positive_class_index = labels.index(2)\n",
        "\n",
        "# Calculate true positives, false positives, false negatives for the positive class\n",
        "tp_positive = conf_matrix[positive_class_index, positive_class_index]\n",
        "fp_positive = conf_matrix[:, positive_class_index].sum() - tp_positive\n",
        "fn_positive = conf_matrix[positive_class_index, :].sum() - tp_positive\n",
        "tn_positive = conf_matrix.sum() - (tp_positive + fp_positive + fn_positive)\n",
        "\n",
        "# Calculate precision, recall, and F1-score for the positive class\n",
        "precision_positive = tp_positive / (tp_positive + fp_positive)\n",
        "recall_positive = tp_positive / (tp_positive + fn_positive)\n",
        "f1_positive = 2 * (precision_positive * recall_positive) / (precision_positive + recall_positive)\n",
        "accuracy_positive = (tp_positive + tn_positive) / (tp_positive + tn_positive + fp_positive + fn_positive)\n",
        "\n",
        "# Print the scores for the positive class\n",
        "print(\"Accuracy for +ve class:\", accuracy_positive)\n",
        "print(\"Recall for +ve class:\", recall_positive)\n",
        "print(\"Precision for +ve class:\", precision_positive)\n",
        "print(\"F1-score for +ve class:\", f1_positive)\n"
      ]
    },
    {
      "cell_type": "markdown",
      "metadata": {
        "id": "OqdHjLkdbGrj"
      },
      "source": [
        "# Evaluation-Neutral class"
      ]
    },
    {
      "cell_type": "code",
      "execution_count": null,
      "metadata": {
        "colab": {
          "base_uri": "https://localhost:8080/"
        },
        "id": "vSZsTYehaaSg",
        "outputId": "f427c19e-89cf-41d7-b100-d16d4c726920"
      },
      "outputs": [
        {
          "name": "stdout",
          "output_type": "stream",
          "text": [
            "Accuracy for neutral class (1): 0.8896492728828058\n",
            "Recall for neutral class (1): 0.8956661316211878\n",
            "Precision for neutral class (1): 0.8971061093247589\n",
            "F1-score for neutral class (1): 0.8963855421686748\n"
          ]
        }
      ],
      "source": [
        "# Calculate the index for the positive class (class 1)\n",
        "positive_class_index = labels.index(1)\n",
        "\n",
        "# Calculate true positives, false positives, false negatives for the positive class\n",
        "tp_positive = conf_matrix[positive_class_index, positive_class_index]\n",
        "fp_positive = conf_matrix[:, positive_class_index].sum() - tp_positive\n",
        "fn_positive = conf_matrix[positive_class_index, :].sum() - tp_positive\n",
        "\n",
        "# Calculate true negatives for the positive class (considering classes 0 and 2 as negative)\n",
        "tn_positive = conf_matrix.sum() - (tp_positive + fp_positive + fn_positive)\n",
        "\n",
        "# Calculate precision, recall, and F1-score for the positive class\n",
        "precision_positive = tp_positive / (tp_positive + fp_positive)\n",
        "recall_positive = tp_positive / (tp_positive + fn_positive)\n",
        "f1_positive = 2 * (precision_positive * recall_positive) / (precision_positive + recall_positive)\n",
        "accuracy_positive = (tp_positive + tn_positive) / (tp_positive + tn_positive + fp_positive + fn_positive)\n",
        "\n",
        "# Print the scores for the positive class\n",
        "print(\"Accuracy for neutral class (1):\", accuracy_positive)\n",
        "print(\"Recall for neutral class (1):\", recall_positive)\n",
        "print(\"Precision for neutral class (1):\", precision_positive)\n",
        "print(\"F1-score for neutral class (1):\", f1_positive)\n"
      ]
    },
    {
      "cell_type": "markdown",
      "metadata": {
        "id": "JaGHMj-vbMRb"
      },
      "source": [
        "# Evaluation-Negative class"
      ]
    },
    {
      "cell_type": "code",
      "execution_count": null,
      "metadata": {
        "colab": {
          "base_uri": "https://localhost:8080/"
        },
        "id": "RhFY-P0eae_r",
        "outputId": "ebdaaec0-9820-4e1f-c8ae-2d19b283be80"
      },
      "outputs": [
        {
          "name": "stdout",
          "output_type": "stream",
          "text": [
            "Accuracy for class : 0.9101796407185628\n",
            "Recall for class : 0.6666666666666666\n",
            "Precision for class : 0.6875\n",
            "F1-score for class 0 : 0.676923076923077\n"
          ]
        }
      ],
      "source": [
        "# Calculate the index for the positive class (class 0)\n",
        "positive_class_index = labels.index(0)\n",
        "\n",
        "# Calculate true positives, false positives, false negatives for the positive class\n",
        "tp_positive = conf_matrix[positive_class_index, positive_class_index]\n",
        "fp_positive = conf_matrix[:, positive_class_index].sum() - tp_positive\n",
        "fn_positive = conf_matrix[positive_class_index, :].sum() - tp_positive\n",
        "\n",
        "# Calculate true negatives for the positive class (considering classes 1 and 2 as negative)\n",
        "tn_positive = conf_matrix.sum() - (tp_positive + fp_positive + fn_positive)\n",
        "\n",
        "# Calculate precision, recall, and F1-score for the positive class\n",
        "precision_positive = tp_positive / (tp_positive + fp_positive)\n",
        "recall_positive = tp_positive / (tp_positive + fn_positive)\n",
        "f1_positive = 2 * (precision_positive * recall_positive) / (precision_positive + recall_positive)\n",
        "accuracy_positive = (tp_positive + tn_positive) / (tp_positive + tn_positive + fp_positive + fn_positive)\n",
        "\n",
        "# Print the scores for the positive class\n",
        "print(\"Accuracy for class :\", accuracy_positive)\n",
        "print(\"Recall for class :\", recall_positive)\n",
        "print(\"Precision for class :\", precision_positive)\n",
        "print(\"F1-score for class 0 :\", f1_positive)\n"
      ]
    },
    {
      "cell_type": "markdown",
      "metadata": {
        "id": "4x8tHNpubCa1"
      },
      "source": [
        "# ROC-AUC"
      ]
    },
    {
      "cell_type": "code",
      "execution_count": null,
      "metadata": {
        "colab": {
          "base_uri": "https://localhost:8080/",
          "height": 564
        },
        "id": "XMbVS0VSag35",
        "outputId": "53d621cd-b44b-4a5a-bc57-cdd29a133f0b"
      },
      "outputs": [
        {
          "data": {
            "image/png": "[encoded data removed]",
            "text/plain": [
              "<Figure size 800x600 with 1 Axes>"
            ]
          },
          "metadata": {},
          "output_type": "display_data"
        }
      ],
      "source": [
        "from sklearn.metrics import roc_curve, roc_auc_score\n",
        "import matplotlib.pyplot as plt\n",
        "\n",
        "# Compute the ROC curve for each class\n",
        "fpr = {}\n",
        "tpr = {}\n",
        "roc_auc = {}\n",
        "\n",
        "for i in range(len(labels)):\n",
        "    fpr[i], tpr[i], _ = roc_curve(true_labels == i, predicted_labels == i)\n",
        "    roc_auc[i] = roc_auc_score(true_labels == i, predicted_labels == i)\n",
        "\n",
        "# Plot the ROC curves\n",
        "plt.figure(figsize=(8, 6))\n",
        "for i in range(len(labels)):\n",
        "    plt.plot(fpr[i], tpr[i], label=f'ROC curve (class {i}) (AUC = {roc_auc[i]:0.2f})')\n",
        "\n",
        "plt.plot([0, 1], [0, 1], color='gray', linestyle='--')\n",
        "plt.xlim([0.0, 1.0])\n",
        "plt.ylim([0.0, 1.05])\n",
        "plt.xlabel('False Positive Rate')\n",
        "plt.ylabel('True Positive Rate')\n",
        "plt.title('Receiver Operating Characteristic (ROC) Curve')\n",
        "plt.legend(loc='lower right')\n",
        "plt.show()\n",
        "\n"
      ]
    },
    {
      "cell_type": "markdown",
      "metadata": {
        "id": "PfxzuRAta7q_"
      },
      "source": [
        "# Validation dataset-distribution"
      ]
    },
    {
      "cell_type": "code",
      "execution_count": null,
      "metadata": {
        "colab": {
          "base_uri": "https://localhost:8080/",
          "height": 564
        },
        "id": "m_c0RQ6dajKW",
        "outputId": "dc61c797-62f5-4800-f09c-d3d5f36c1808"
      },
      "outputs": [
        {
          "data": {
            "image/png": "[encoded data removed]",
            "text/plain": [
              "<Figure size 800x600 with 1 Axes>"
            ]
          },
          "metadata": {},
          "output_type": "display_data"
        }
      ],
      "source": [
        "import matplotlib.pyplot as plt\n",
        "\n",
        "# Count the frequency of each class label\n",
        "label_counts = df['True Label'].value_counts()\n",
        "\n",
        "# Plot the histogram\n",
        "plt.figure(figsize=(8, 6))\n",
        "plt.bar(label_counts.index, label_counts.values, color='skyblue')\n",
        "plt.xlabel('Class Label')\n",
        "plt.ylabel('Frequency')\n",
        "plt.title('Distribution of Class Labels')\n",
        "plt.xticks(label_counts.index)  # Ensure all class labels are shown on the x-axis\n",
        "plt.show()\n"
      ]
    },
    {
      "cell_type": "markdown",
      "metadata": {
        "id": "9Obbcbdza3fk"
      },
      "source": [
        "# # complete dataset distribution"
      ]
    },
    {
      "cell_type": "code",
      "execution_count": null,
      "metadata": {
        "colab": {
          "base_uri": "https://localhost:8080/",
          "height": 564
        },
        "id": "r4iPg6t2amRo",
        "outputId": "a6bf0b13-7758-4548-cf72-2b71df246ca1"
      },
      "outputs": [
        {
          "data": {
            "image/png": "[encoded data removed]",
            "text/plain": [
              "<Figure size 800x600 with 1 Axes>"
            ]
          },
          "metadata": {},
          "output_type": "display_data"
        }
      ],
      "source": [
        "import torch\n",
        "import pandas as pd\n",
        "from torch.utils.data import DataLoader, Dataset\n",
        "from tqdm import tqdm\n",
        "\n",
        "# Read the CSV file with a different encoding\n",
        "dff = pd.read_csv(r\"/content/drive/MyDrive/Final_Bert/data.csv\", names=[\"sentence\", 'sentiment'], encoding='ISO-8859-1')\n",
        "\n",
        "# Define the mapping for sentiment labels\n",
        "sentiment_map = {\n",
        "    'positive': 2,\n",
        "    'negative': 0,\n",
        "    'neutral': 1\n",
        "}\n",
        "dff['sentiment'] = dff['sentiment'].map(sentiment_map)\n",
        "\n",
        "# Drop rows with NaN values in the 'sentiment' column\n",
        "dff = dff.dropna(subset=['sentiment'])\n",
        "\n",
        "# Apply the mapping to the 'sentiment' column in the DataFrame\n",
        "dff['sentiment'] = dff['sentiment'].astype(int)\n",
        "\n",
        "\n",
        "label_counts = dff['sentiment'].value_counts()\n",
        "\n",
        "# Plot the histogram\n",
        "plt.figure(figsize=(8, 6))\n",
        "plt.bar(label_counts.index, label_counts.values, color='skyblue')\n",
        "plt.xlabel('Class Label')\n",
        "plt.ylabel('Frequency')\n",
        "plt.title('Distribution of Class Labels')\n",
        "plt.xticks(label_counts.index)  # Ensure all class labels are shown on the x-axis\n",
        "plt.show()\n"
      ]
    },
    {
      "cell_type": "code",
      "execution_count": null,
      "metadata": {
        "id": "yePhhwHGas5s"
      },
      "outputs": [],
      "source": []
    }
  ],
  "metadata": {
    "accelerator": "GPU",
    "colab": {
      "gpuType": "T4",
      "provenance": []
    },
    "kernelspec": {
      "display_name": "Python 3",
      "name": "python3"
    },
    "language_info": {
      "codemirror_mode": {
        "name": "ipython",
        "version": 3
      },
      "file_extension": ".py",
      "mimetype": "text/x-python",
      "name": "python",
      "nbconvert_exporter": "python",
      "pygments_lexer": "ipython3",
      "version": "3.11.9"
    },
    "widgets": {
      "application/vnd.jupyter.widget-state+json": {
        "00317796d06a43e7b61596a24c903907": {
          "model_module": "@jupyter-widgets/controls",
          "model_module_version": "1.5.0",
          "model_name": "HTMLModel",
          "state": {
            "_dom_classes": [],
            "_model_module": "@jupyter-widgets/controls",
            "_model_module_version": "1.5.0",
            "_model_name": "HTMLModel",
            "_view_count": null,
            "_view_module": "@jupyter-widgets/controls",
            "_view_module_version": "1.5.0",
            "_view_name": "HTMLView",
            "description": "",
            "description_tooltip": null,
            "layout": "IPY_MODEL_1e4e699f1d8a41cbbc40225112a0b823",
            "placeholder": "​",
            "style": "IPY_MODEL_6cc8cb4ff70b4d1ea579118c52881a65",
            "value": "vocab.txt: 100%"
          }
        },
        "029adc8186f04d27bdf74e01776adbad": {
          "model_module": "@jupyter-widgets/controls",
          "model_module_version": "1.5.0",
          "model_name": "ProgressStyleModel",
          "state": {
            "_model_module": "@jupyter-widgets/controls",
            "_model_module_version": "1.5.0",
            "_model_name": "ProgressStyleModel",
            "_view_count": null,
            "_view_module": "@jupyter-widgets/base",
            "_view_module_version": "1.2.0",
            "_view_name": "StyleView",
            "bar_color": null,
            "description_width": ""
          }
        },
        "03cab8617ec044a8b5237eb467a937c0": {
          "model_module": "@jupyter-widgets/base",
          "model_module_version": "1.2.0",
          "model_name": "LayoutModel",
          "state": {
            "_model_module": "@jupyter-widgets/base",
            "_model_module_version": "1.2.0",
            "_model_name": "LayoutModel",
            "_view_count": null,
            "_view_module": "@jupyter-widgets/base",
            "_view_module_version": "1.2.0",
            "_view_name": "LayoutView",
            "align_content": null,
            "align_items": null,
            "align_self": null,
            "border": null,
            "bottom": null,
            "display": null,
            "flex": null,
            "flex_flow": null,
            "grid_area": null,
            "grid_auto_columns": null,
            "grid_auto_flow": null,
            "grid_auto_rows": null,
            "grid_column": null,
            "grid_gap": null,
            "grid_row": null,
            "grid_template_areas": null,
            "grid_template_columns": null,
            "grid_template_rows": null,
            "height": null,
            "justify_content": null,
            "justify_items": null,
            "left": null,
            "margin": null,
            "max_height": null,
            "max_width": null,
            "min_height": null,
            "min_width": null,
            "object_fit": null,
            "object_position": null,
            "order": null,
            "overflow": null,
            "overflow_x": null,
            "overflow_y": null,
            "padding": null,
            "right": null,
            "top": null,
            "visibility": null,
            "width": null
          }
        },
        "05cba170a6e84fafa286fce6d314766e": {
          "model_module": "@jupyter-widgets/base",
          "model_module_version": "1.2.0",
          "model_name": "LayoutModel",
          "state": {
            "_model_module": "@jupyter-widgets/base",
            "_model_module_version": "1.2.0",
            "_model_name": "LayoutModel",
            "_view_count": null,
            "_view_module": "@jupyter-widgets/base",
            "_view_module_version": "1.2.0",
            "_view_name": "LayoutView",
            "align_content": null,
            "align_items": null,
            "align_self": null,
            "border": null,
            "bottom": null,
            "display": null,
            "flex": null,
            "flex_flow": null,
            "grid_area": null,
            "grid_auto_columns": null,
            "grid_auto_flow": null,
            "grid_auto_rows": null,
            "grid_column": null,
            "grid_gap": null,
            "grid_row": null,
            "grid_template_areas": null,
            "grid_template_columns": null,
            "grid_template_rows": null,
            "height": null,
            "justify_content": null,
            "justify_items": null,
            "left": null,
            "margin": null,
            "max_height": null,
            "max_width": null,
            "min_height": null,
            "min_width": null,
            "object_fit": null,
            "object_position": null,
            "order": null,
            "overflow": null,
            "overflow_x": null,
            "overflow_y": null,
            "padding": null,
            "right": null,
            "top": null,
            "visibility": null,
            "width": null
          }
        },
        "0681822be22542f4b9bcfe7603b008d1": {
          "model_module": "@jupyter-widgets/controls",
          "model_module_version": "1.5.0",
          "model_name": "HBoxModel",
          "state": {
            "_dom_classes": [],
            "_model_module": "@jupyter-widgets/controls",
            "_model_module_version": "1.5.0",
            "_model_name": "HBoxModel",
            "_view_count": null,
            "_view_module": "@jupyter-widgets/controls",
            "_view_module_version": "1.5.0",
            "_view_name": "HBoxView",
            "box_style": "",
            "children": [
              "IPY_MODEL_3e6c9282eaa0411daf47f5b62327240f",
              "IPY_MODEL_3b45e391edb54562b38931a65cc39678",
              "IPY_MODEL_bae5f01778ce4e4d8fcbe465896a2c92"
            ],
            "layout": "IPY_MODEL_c6cb2c7a1c4e40f6a22b5817f99cbd16"
          }
        },
        "0c669369289e442698ae58c4f1368a02": {
          "model_module": "@jupyter-widgets/controls",
          "model_module_version": "1.5.0",
          "model_name": "HTMLModel",
          "state": {
            "_dom_classes": [],
            "_model_module": "@jupyter-widgets/controls",
            "_model_module_version": "1.5.0",
            "_model_name": "HTMLModel",
            "_view_count": null,
            "_view_module": "@jupyter-widgets/controls",
            "_view_module_version": "1.5.0",
            "_view_name": "HTMLView",
            "description": "",
            "description_tooltip": null,
            "layout": "IPY_MODEL_61252adaa28248088d62d6cd125f2004",
            "placeholder": "​",
            "style": "IPY_MODEL_ab694abd134c475aa1bef08f25305e49",
            "value": " 232k/232k [00:00&lt;00:00, 4.67MB/s]"
          }
        },
        "119a58381bea4f37987b4b99c2a28932": {
          "model_module": "@jupyter-widgets/base",
          "model_module_version": "1.2.0",
          "model_name": "LayoutModel",
          "state": {
            "_model_module": "@jupyter-widgets/base",
            "_model_module_version": "1.2.0",
            "_model_name": "LayoutModel",
            "_view_count": null,
            "_view_module": "@jupyter-widgets/base",
            "_view_module_version": "1.2.0",
            "_view_name": "LayoutView",
            "align_content": null,
            "align_items": null,
            "align_self": null,
            "border": null,
            "bottom": null,
            "display": null,
            "flex": null,
            "flex_flow": null,
            "grid_area": null,
            "grid_auto_columns": null,
            "grid_auto_flow": null,
            "grid_auto_rows": null,
            "grid_column": null,
            "grid_gap": null,
            "grid_row": null,
            "grid_template_areas": null,
            "grid_template_columns": null,
            "grid_template_rows": null,
            "height": null,
            "justify_content": null,
            "justify_items": null,
            "left": null,
            "margin": null,
            "max_height": null,
            "max_width": null,
            "min_height": null,
            "min_width": null,
            "object_fit": null,
            "object_position": null,
            "order": null,
            "overflow": null,
            "overflow_x": null,
            "overflow_y": null,
            "padding": null,
            "right": null,
            "top": null,
            "visibility": null,
            "width": null
          }
        },
        "18c92d50104241759affea847a8738d6": {
          "model_module": "@jupyter-widgets/controls",
          "model_module_version": "1.5.0",
          "model_name": "HTMLModel",
          "state": {
            "_dom_classes": [],
            "_model_module": "@jupyter-widgets/controls",
            "_model_module_version": "1.5.0",
            "_model_name": "HTMLModel",
            "_view_count": null,
            "_view_module": "@jupyter-widgets/controls",
            "_view_module_version": "1.5.0",
            "_view_name": "HTMLView",
            "description": "",
            "description_tooltip": null,
            "layout": "IPY_MODEL_ff38581f582c4935b4a2bb1e617645b8",
            "placeholder": "​",
            "style": "IPY_MODEL_36b65d4305464e28904586467d7e74e4",
            "value": "model.safetensors: 100%"
          }
        },
        "1e4e699f1d8a41cbbc40225112a0b823": {
          "model_module": "@jupyter-widgets/base",
          "model_module_version": "1.2.0",
          "model_name": "LayoutModel",
          "state": {
            "_model_module": "@jupyter-widgets/base",
            "_model_module_version": "1.2.0",
            "_model_name": "LayoutModel",
            "_view_count": null,
            "_view_module": "@jupyter-widgets/base",
            "_view_module_version": "1.2.0",
            "_view_name": "LayoutView",
            "align_content": null,
            "align_items": null,
            "align_self": null,
            "border": null,
            "bottom": null,
            "display": null,
            "flex": null,
            "flex_flow": null,
            "grid_area": null,
            "grid_auto_columns": null,
            "grid_auto_flow": null,
            "grid_auto_rows": null,
            "grid_column": null,
            "grid_gap": null,
            "grid_row": null,
            "grid_template_areas": null,
            "grid_template_columns": null,
            "grid_template_rows": null,
            "height": null,
            "justify_content": null,
            "justify_items": null,
            "left": null,
            "margin": null,
            "max_height": null,
            "max_width": null,
            "min_height": null,
            "min_width": null,
            "object_fit": null,
            "object_position": null,
            "order": null,
            "overflow": null,
            "overflow_x": null,
            "overflow_y": null,
            "padding": null,
            "right": null,
            "top": null,
            "visibility": null,
            "width": null
          }
        },
        "1fe7b90583eb4f278aab083d6f9f0eb2": {
          "model_module": "@jupyter-widgets/base",
          "model_module_version": "1.2.0",
          "model_name": "LayoutModel",
          "state": {
            "_model_module": "@jupyter-widgets/base",
            "_model_module_version": "1.2.0",
            "_model_name": "LayoutModel",
            "_view_count": null,
            "_view_module": "@jupyter-widgets/base",
            "_view_module_version": "1.2.0",
            "_view_name": "LayoutView",
            "align_content": null,
            "align_items": null,
            "align_self": null,
            "border": null,
            "bottom": null,
            "display": null,
            "flex": null,
            "flex_flow": null,
            "grid_area": null,
            "grid_auto_columns": null,
            "grid_auto_flow": null,
            "grid_auto_rows": null,
            "grid_column": null,
            "grid_gap": null,
            "grid_row": null,
            "grid_template_areas": null,
            "grid_template_columns": null,
            "grid_template_rows": null,
            "height": null,
            "justify_content": null,
            "justify_items": null,
            "left": null,
            "margin": null,
            "max_height": null,
            "max_width": null,
            "min_height": null,
            "min_width": null,
            "object_fit": null,
            "object_position": null,
            "order": null,
            "overflow": null,
            "overflow_x": null,
            "overflow_y": null,
            "padding": null,
            "right": null,
            "top": null,
            "visibility": null,
            "width": null
          }
        },
        "205e1568c5984b73944867148dce7ea3": {
          "model_module": "@jupyter-widgets/base",
          "model_module_version": "1.2.0",
          "model_name": "LayoutModel",
          "state": {
            "_model_module": "@jupyter-widgets/base",
            "_model_module_version": "1.2.0",
            "_model_name": "LayoutModel",
            "_view_count": null,
            "_view_module": "@jupyter-widgets/base",
            "_view_module_version": "1.2.0",
            "_view_name": "LayoutView",
            "align_content": null,
            "align_items": null,
            "align_self": null,
            "border": null,
            "bottom": null,
            "display": null,
            "flex": null,
            "flex_flow": null,
            "grid_area": null,
            "grid_auto_columns": null,
            "grid_auto_flow": null,
            "grid_auto_rows": null,
            "grid_column": null,
            "grid_gap": null,
            "grid_row": null,
            "grid_template_areas": null,
            "grid_template_columns": null,
            "grid_template_rows": null,
            "height": null,
            "justify_content": null,
            "justify_items": null,
            "left": null,
            "margin": null,
            "max_height": null,
            "max_width": null,
            "min_height": null,
            "min_width": null,
            "object_fit": null,
            "object_position": null,
            "order": null,
            "overflow": null,
            "overflow_x": null,
            "overflow_y": null,
            "padding": null,
            "right": null,
            "top": null,
            "visibility": null,
            "width": null
          }
        },
        "2274b2449c044514bbd82bb1d05ca76a": {
          "model_module": "@jupyter-widgets/base",
          "model_module_version": "1.2.0",
          "model_name": "LayoutModel",
          "state": {
            "_model_module": "@jupyter-widgets/base",
            "_model_module_version": "1.2.0",
            "_model_name": "LayoutModel",
            "_view_count": null,
            "_view_module": "@jupyter-widgets/base",
            "_view_module_version": "1.2.0",
            "_view_name": "LayoutView",
            "align_content": null,
            "align_items": null,
            "align_self": null,
            "border": null,
            "bottom": null,
            "display": null,
            "flex": null,
            "flex_flow": null,
            "grid_area": null,
            "grid_auto_columns": null,
            "grid_auto_flow": null,
            "grid_auto_rows": null,
            "grid_column": null,
            "grid_gap": null,
            "grid_row": null,
            "grid_template_areas": null,
            "grid_template_columns": null,
            "grid_template_rows": null,
            "height": null,
            "justify_content": null,
            "justify_items": null,
            "left": null,
            "margin": null,
            "max_height": null,
            "max_width": null,
            "min_height": null,
            "min_width": null,
            "object_fit": null,
            "object_position": null,
            "order": null,
            "overflow": null,
            "overflow_x": null,
            "overflow_y": null,
            "padding": null,
            "right": null,
            "top": null,
            "visibility": null,
            "width": null
          }
        },
        "22757ec08eee4ca095a3ef76f6cda1b0": {
          "model_module": "@jupyter-widgets/base",
          "model_module_version": "1.2.0",
          "model_name": "LayoutModel",
          "state": {
            "_model_module": "@jupyter-widgets/base",
            "_model_module_version": "1.2.0",
            "_model_name": "LayoutModel",
            "_view_count": null,
            "_view_module": "@jupyter-widgets/base",
            "_view_module_version": "1.2.0",
            "_view_name": "LayoutView",
            "align_content": null,
            "align_items": null,
            "align_self": null,
            "border": null,
            "bottom": null,
            "display": null,
            "flex": null,
            "flex_flow": null,
            "grid_area": null,
            "grid_auto_columns": null,
            "grid_auto_flow": null,
            "grid_auto_rows": null,
            "grid_column": null,
            "grid_gap": null,
            "grid_row": null,
            "grid_template_areas": null,
            "grid_template_columns": null,
            "grid_template_rows": null,
            "height": null,
            "justify_content": null,
            "justify_items": null,
            "left": null,
            "margin": null,
            "max_height": null,
            "max_width": null,
            "min_height": null,
            "min_width": null,
            "object_fit": null,
            "object_position": null,
            "order": null,
            "overflow": null,
            "overflow_x": null,
            "overflow_y": null,
            "padding": null,
            "right": null,
            "top": null,
            "visibility": null,
            "width": null
          }
        },
        "2622d5b88cd3459d90b53f762482e467": {
          "model_module": "@jupyter-widgets/controls",
          "model_module_version": "1.5.0",
          "model_name": "HTMLModel",
          "state": {
            "_dom_classes": [],
            "_model_module": "@jupyter-widgets/controls",
            "_model_module_version": "1.5.0",
            "_model_name": "HTMLModel",
            "_view_count": null,
            "_view_module": "@jupyter-widgets/controls",
            "_view_module_version": "1.5.0",
            "_view_name": "HTMLView",
            "description": "",
            "description_tooltip": null,
            "layout": "IPY_MODEL_81f14c5a460544ab9ff06df68ec3ae66",
            "placeholder": "​",
            "style": "IPY_MODEL_5f27c65d334f4a289e5d84f5852712e6",
            "value": " 466k/466k [00:00&lt;00:00, 22.3MB/s]"
          }
        },
        "2729b314b0964a6da1d5e67b114ea577": {
          "model_module": "@jupyter-widgets/controls",
          "model_module_version": "1.5.0",
          "model_name": "HTMLModel",
          "state": {
            "_dom_classes": [],
            "_model_module": "@jupyter-widgets/controls",
            "_model_module_version": "1.5.0",
            "_model_name": "HTMLModel",
            "_view_count": null,
            "_view_module": "@jupyter-widgets/controls",
            "_view_module_version": "1.5.0",
            "_view_name": "HTMLView",
            "description": "",
            "description_tooltip": null,
            "layout": "IPY_MODEL_205e1568c5984b73944867148dce7ea3",
            "placeholder": "​",
            "style": "IPY_MODEL_66ed221c674142a9b53038dea5366be7",
            "value": "tokenizer.json: 100%"
          }
        },
        "281754faed45470583e7d5ec8c133c11": {
          "model_module": "@jupyter-widgets/controls",
          "model_module_version": "1.5.0",
          "model_name": "ProgressStyleModel",
          "state": {
            "_model_module": "@jupyter-widgets/controls",
            "_model_module_version": "1.5.0",
            "_model_name": "ProgressStyleModel",
            "_view_count": null,
            "_view_module": "@jupyter-widgets/base",
            "_view_module_version": "1.2.0",
            "_view_name": "StyleView",
            "bar_color": null,
            "description_width": ""
          }
        },
        "36b65d4305464e28904586467d7e74e4": {
          "model_module": "@jupyter-widgets/controls",
          "model_module_version": "1.5.0",
          "model_name": "DescriptionStyleModel",
          "state": {
            "_model_module": "@jupyter-widgets/controls",
            "_model_module_version": "1.5.0",
            "_model_name": "DescriptionStyleModel",
            "_view_count": null,
            "_view_module": "@jupyter-widgets/base",
            "_view_module_version": "1.2.0",
            "_view_name": "StyleView",
            "description_width": ""
          }
        },
        "381403c5c8744712bd24d7ccc31acd12": {
          "model_module": "@jupyter-widgets/controls",
          "model_module_version": "1.5.0",
          "model_name": "HBoxModel",
          "state": {
            "_dom_classes": [],
            "_model_module": "@jupyter-widgets/controls",
            "_model_module_version": "1.5.0",
            "_model_name": "HBoxModel",
            "_view_count": null,
            "_view_module": "@jupyter-widgets/controls",
            "_view_module_version": "1.5.0",
            "_view_name": "HBoxView",
            "box_style": "",
            "children": [
              "IPY_MODEL_00317796d06a43e7b61596a24c903907",
              "IPY_MODEL_94ea72bb62f047d0b7943a02df7e1f9e",
              "IPY_MODEL_0c669369289e442698ae58c4f1368a02"
            ],
            "layout": "IPY_MODEL_2274b2449c044514bbd82bb1d05ca76a"
          }
        },
        "3b45e391edb54562b38931a65cc39678": {
          "model_module": "@jupyter-widgets/controls",
          "model_module_version": "1.5.0",
          "model_name": "FloatProgressModel",
          "state": {
            "_dom_classes": [],
            "_model_module": "@jupyter-widgets/controls",
            "_model_module_version": "1.5.0",
            "_model_name": "FloatProgressModel",
            "_view_count": null,
            "_view_module": "@jupyter-widgets/controls",
            "_view_module_version": "1.5.0",
            "_view_name": "ProgressView",
            "bar_style": "success",
            "description": "",
            "description_tooltip": null,
            "layout": "IPY_MODEL_d4ca72b74d0946eeb217234e54dea716",
            "max": 48,
            "min": 0,
            "orientation": "horizontal",
            "style": "IPY_MODEL_029adc8186f04d27bdf74e01776adbad",
            "value": 48
          }
        },
        "3bbb41c3405c4823847494ad4d15016b": {
          "model_module": "@jupyter-widgets/controls",
          "model_module_version": "1.5.0",
          "model_name": "ProgressStyleModel",
          "state": {
            "_model_module": "@jupyter-widgets/controls",
            "_model_module_version": "1.5.0",
            "_model_name": "ProgressStyleModel",
            "_view_count": null,
            "_view_module": "@jupyter-widgets/base",
            "_view_module_version": "1.2.0",
            "_view_name": "StyleView",
            "bar_color": null,
            "description_width": ""
          }
        },
        "3e6c9282eaa0411daf47f5b62327240f": {
          "model_module": "@jupyter-widgets/controls",
          "model_module_version": "1.5.0",
          "model_name": "HTMLModel",
          "state": {
            "_dom_classes": [],
            "_model_module": "@jupyter-widgets/controls",
            "_model_module_version": "1.5.0",
            "_model_name": "HTMLModel",
            "_view_count": null,
            "_view_module": "@jupyter-widgets/controls",
            "_view_module_version": "1.5.0",
            "_view_name": "HTMLView",
            "description": "",
            "description_tooltip": null,
            "layout": "IPY_MODEL_03cab8617ec044a8b5237eb467a937c0",
            "placeholder": "​",
            "style": "IPY_MODEL_b2ca6f109b58491986f77a008768ffe8",
            "value": "tokenizer_config.json: 100%"
          }
        },
        "4428ca2298364764a9dda1e2184c1d4a": {
          "model_module": "@jupyter-widgets/controls",
          "model_module_version": "1.5.0",
          "model_name": "DescriptionStyleModel",
          "state": {
            "_model_module": "@jupyter-widgets/controls",
            "_model_module_version": "1.5.0",
            "_model_name": "DescriptionStyleModel",
            "_view_count": null,
            "_view_module": "@jupyter-widgets/base",
            "_view_module_version": "1.2.0",
            "_view_name": "StyleView",
            "description_width": ""
          }
        },
        "4515214f4a44471ea99867471d90a64c": {
          "model_module": "@jupyter-widgets/controls",
          "model_module_version": "1.5.0",
          "model_name": "ProgressStyleModel",
          "state": {
            "_model_module": "@jupyter-widgets/controls",
            "_model_module_version": "1.5.0",
            "_model_name": "ProgressStyleModel",
            "_view_count": null,
            "_view_module": "@jupyter-widgets/base",
            "_view_module_version": "1.2.0",
            "_view_name": "StyleView",
            "bar_color": null,
            "description_width": ""
          }
        },
        "4de62ceab9064edb9700222d51d009e9": {
          "model_module": "@jupyter-widgets/controls",
          "model_module_version": "1.5.0",
          "model_name": "ProgressStyleModel",
          "state": {
            "_model_module": "@jupyter-widgets/controls",
            "_model_module_version": "1.5.0",
            "_model_name": "ProgressStyleModel",
            "_view_count": null,
            "_view_module": "@jupyter-widgets/base",
            "_view_module_version": "1.2.0",
            "_view_name": "StyleView",
            "bar_color": null,
            "description_width": ""
          }
        },
        "4fa13e4923e8432a8766db0e4036e1fd": {
          "model_module": "@jupyter-widgets/base",
          "model_module_version": "1.2.0",
          "model_name": "LayoutModel",
          "state": {
            "_model_module": "@jupyter-widgets/base",
            "_model_module_version": "1.2.0",
            "_model_name": "LayoutModel",
            "_view_count": null,
            "_view_module": "@jupyter-widgets/base",
            "_view_module_version": "1.2.0",
            "_view_name": "LayoutView",
            "align_content": null,
            "align_items": null,
            "align_self": null,
            "border": null,
            "bottom": null,
            "display": null,
            "flex": null,
            "flex_flow": null,
            "grid_area": null,
            "grid_auto_columns": null,
            "grid_auto_flow": null,
            "grid_auto_rows": null,
            "grid_column": null,
            "grid_gap": null,
            "grid_row": null,
            "grid_template_areas": null,
            "grid_template_columns": null,
            "grid_template_rows": null,
            "height": null,
            "justify_content": null,
            "justify_items": null,
            "left": null,
            "margin": null,
            "max_height": null,
            "max_width": null,
            "min_height": null,
            "min_width": null,
            "object_fit": null,
            "object_position": null,
            "order": null,
            "overflow": null,
            "overflow_x": null,
            "overflow_y": null,
            "padding": null,
            "right": null,
            "top": null,
            "visibility": null,
            "width": null
          }
        },
        "52a3cd2b831c443d934c988ae7795c5d": {
          "model_module": "@jupyter-widgets/controls",
          "model_module_version": "1.5.0",
          "model_name": "FloatProgressModel",
          "state": {
            "_dom_classes": [],
            "_model_module": "@jupyter-widgets/controls",
            "_model_module_version": "1.5.0",
            "_model_name": "FloatProgressModel",
            "_view_count": null,
            "_view_module": "@jupyter-widgets/controls",
            "_view_module_version": "1.5.0",
            "_view_name": "ProgressView",
            "bar_style": "success",
            "description": "",
            "description_tooltip": null,
            "layout": "IPY_MODEL_05cba170a6e84fafa286fce6d314766e",
            "max": 570,
            "min": 0,
            "orientation": "horizontal",
            "style": "IPY_MODEL_281754faed45470583e7d5ec8c133c11",
            "value": 570
          }
        },
        "5aa572b8578048b2a2e0772784fbadd0": {
          "model_module": "@jupyter-widgets/base",
          "model_module_version": "1.2.0",
          "model_name": "LayoutModel",
          "state": {
            "_model_module": "@jupyter-widgets/base",
            "_model_module_version": "1.2.0",
            "_model_name": "LayoutModel",
            "_view_count": null,
            "_view_module": "@jupyter-widgets/base",
            "_view_module_version": "1.2.0",
            "_view_name": "LayoutView",
            "align_content": null,
            "align_items": null,
            "align_self": null,
            "border": null,
            "bottom": null,
            "display": null,
            "flex": null,
            "flex_flow": null,
            "grid_area": null,
            "grid_auto_columns": null,
            "grid_auto_flow": null,
            "grid_auto_rows": null,
            "grid_column": null,
            "grid_gap": null,
            "grid_row": null,
            "grid_template_areas": null,
            "grid_template_columns": null,
            "grid_template_rows": null,
            "height": null,
            "justify_content": null,
            "justify_items": null,
            "left": null,
            "margin": null,
            "max_height": null,
            "max_width": null,
            "min_height": null,
            "min_width": null,
            "object_fit": null,
            "object_position": null,
            "order": null,
            "overflow": null,
            "overflow_x": null,
            "overflow_y": null,
            "padding": null,
            "right": null,
            "top": null,
            "visibility": null,
            "width": null
          }
        },
        "5c42d90be845449eb0435f095aa51c72": {
          "model_module": "@jupyter-widgets/base",
          "model_module_version": "1.2.0",
          "model_name": "LayoutModel",
          "state": {
            "_model_module": "@jupyter-widgets/base",
            "_model_module_version": "1.2.0",
            "_model_name": "LayoutModel",
            "_view_count": null,
            "_view_module": "@jupyter-widgets/base",
            "_view_module_version": "1.2.0",
            "_view_name": "LayoutView",
            "align_content": null,
            "align_items": null,
            "align_self": null,
            "border": null,
            "bottom": null,
            "display": null,
            "flex": null,
            "flex_flow": null,
            "grid_area": null,
            "grid_auto_columns": null,
            "grid_auto_flow": null,
            "grid_auto_rows": null,
            "grid_column": null,
            "grid_gap": null,
            "grid_row": null,
            "grid_template_areas": null,
            "grid_template_columns": null,
            "grid_template_rows": null,
            "height": null,
            "justify_content": null,
            "justify_items": null,
            "left": null,
            "margin": null,
            "max_height": null,
            "max_width": null,
            "min_height": null,
            "min_width": null,
            "object_fit": null,
            "object_position": null,
            "order": null,
            "overflow": null,
            "overflow_x": null,
            "overflow_y": null,
            "padding": null,
            "right": null,
            "top": null,
            "visibility": null,
            "width": null
          }
        },
        "5f27c65d334f4a289e5d84f5852712e6": {
          "model_module": "@jupyter-widgets/controls",
          "model_module_version": "1.5.0",
          "model_name": "DescriptionStyleModel",
          "state": {
            "_model_module": "@jupyter-widgets/controls",
            "_model_module_version": "1.5.0",
            "_model_name": "DescriptionStyleModel",
            "_view_count": null,
            "_view_module": "@jupyter-widgets/base",
            "_view_module_version": "1.2.0",
            "_view_name": "StyleView",
            "description_width": ""
          }
        },
        "61252adaa28248088d62d6cd125f2004": {
          "model_module": "@jupyter-widgets/base",
          "model_module_version": "1.2.0",
          "model_name": "LayoutModel",
          "state": {
            "_model_module": "@jupyter-widgets/base",
            "_model_module_version": "1.2.0",
            "_model_name": "LayoutModel",
            "_view_count": null,
            "_view_module": "@jupyter-widgets/base",
            "_view_module_version": "1.2.0",
            "_view_name": "LayoutView",
            "align_content": null,
            "align_items": null,
            "align_self": null,
            "border": null,
            "bottom": null,
            "display": null,
            "flex": null,
            "flex_flow": null,
            "grid_area": null,
            "grid_auto_columns": null,
            "grid_auto_flow": null,
            "grid_auto_rows": null,
            "grid_column": null,
            "grid_gap": null,
            "grid_row": null,
            "grid_template_areas": null,
            "grid_template_columns": null,
            "grid_template_rows": null,
            "height": null,
            "justify_content": null,
            "justify_items": null,
            "left": null,
            "margin": null,
            "max_height": null,
            "max_width": null,
            "min_height": null,
            "min_width": null,
            "object_fit": null,
            "object_position": null,
            "order": null,
            "overflow": null,
            "overflow_x": null,
            "overflow_y": null,
            "padding": null,
            "right": null,
            "top": null,
            "visibility": null,
            "width": null
          }
        },
        "6426da1234d347998e91fd92dda2e9be": {
          "model_module": "@jupyter-widgets/controls",
          "model_module_version": "1.5.0",
          "model_name": "HTMLModel",
          "state": {
            "_dom_classes": [],
            "_model_module": "@jupyter-widgets/controls",
            "_model_module_version": "1.5.0",
            "_model_name": "HTMLModel",
            "_view_count": null,
            "_view_module": "@jupyter-widgets/controls",
            "_view_module_version": "1.5.0",
            "_view_name": "HTMLView",
            "description": "",
            "description_tooltip": null,
            "layout": "IPY_MODEL_5aa572b8578048b2a2e0772784fbadd0",
            "placeholder": "​",
            "style": "IPY_MODEL_ffdc0320f5ed4b2c8f1bc5f009491f67",
            "value": " 440M/440M [00:02&lt;00:00, 142MB/s]"
          }
        },
        "66ed221c674142a9b53038dea5366be7": {
          "model_module": "@jupyter-widgets/controls",
          "model_module_version": "1.5.0",
          "model_name": "DescriptionStyleModel",
          "state": {
            "_model_module": "@jupyter-widgets/controls",
            "_model_module_version": "1.5.0",
            "_model_name": "DescriptionStyleModel",
            "_view_count": null,
            "_view_module": "@jupyter-widgets/base",
            "_view_module_version": "1.2.0",
            "_view_name": "StyleView",
            "description_width": ""
          }
        },
        "6cc8cb4ff70b4d1ea579118c52881a65": {
          "model_module": "@jupyter-widgets/controls",
          "model_module_version": "1.5.0",
          "model_name": "DescriptionStyleModel",
          "state": {
            "_model_module": "@jupyter-widgets/controls",
            "_model_module_version": "1.5.0",
            "_model_name": "DescriptionStyleModel",
            "_view_count": null,
            "_view_module": "@jupyter-widgets/base",
            "_view_module_version": "1.2.0",
            "_view_name": "StyleView",
            "description_width": ""
          }
        },
        "7d3563244d5745d5a4b9e1605b9d8454": {
          "model_module": "@jupyter-widgets/controls",
          "model_module_version": "1.5.0",
          "model_name": "FloatProgressModel",
          "state": {
            "_dom_classes": [],
            "_model_module": "@jupyter-widgets/controls",
            "_model_module_version": "1.5.0",
            "_model_name": "FloatProgressModel",
            "_view_count": null,
            "_view_module": "@jupyter-widgets/controls",
            "_view_module_version": "1.5.0",
            "_view_name": "ProgressView",
            "bar_style": "success",
            "description": "",
            "description_tooltip": null,
            "layout": "IPY_MODEL_bd3e9eb190534914938177c29ab89b75",
            "max": 440449768,
            "min": 0,
            "orientation": "horizontal",
            "style": "IPY_MODEL_3bbb41c3405c4823847494ad4d15016b",
            "value": 440449768
          }
        },
        "7e2b50317ab44d1193b88f97cb2b140d": {
          "model_module": "@jupyter-widgets/controls",
          "model_module_version": "1.5.0",
          "model_name": "DescriptionStyleModel",
          "state": {
            "_model_module": "@jupyter-widgets/controls",
            "_model_module_version": "1.5.0",
            "_model_name": "DescriptionStyleModel",
            "_view_count": null,
            "_view_module": "@jupyter-widgets/base",
            "_view_module_version": "1.2.0",
            "_view_name": "StyleView",
            "description_width": ""
          }
        },
        "81f14c5a460544ab9ff06df68ec3ae66": {
          "model_module": "@jupyter-widgets/base",
          "model_module_version": "1.2.0",
          "model_name": "LayoutModel",
          "state": {
            "_model_module": "@jupyter-widgets/base",
            "_model_module_version": "1.2.0",
            "_model_name": "LayoutModel",
            "_view_count": null,
            "_view_module": "@jupyter-widgets/base",
            "_view_module_version": "1.2.0",
            "_view_name": "LayoutView",
            "align_content": null,
            "align_items": null,
            "align_self": null,
            "border": null,
            "bottom": null,
            "display": null,
            "flex": null,
            "flex_flow": null,
            "grid_area": null,
            "grid_auto_columns": null,
            "grid_auto_flow": null,
            "grid_auto_rows": null,
            "grid_column": null,
            "grid_gap": null,
            "grid_row": null,
            "grid_template_areas": null,
            "grid_template_columns": null,
            "grid_template_rows": null,
            "height": null,
            "justify_content": null,
            "justify_items": null,
            "left": null,
            "margin": null,
            "max_height": null,
            "max_width": null,
            "min_height": null,
            "min_width": null,
            "object_fit": null,
            "object_position": null,
            "order": null,
            "overflow": null,
            "overflow_x": null,
            "overflow_y": null,
            "padding": null,
            "right": null,
            "top": null,
            "visibility": null,
            "width": null
          }
        },
        "94ea72bb62f047d0b7943a02df7e1f9e": {
          "model_module": "@jupyter-widgets/controls",
          "model_module_version": "1.5.0",
          "model_name": "FloatProgressModel",
          "state": {
            "_dom_classes": [],
            "_model_module": "@jupyter-widgets/controls",
            "_model_module_version": "1.5.0",
            "_model_name": "FloatProgressModel",
            "_view_count": null,
            "_view_module": "@jupyter-widgets/controls",
            "_view_module_version": "1.5.0",
            "_view_name": "ProgressView",
            "bar_style": "success",
            "description": "",
            "description_tooltip": null,
            "layout": "IPY_MODEL_cd13062a02a64b29b0f4be88ea1ce656",
            "max": 231508,
            "min": 0,
            "orientation": "horizontal",
            "style": "IPY_MODEL_4515214f4a44471ea99867471d90a64c",
            "value": 231508
          }
        },
        "9ac0dda6769f4014a7cf1ccd02d21a4e": {
          "model_module": "@jupyter-widgets/controls",
          "model_module_version": "1.5.0",
          "model_name": "FloatProgressModel",
          "state": {
            "_dom_classes": [],
            "_model_module": "@jupyter-widgets/controls",
            "_model_module_version": "1.5.0",
            "_model_name": "FloatProgressModel",
            "_view_count": null,
            "_view_module": "@jupyter-widgets/controls",
            "_view_module_version": "1.5.0",
            "_view_name": "ProgressView",
            "bar_style": "success",
            "description": "",
            "description_tooltip": null,
            "layout": "IPY_MODEL_5c42d90be845449eb0435f095aa51c72",
            "max": 466062,
            "min": 0,
            "orientation": "horizontal",
            "style": "IPY_MODEL_4de62ceab9064edb9700222d51d009e9",
            "value": 466062
          }
        },
        "9f1716896679493d86e269ad62fba64e": {
          "model_module": "@jupyter-widgets/controls",
          "model_module_version": "1.5.0",
          "model_name": "HBoxModel",
          "state": {
            "_dom_classes": [],
            "_model_module": "@jupyter-widgets/controls",
            "_model_module_version": "1.5.0",
            "_model_name": "HBoxModel",
            "_view_count": null,
            "_view_module": "@jupyter-widgets/controls",
            "_view_module_version": "1.5.0",
            "_view_name": "HBoxView",
            "box_style": "",
            "children": [
              "IPY_MODEL_18c92d50104241759affea847a8738d6",
              "IPY_MODEL_7d3563244d5745d5a4b9e1605b9d8454",
              "IPY_MODEL_6426da1234d347998e91fd92dda2e9be"
            ],
            "layout": "IPY_MODEL_1fe7b90583eb4f278aab083d6f9f0eb2"
          }
        },
        "9fa831d2b09c4cf89ef9cee9e900a24c": {
          "model_module": "@jupyter-widgets/controls",
          "model_module_version": "1.5.0",
          "model_name": "DescriptionStyleModel",
          "state": {
            "_model_module": "@jupyter-widgets/controls",
            "_model_module_version": "1.5.0",
            "_model_name": "DescriptionStyleModel",
            "_view_count": null,
            "_view_module": "@jupyter-widgets/base",
            "_view_module_version": "1.2.0",
            "_view_name": "StyleView",
            "description_width": ""
          }
        },
        "ab694abd134c475aa1bef08f25305e49": {
          "model_module": "@jupyter-widgets/controls",
          "model_module_version": "1.5.0",
          "model_name": "DescriptionStyleModel",
          "state": {
            "_model_module": "@jupyter-widgets/controls",
            "_model_module_version": "1.5.0",
            "_model_name": "DescriptionStyleModel",
            "_view_count": null,
            "_view_module": "@jupyter-widgets/base",
            "_view_module_version": "1.2.0",
            "_view_name": "StyleView",
            "description_width": ""
          }
        },
        "b1ff384baec448178fa7853d8e7f33da": {
          "model_module": "@jupyter-widgets/base",
          "model_module_version": "1.2.0",
          "model_name": "LayoutModel",
          "state": {
            "_model_module": "@jupyter-widgets/base",
            "_model_module_version": "1.2.0",
            "_model_name": "LayoutModel",
            "_view_count": null,
            "_view_module": "@jupyter-widgets/base",
            "_view_module_version": "1.2.0",
            "_view_name": "LayoutView",
            "align_content": null,
            "align_items": null,
            "align_self": null,
            "border": null,
            "bottom": null,
            "display": null,
            "flex": null,
            "flex_flow": null,
            "grid_area": null,
            "grid_auto_columns": null,
            "grid_auto_flow": null,
            "grid_auto_rows": null,
            "grid_column": null,
            "grid_gap": null,
            "grid_row": null,
            "grid_template_areas": null,
            "grid_template_columns": null,
            "grid_template_rows": null,
            "height": null,
            "justify_content": null,
            "justify_items": null,
            "left": null,
            "margin": null,
            "max_height": null,
            "max_width": null,
            "min_height": null,
            "min_width": null,
            "object_fit": null,
            "object_position": null,
            "order": null,
            "overflow": null,
            "overflow_x": null,
            "overflow_y": null,
            "padding": null,
            "right": null,
            "top": null,
            "visibility": null,
            "width": null
          }
        },
        "b2ca6f109b58491986f77a008768ffe8": {
          "model_module": "@jupyter-widgets/controls",
          "model_module_version": "1.5.0",
          "model_name": "DescriptionStyleModel",
          "state": {
            "_model_module": "@jupyter-widgets/controls",
            "_model_module_version": "1.5.0",
            "_model_name": "DescriptionStyleModel",
            "_view_count": null,
            "_view_module": "@jupyter-widgets/base",
            "_view_module_version": "1.2.0",
            "_view_name": "StyleView",
            "description_width": ""
          }
        },
        "bae5f01778ce4e4d8fcbe465896a2c92": {
          "model_module": "@jupyter-widgets/controls",
          "model_module_version": "1.5.0",
          "model_name": "HTMLModel",
          "state": {
            "_dom_classes": [],
            "_model_module": "@jupyter-widgets/controls",
            "_model_module_version": "1.5.0",
            "_model_name": "HTMLModel",
            "_view_count": null,
            "_view_module": "@jupyter-widgets/controls",
            "_view_module_version": "1.5.0",
            "_view_name": "HTMLView",
            "description": "",
            "description_tooltip": null,
            "layout": "IPY_MODEL_4fa13e4923e8432a8766db0e4036e1fd",
            "placeholder": "​",
            "style": "IPY_MODEL_4428ca2298364764a9dda1e2184c1d4a",
            "value": " 48.0/48.0 [00:00&lt;00:00, 3.28kB/s]"
          }
        },
        "bd3e9eb190534914938177c29ab89b75": {
          "model_module": "@jupyter-widgets/base",
          "model_module_version": "1.2.0",
          "model_name": "LayoutModel",
          "state": {
            "_model_module": "@jupyter-widgets/base",
            "_model_module_version": "1.2.0",
            "_model_name": "LayoutModel",
            "_view_count": null,
            "_view_module": "@jupyter-widgets/base",
            "_view_module_version": "1.2.0",
            "_view_name": "LayoutView",
            "align_content": null,
            "align_items": null,
            "align_self": null,
            "border": null,
            "bottom": null,
            "display": null,
            "flex": null,
            "flex_flow": null,
            "grid_area": null,
            "grid_auto_columns": null,
            "grid_auto_flow": null,
            "grid_auto_rows": null,
            "grid_column": null,
            "grid_gap": null,
            "grid_row": null,
            "grid_template_areas": null,
            "grid_template_columns": null,
            "grid_template_rows": null,
            "height": null,
            "justify_content": null,
            "justify_items": null,
            "left": null,
            "margin": null,
            "max_height": null,
            "max_width": null,
            "min_height": null,
            "min_width": null,
            "object_fit": null,
            "object_position": null,
            "order": null,
            "overflow": null,
            "overflow_x": null,
            "overflow_y": null,
            "padding": null,
            "right": null,
            "top": null,
            "visibility": null,
            "width": null
          }
        },
        "c5fbd66865b44241a020d405a1e26579": {
          "model_module": "@jupyter-widgets/controls",
          "model_module_version": "1.5.0",
          "model_name": "HTMLModel",
          "state": {
            "_dom_classes": [],
            "_model_module": "@jupyter-widgets/controls",
            "_model_module_version": "1.5.0",
            "_model_name": "HTMLModel",
            "_view_count": null,
            "_view_module": "@jupyter-widgets/controls",
            "_view_module_version": "1.5.0",
            "_view_name": "HTMLView",
            "description": "",
            "description_tooltip": null,
            "layout": "IPY_MODEL_df4dd26a74164a38ba157070efe2c6b4",
            "placeholder": "​",
            "style": "IPY_MODEL_7e2b50317ab44d1193b88f97cb2b140d",
            "value": "config.json: 100%"
          }
        },
        "c6cb2c7a1c4e40f6a22b5817f99cbd16": {
          "model_module": "@jupyter-widgets/base",
          "model_module_version": "1.2.0",
          "model_name": "LayoutModel",
          "state": {
            "_model_module": "@jupyter-widgets/base",
            "_model_module_version": "1.2.0",
            "_model_name": "LayoutModel",
            "_view_count": null,
            "_view_module": "@jupyter-widgets/base",
            "_view_module_version": "1.2.0",
            "_view_name": "LayoutView",
            "align_content": null,
            "align_items": null,
            "align_self": null,
            "border": null,
            "bottom": null,
            "display": null,
            "flex": null,
            "flex_flow": null,
            "grid_area": null,
            "grid_auto_columns": null,
            "grid_auto_flow": null,
            "grid_auto_rows": null,
            "grid_column": null,
            "grid_gap": null,
            "grid_row": null,
            "grid_template_areas": null,
            "grid_template_columns": null,
            "grid_template_rows": null,
            "height": null,
            "justify_content": null,
            "justify_items": null,
            "left": null,
            "margin": null,
            "max_height": null,
            "max_width": null,
            "min_height": null,
            "min_width": null,
            "object_fit": null,
            "object_position": null,
            "order": null,
            "overflow": null,
            "overflow_x": null,
            "overflow_y": null,
            "padding": null,
            "right": null,
            "top": null,
            "visibility": null,
            "width": null
          }
        },
        "cd13062a02a64b29b0f4be88ea1ce656": {
          "model_module": "@jupyter-widgets/base",
          "model_module_version": "1.2.0",
          "model_name": "LayoutModel",
          "state": {
            "_model_module": "@jupyter-widgets/base",
            "_model_module_version": "1.2.0",
            "_model_name": "LayoutModel",
            "_view_count": null,
            "_view_module": "@jupyter-widgets/base",
            "_view_module_version": "1.2.0",
            "_view_name": "LayoutView",
            "align_content": null,
            "align_items": null,
            "align_self": null,
            "border": null,
            "bottom": null,
            "display": null,
            "flex": null,
            "flex_flow": null,
            "grid_area": null,
            "grid_auto_columns": null,
            "grid_auto_flow": null,
            "grid_auto_rows": null,
            "grid_column": null,
            "grid_gap": null,
            "grid_row": null,
            "grid_template_areas": null,
            "grid_template_columns": null,
            "grid_template_rows": null,
            "height": null,
            "justify_content": null,
            "justify_items": null,
            "left": null,
            "margin": null,
            "max_height": null,
            "max_width": null,
            "min_height": null,
            "min_width": null,
            "object_fit": null,
            "object_position": null,
            "order": null,
            "overflow": null,
            "overflow_x": null,
            "overflow_y": null,
            "padding": null,
            "right": null,
            "top": null,
            "visibility": null,
            "width": null
          }
        },
        "cfc55d314dfe49b9aed92c2a1c6c9149": {
          "model_module": "@jupyter-widgets/controls",
          "model_module_version": "1.5.0",
          "model_name": "HBoxModel",
          "state": {
            "_dom_classes": [],
            "_model_module": "@jupyter-widgets/controls",
            "_model_module_version": "1.5.0",
            "_model_name": "HBoxModel",
            "_view_count": null,
            "_view_module": "@jupyter-widgets/controls",
            "_view_module_version": "1.5.0",
            "_view_name": "HBoxView",
            "box_style": "",
            "children": [
              "IPY_MODEL_c5fbd66865b44241a020d405a1e26579",
              "IPY_MODEL_52a3cd2b831c443d934c988ae7795c5d",
              "IPY_MODEL_f2e71ee2e66a4823a7935ad528542db1"
            ],
            "layout": "IPY_MODEL_22757ec08eee4ca095a3ef76f6cda1b0"
          }
        },
        "d4ca72b74d0946eeb217234e54dea716": {
          "model_module": "@jupyter-widgets/base",
          "model_module_version": "1.2.0",
          "model_name": "LayoutModel",
          "state": {
            "_model_module": "@jupyter-widgets/base",
            "_model_module_version": "1.2.0",
            "_model_name": "LayoutModel",
            "_view_count": null,
            "_view_module": "@jupyter-widgets/base",
            "_view_module_version": "1.2.0",
            "_view_name": "LayoutView",
            "align_content": null,
            "align_items": null,
            "align_self": null,
            "border": null,
            "bottom": null,
            "display": null,
            "flex": null,
            "flex_flow": null,
            "grid_area": null,
            "grid_auto_columns": null,
            "grid_auto_flow": null,
            "grid_auto_rows": null,
            "grid_column": null,
            "grid_gap": null,
            "grid_row": null,
            "grid_template_areas": null,
            "grid_template_columns": null,
            "grid_template_rows": null,
            "height": null,
            "justify_content": null,
            "justify_items": null,
            "left": null,
            "margin": null,
            "max_height": null,
            "max_width": null,
            "min_height": null,
            "min_width": null,
            "object_fit": null,
            "object_position": null,
            "order": null,
            "overflow": null,
            "overflow_x": null,
            "overflow_y": null,
            "padding": null,
            "right": null,
            "top": null,
            "visibility": null,
            "width": null
          }
        },
        "df4dd26a74164a38ba157070efe2c6b4": {
          "model_module": "@jupyter-widgets/base",
          "model_module_version": "1.2.0",
          "model_name": "LayoutModel",
          "state": {
            "_model_module": "@jupyter-widgets/base",
            "_model_module_version": "1.2.0",
            "_model_name": "LayoutModel",
            "_view_count": null,
            "_view_module": "@jupyter-widgets/base",
            "_view_module_version": "1.2.0",
            "_view_name": "LayoutView",
            "align_content": null,
            "align_items": null,
            "align_self": null,
            "border": null,
            "bottom": null,
            "display": null,
            "flex": null,
            "flex_flow": null,
            "grid_area": null,
            "grid_auto_columns": null,
            "grid_auto_flow": null,
            "grid_auto_rows": null,
            "grid_column": null,
            "grid_gap": null,
            "grid_row": null,
            "grid_template_areas": null,
            "grid_template_columns": null,
            "grid_template_rows": null,
            "height": null,
            "justify_content": null,
            "justify_items": null,
            "left": null,
            "margin": null,
            "max_height": null,
            "max_width": null,
            "min_height": null,
            "min_width": null,
            "object_fit": null,
            "object_position": null,
            "order": null,
            "overflow": null,
            "overflow_x": null,
            "overflow_y": null,
            "padding": null,
            "right": null,
            "top": null,
            "visibility": null,
            "width": null
          }
        },
        "ece5d50ac7f343778cd79604fb0664cb": {
          "model_module": "@jupyter-widgets/controls",
          "model_module_version": "1.5.0",
          "model_name": "HBoxModel",
          "state": {
            "_dom_classes": [],
            "_model_module": "@jupyter-widgets/controls",
            "_model_module_version": "1.5.0",
            "_model_name": "HBoxModel",
            "_view_count": null,
            "_view_module": "@jupyter-widgets/controls",
            "_view_module_version": "1.5.0",
            "_view_name": "HBoxView",
            "box_style": "",
            "children": [
              "IPY_MODEL_2729b314b0964a6da1d5e67b114ea577",
              "IPY_MODEL_9ac0dda6769f4014a7cf1ccd02d21a4e",
              "IPY_MODEL_2622d5b88cd3459d90b53f762482e467"
            ],
            "layout": "IPY_MODEL_b1ff384baec448178fa7853d8e7f33da"
          }
        },
        "f2e71ee2e66a4823a7935ad528542db1": {
          "model_module": "@jupyter-widgets/controls",
          "model_module_version": "1.5.0",
          "model_name": "HTMLModel",
          "state": {
            "_dom_classes": [],
            "_model_module": "@jupyter-widgets/controls",
            "_model_module_version": "1.5.0",
            "_model_name": "HTMLModel",
            "_view_count": null,
            "_view_module": "@jupyter-widgets/controls",
            "_view_module_version": "1.5.0",
            "_view_name": "HTMLView",
            "description": "",
            "description_tooltip": null,
            "layout": "IPY_MODEL_119a58381bea4f37987b4b99c2a28932",
            "placeholder": "​",
            "style": "IPY_MODEL_9fa831d2b09c4cf89ef9cee9e900a24c",
            "value": " 570/570 [00:00&lt;00:00, 42.4kB/s]"
          }
        },
        "ff38581f582c4935b4a2bb1e617645b8": {
          "model_module": "@jupyter-widgets/base",
          "model_module_version": "1.2.0",
          "model_name": "LayoutModel",
          "state": {
            "_model_module": "@jupyter-widgets/base",
            "_model_module_version": "1.2.0",
            "_model_name": "LayoutModel",
            "_view_count": null,
            "_view_module": "@jupyter-widgets/base",
            "_view_module_version": "1.2.0",
            "_view_name": "LayoutView",
            "align_content": null,
            "align_items": null,
            "align_self": null,
            "border": null,
            "bottom": null,
            "display": null,
            "flex": null,
            "flex_flow": null,
            "grid_area": null,
            "grid_auto_columns": null,
            "grid_auto_flow": null,
            "grid_auto_rows": null,
            "grid_column": null,
            "grid_gap": null,
            "grid_row": null,
            "grid_template_areas": null,
            "grid_template_columns": null,
            "grid_template_rows": null,
            "height": null,
            "justify_content": null,
            "justify_items": null,
            "left": null,
            "margin": null,
            "max_height": null,
            "max_width": null,
            "min_height": null,
            "min_width": null,
            "object_fit": null,
            "object_position": null,
            "order": null,
            "overflow": null,
            "overflow_x": null,
            "overflow_y": null,
            "padding": null,
            "right": null,
            "top": null,
            "visibility": null,
            "width": null
          }
        },
        "ffdc0320f5ed4b2c8f1bc5f009491f67": {
          "model_module": "@jupyter-widgets/controls",
          "model_module_version": "1.5.0",
          "model_name": "DescriptionStyleModel",
          "state": {
            "_model_module": "@jupyter-widgets/controls",
            "_model_module_version": "1.5.0",
            "_model_name": "DescriptionStyleModel",
            "_view_count": null,
            "_view_module": "@jupyter-widgets/base",
            "_view_module_version": "1.2.0",
            "_view_name": "StyleView",
            "description_width": ""
          }
        }
      }
    }
  },
  "nbformat": 4,
  "nbformat_minor": 0
}
