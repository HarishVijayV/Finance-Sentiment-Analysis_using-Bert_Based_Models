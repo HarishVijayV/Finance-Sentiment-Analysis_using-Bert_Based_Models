{
  "cells": [
    {
      "cell_type": "code",
      "execution_count": 1,
      "metadata": {
        "id": "flNicSyrfumJ"
      },
      "outputs": [
        {
          "ename": "OSError",
          "evalue": "[WinError 126] The specified module could not be found. Error loading \"c:\\Users\\haris\\anaconda3\\Lib\\site-packages\\torch\\lib\\fbgemm.dll\" or one of its dependencies.",
          "output_type": "error",
          "traceback": [
            "\u001b[1;31m---------------------------------------------------------------------------\u001b[0m",
            "\u001b[1;31mOSError\u001b[0m                                   Traceback (most recent call last)",
            "Cell \u001b[1;32mIn[1], line 1\u001b[0m\n\u001b[1;32m----> 1\u001b[0m \u001b[38;5;28;01mimport\u001b[39;00m \u001b[38;5;21;01mtorch\u001b[39;00m\n\u001b[0;32m      2\u001b[0m \u001b[38;5;28;01mimport\u001b[39;00m \u001b[38;5;21;01mpandas\u001b[39;00m \u001b[38;5;28;01mas\u001b[39;00m \u001b[38;5;21;01mpd\u001b[39;00m\n\u001b[0;32m      3\u001b[0m \u001b[38;5;28;01mfrom\u001b[39;00m \u001b[38;5;21;01mtorch\u001b[39;00m\u001b[38;5;21;01m.\u001b[39;00m\u001b[38;5;21;01mutils\u001b[39;00m\u001b[38;5;21;01m.\u001b[39;00m\u001b[38;5;21;01mdata\u001b[39;00m \u001b[38;5;28;01mimport\u001b[39;00m DataLoader, Dataset\n",
            "File \u001b[1;32mc:\\Users\\haris\\anaconda3\\Lib\\site-packages\\torch\\__init__.py:148\u001b[0m\n\u001b[0;32m    146\u001b[0m                 err \u001b[38;5;241m=\u001b[39m ctypes\u001b[38;5;241m.\u001b[39mWinError(ctypes\u001b[38;5;241m.\u001b[39mget_last_error())\n\u001b[0;32m    147\u001b[0m                 err\u001b[38;5;241m.\u001b[39mstrerror \u001b[38;5;241m+\u001b[39m\u001b[38;5;241m=\u001b[39m \u001b[38;5;124mf\u001b[39m\u001b[38;5;124m'\u001b[39m\u001b[38;5;124m Error loading \u001b[39m\u001b[38;5;124m\"\u001b[39m\u001b[38;5;132;01m{\u001b[39;00mdll\u001b[38;5;132;01m}\u001b[39;00m\u001b[38;5;124m\"\u001b[39m\u001b[38;5;124m or one of its dependencies.\u001b[39m\u001b[38;5;124m'\u001b[39m\n\u001b[1;32m--> 148\u001b[0m                 \u001b[38;5;28;01mraise\u001b[39;00m err\n\u001b[0;32m    150\u001b[0m     kernel32\u001b[38;5;241m.\u001b[39mSetErrorMode(prev_error_mode)\n\u001b[0;32m    153\u001b[0m \u001b[38;5;28;01mdef\u001b[39;00m \u001b[38;5;21m_preload_cuda_deps\u001b[39m(lib_folder, lib_name):\n",
            "\u001b[1;31mOSError\u001b[0m: [WinError 126] The specified module could not be found. Error loading \"c:\\Users\\haris\\anaconda3\\Lib\\site-packages\\torch\\lib\\fbgemm.dll\" or one of its dependencies."
          ]
        }
      ],
      "source": [
        "import torch\n",
        "import pandas as pd\n",
        "from torch.utils.data import DataLoader, Dataset\n",
        "from transformers import AlbertTokenizer, AlbertForSequenceClassification, AdamW\n",
        "from tqdm import tqdm\n",
        "\n",
        "# Read the CSV file with a different encoding\n",
        "df = pd.read_csv('/content/drive/MyDrive/Final_Albert/data.csv', names=[\"sentence\", 'sentiment'], encoding='ISO-8859-1')\n",
        "\n",
        "# Define the mapping for sentiment labels\n",
        "sentiment_map = {\n",
        "    'positive': 2,\n",
        "    'negative': 0,\n",
        "    'neutral': 1\n",
        "}\n",
        "\n",
        "# Apply the mapping to the 'sentiment' column in the DataFrame\n",
        "df['sentiment'] = df['sentiment'].map(sentiment_map)\n",
        "\n",
        "# Drop rows with NaN values in the 'sentiment' column\n",
        "df = df.dropna(subset=['sentiment'])\n",
        "\n",
        "# Convert 'sentiment' column to integer type\n",
        "df['sentiment'] = df['sentiment'].astype(int)\n"
      ]
    },
    {
      "cell_type": "code",
      "execution_count": 1,
      "metadata": {
        "colab": {
          "base_uri": "https://localhost:8080/"
        },
        "id": "4GTP83V0hw8p",
        "outputId": "4fb9d372-3a96-4e7f-93ff-ed1f025927aa"
      },
      "outputs": [
        {
          "name": "stdout",
          "output_type": "stream",
          "text": [
            "Mounted at /content/drive\n"
          ]
        }
      ],
      "source": [
        "from google.colab import drive\n",
        "drive.mount('/content/drive')"
      ]
    },
    {
      "cell_type": "code",
      "execution_count": 4,
      "metadata": {
        "colab": {
          "base_uri": "https://localhost:8080/"
        },
        "id": "YNVvcGg3fumK",
        "outputId": "97c19a51-b81b-4055-8e4b-4b9bc0f3ffa1"
      },
      "outputs": [
        {
          "name": "stderr",
          "output_type": "stream",
          "text": [
            "Some weights of AlbertForSequenceClassification were not initialized from the model checkpoint at albert-base-v2 and are newly initialized: ['classifier.bias', 'classifier.weight']\n",
            "You should probably TRAIN this model on a down-stream task to be able to use it for predictions and inference.\n",
            "/usr/local/lib/python3.10/dist-packages/transformers/optimization.py:429: FutureWarning: This implementation of AdamW is deprecated and will be removed in a future version. Use the PyTorch implementation torch.optim.AdamW instead, or set `no_deprecation_warning=True` to disable this warning\n",
            "  warnings.warn(\n",
            "Epoch 1/4: 100%|██████████| 293/293 [01:37<00:00,  3.00batches/s]\n"
          ]
        },
        {
          "name": "stdout",
          "output_type": "stream",
          "text": [
            "Average training loss: 0.6917184635539104\n",
            "Average validation loss: 0.48987337816003207, Validation accuracy: 0.7698887938408896\n"
          ]
        },
        {
          "name": "stderr",
          "output_type": "stream",
          "text": [
            "Epoch 2/4: 100%|██████████| 293/293 [01:41<00:00,  2.88batches/s]\n"
          ]
        },
        {
          "name": "stdout",
          "output_type": "stream",
          "text": [
            "Average training loss: 0.38607750518991274\n",
            "Average validation loss: 0.4577592173842965, Validation accuracy: 0.7835757057313943\n"
          ]
        },
        {
          "name": "stderr",
          "output_type": "stream",
          "text": [
            "Epoch 3/4: 100%|██████████| 293/293 [01:42<00:00,  2.86batches/s]\n"
          ]
        },
        {
          "name": "stdout",
          "output_type": "stream",
          "text": [
            "Average training loss: 0.3489601732431927\n",
            "Average validation loss: 0.45751958702867096, Validation accuracy: 0.7835757057313943\n"
          ]
        },
        {
          "name": "stderr",
          "output_type": "stream",
          "text": [
            "Epoch 4/4: 100%|██████████| 293/293 [01:42<00:00,  2.85batches/s]\n"
          ]
        },
        {
          "name": "stdout",
          "output_type": "stream",
          "text": [
            "Average training loss: 0.34790530594847713\n",
            "Average validation loss: 0.4575522004349812, Validation accuracy: 0.7827202737382378\n",
            "Training complete!\n"
          ]
        }
      ],
      "source": [
        "class CustomDataset(Dataset):\n",
        "    def __init__(self, dataframe, tokenizer, max_len):\n",
        "        self.dataframe = dataframe\n",
        "        self.tokenizer = tokenizer\n",
        "        self.max_len = max_len\n",
        "\n",
        "    def __len__(self):\n",
        "        return len(self.dataframe)\n",
        "\n",
        "    def __getitem__(self, idx):\n",
        "        text = self.dataframe.loc[idx, 'sentence']\n",
        "        label = self.dataframe.loc[idx, 'sentiment']\n",
        "        encoding = self.tokenizer(text,\n",
        "                                  add_special_tokens=True,\n",
        "                                  max_length=self.max_len,\n",
        "                                  truncation=True,\n",
        "                                  padding='max_length',\n",
        "                                  return_tensors='pt')\n",
        "        return {\n",
        "            'input_ids': encoding['input_ids'].flatten(),\n",
        "            'attention_mask': encoding['attention_mask'].flatten(),\n",
        "            'labels': torch.tensor(label, dtype=torch.long)\n",
        "        }\n",
        "\n",
        "# Initialize the ALBERT tokenizer and model\n",
        "tokenizer = AlbertTokenizer.from_pretrained('albert-base-v2')\n",
        "num_classes = len(df['sentiment'].unique())  # Assuming labels are integers\n",
        "model = AlbertForSequenceClassification.from_pretrained('albert-base-v2', num_labels=num_classes)\n",
        "\n",
        "# Define hyperparameters\n",
        "batch_size = 16\n",
        "max_len = 128\n",
        "num_epochs = 4\n",
        "learning_rate = 1e-5\n",
        "\n",
        "# Create instances of custom dataset\n",
        "dataset = CustomDataset(dataframe=df, tokenizer=tokenizer, max_len=max_len)\n",
        "\n",
        "# Split dataset into train and validation\n",
        "train_size = int(0.8 * len(dataset))\n",
        "val_size = len(dataset) - train_size\n",
        "train_dataset, val_dataset = torch.utils.data.random_split(dataset, [train_size, val_size])\n",
        "\n",
        "# Create data loaders\n",
        "train_loader = DataLoader(train_dataset, batch_size=batch_size, shuffle=True)\n",
        "val_loader = DataLoader(val_dataset, batch_size=batch_size, shuffle=False)\n",
        "\n",
        "# Set device\n",
        "device = torch.device('cuda' if torch.cuda.is_available() else 'cpu')\n",
        "model.to(device)\n",
        "\n",
        "# Define optimizer and scheduler\n",
        "optimizer = AdamW(model.parameters(), lr=learning_rate)\n",
        "scheduler = torch.optim.lr_scheduler.StepLR(optimizer, step_size=1, gamma=0.1)\n",
        "\n",
        "# Define training loop\n",
        "for epoch in range(num_epochs):\n",
        "    model.train()\n",
        "    total_loss = 0\n",
        "    for batch in tqdm(train_loader, desc=f'Epoch {epoch + 1}/{num_epochs}', unit='batches'):\n",
        "        input_ids = batch['input_ids'].to(device)\n",
        "        attention_mask = batch['attention_mask'].to(device)\n",
        "        labels = batch['labels'].to(device)\n",
        "\n",
        "        optimizer.zero_grad()\n",
        "        outputs = model(input_ids, attention_mask=attention_mask, labels=labels)\n",
        "        loss = outputs.loss\n",
        "        total_loss += loss.item()\n",
        "        loss.backward()\n",
        "        optimizer.step()\n",
        "    avg_train_loss = total_loss / len(train_loader)\n",
        "    print(f'Average training loss: {avg_train_loss}')\n",
        "\n",
        "    # Validation\n",
        "    model.eval()\n",
        "    val_loss = 0\n",
        "    num_correct = 0\n",
        "    num_samples = 0\n",
        "    with torch.no_grad():\n",
        "        for batch in val_loader:\n",
        "            input_ids = batch['input_ids'].to(device)\n",
        "            attention_mask = batch['attention_mask'].to(device)\n",
        "            labels = batch['labels'].to(device)\n",
        "\n",
        "            outputs = model(input_ids, attention_mask=attention_mask, labels=labels)\n",
        "            loss = outputs.loss\n",
        "            val_loss += loss.item()\n",
        "\n",
        "            _, preds = torch.max(outputs.logits, dim=1)\n",
        "            num_correct += (preds == labels).sum().item()\n",
        "            num_samples += labels.size(0)\n",
        "\n",
        "    avg_val_loss = val_loss / len(val_loader)\n",
        "    val_accuracy = num_correct / num_samples\n",
        "    print(f'Average validation loss: {avg_val_loss}, Validation accuracy: {val_accuracy}')\n",
        "\n",
        "    # Update the learning rate\n",
        "    scheduler.step()\n",
        "\n",
        "print('Training complete!')\n",
        "\n"
      ]
    },
    {
      "cell_type": "code",
      "execution_count": 7,
      "metadata": {
        "id": "T08qz889gIvV"
      },
      "outputs": [],
      "source": [
        "# torch.save(model.state_dict(), '/content/drive/MyDrive/Final_Albert/distilbert_model.pth')"
      ]
    },
    {
      "cell_type": "code",
      "execution_count": 9,
      "metadata": {
        "colab": {
          "base_uri": "https://localhost:8080/"
        },
        "id": "QjOuI93ZfumK",
        "outputId": "0f98bae0-2a18-4575-e6e3-7279ecf3cd8b"
      },
      "outputs": [
        {
          "name": "stderr",
          "output_type": "stream",
          "text": [
            "Some weights of AlbertForSequenceClassification were not initialized from the model checkpoint at albert-base-v2 and are newly initialized: ['classifier.bias', 'classifier.weight']\n",
            "You should probably TRAIN this model on a down-stream task to be able to use it for predictions and inference.\n"
          ]
        },
        {
          "data": {
            "text/plain": [
              "AlbertForSequenceClassification(\n",
              "  (albert): AlbertModel(\n",
              "    (embeddings): AlbertEmbeddings(\n",
              "      (word_embeddings): Embedding(30000, 128, padding_idx=0)\n",
              "      (position_embeddings): Embedding(512, 128)\n",
              "      (token_type_embeddings): Embedding(2, 128)\n",
              "      (LayerNorm): LayerNorm((128,), eps=1e-12, elementwise_affine=True)\n",
              "      (dropout): Dropout(p=0, inplace=False)\n",
              "    )\n",
              "    (encoder): AlbertTransformer(\n",
              "      (embedding_hidden_mapping_in): Linear(in_features=128, out_features=768, bias=True)\n",
              "      (albert_layer_groups): ModuleList(\n",
              "        (0): AlbertLayerGroup(\n",
              "          (albert_layers): ModuleList(\n",
              "            (0): AlbertLayer(\n",
              "              (full_layer_layer_norm): LayerNorm((768,), eps=1e-12, elementwise_affine=True)\n",
              "              (attention): AlbertAttention(\n",
              "                (query): Linear(in_features=768, out_features=768, bias=True)\n",
              "                (key): Linear(in_features=768, out_features=768, bias=True)\n",
              "                (value): Linear(in_features=768, out_features=768, bias=True)\n",
              "                (attention_dropout): Dropout(p=0, inplace=False)\n",
              "                (output_dropout): Dropout(p=0, inplace=False)\n",
              "                (dense): Linear(in_features=768, out_features=768, bias=True)\n",
              "                (LayerNorm): LayerNorm((768,), eps=1e-12, elementwise_affine=True)\n",
              "              )\n",
              "              (ffn): Linear(in_features=768, out_features=3072, bias=True)\n",
              "              (ffn_output): Linear(in_features=3072, out_features=768, bias=True)\n",
              "              (activation): NewGELUActivation()\n",
              "              (dropout): Dropout(p=0, inplace=False)\n",
              "            )\n",
              "          )\n",
              "        )\n",
              "      )\n",
              "    )\n",
              "    (pooler): Linear(in_features=768, out_features=768, bias=True)\n",
              "    (pooler_activation): Tanh()\n",
              "  )\n",
              "  (dropout): Dropout(p=0.1, inplace=False)\n",
              "  (classifier): Linear(in_features=768, out_features=3, bias=True)\n",
              ")"
            ]
          },
          "execution_count": 9,
          "metadata": {},
          "output_type": "execute_result"
        }
      ],
      "source": [
        "\n",
        "# Inference\n",
        "from transformers import AlbertTokenizer, AlbertForSequenceClassification\n",
        "\n",
        "tokenizer = AlbertTokenizer.from_pretrained('albert-base-v2')\n",
        "num_classes = len(df['sentiment'].unique())  # Assuming labels are integers\n",
        "\n",
        "model_path = r\"/content/drive/MyDrive/Final_Albert/distilbert_model.pth\"\n",
        "model = AlbertForSequenceClassification.from_pretrained('albert-base-v2', num_labels=num_classes)\n",
        "model.load_state_dict(torch.load(model_path, map_location=torch.device('cuda' if torch.cuda.is_available() else 'cpu')))\n",
        "model.eval()  # Set the model to evaluation mode\n"
      ]
    },
    {
      "cell_type": "code",
      "execution_count": 10,
      "metadata": {
        "colab": {
          "base_uri": "https://localhost:8080/"
        },
        "id": "eOBjp4E1fumK",
        "outputId": "71877f42-081b-4da9-ee32-519770a3c576"
      },
      "outputs": [
        {
          "name": "stdout",
          "output_type": "stream",
          "text": [
            "0\n"
          ]
        }
      ],
      "source": [
        "#new_sentence_pos=\"The GeoSolutions technology will leverage Benefon 's GPS solutions by providing Location Based Search Technology , a Communities Platform , location relevant multimedia content and a new and powerful commercial model .\"\n",
        "new_sentence_pos = \"The company reported larger than expected earnings for the quarter, leading to a increase in stock prices.\"\n",
        "\n",
        "new_sentence_neg = \"The company reported lower than expected earnings for the quarter,leading to huge losses\"\n",
        "#new_sentence_neg = \"$ESI on lows, down $1.50 to $2.50 BK a real possibility\"\n",
        "\n",
        "new_sentence_neut = \"The company announced its quarterly earnings report.\"\n",
        "#new_sentence_neut =\"Ahlstrom Corporation STOCK EXCHANGE ANNOUNCEMENT 7.2.2007 at 10.30 A total of 56,955 new shares of Ahlstrom Corporation have been subscribed with option rights under the company 's stock option programs I 2001 and II 2001 .\"\n",
        "\n",
        "inputs = tokenizer(new_sentence_neg, return_tensors='pt')\n",
        "with torch.no_grad():\n",
        "    outputs = model(**inputs)\n",
        "    logits = outputs.logits\n",
        "    predicted_label = torch.argmax(logits, dim=1).item()\n",
        "print(predicted_label)\n"
      ]
    },
    {
      "cell_type": "code",
      "execution_count": 11,
      "metadata": {
        "colab": {
          "base_uri": "https://localhost:8080/"
        },
        "id": "_-nVUFDpfumK",
        "outputId": "0d5ef292-2fb7-44d9-d23e-1986fd77a0b0"
      },
      "outputs": [
        {
          "name": "stdout",
          "output_type": "stream",
          "text": [
            "2\n"
          ]
        }
      ],
      "source": [
        "inputs = tokenizer(new_sentence_pos, return_tensors='pt')\n",
        "with torch.no_grad():\n",
        "    outputs = model(**inputs)\n",
        "    logits = outputs.logits\n",
        "    predicted_label = torch.argmax(logits, dim=1).item()\n",
        "print(predicted_label)"
      ]
    },
    {
      "cell_type": "code",
      "execution_count": 12,
      "metadata": {
        "colab": {
          "base_uri": "https://localhost:8080/"
        },
        "id": "ceat-woYfumL",
        "outputId": "08ba5990-4f86-466c-9436-5c04fd487e41"
      },
      "outputs": [
        {
          "name": "stdout",
          "output_type": "stream",
          "text": [
            "1\n"
          ]
        }
      ],
      "source": [
        "inputs = tokenizer(new_sentence_neut, return_tensors='pt')\n",
        "with torch.no_grad():\n",
        "    outputs = model(**inputs)\n",
        "    logits = outputs.logits\n",
        "    predicted_label = torch.argmax(logits, dim=1).item()\n",
        "print(predicted_label)"
      ]
    },
    {
      "cell_type": "code",
      "execution_count": 16,
      "metadata": {
        "colab": {
          "base_uri": "https://localhost:8080/"
        },
        "id": "QDp9S3gyfumL",
        "outputId": "743d9267-1798-40b9-a06c-6685acc0dcea"
      },
      "outputs": [
        {
          "name": "stdout",
          "output_type": "stream",
          "text": [
            "Enter a statement: it was  a huge loss\n",
            "Predicted label: LABEL_0\n",
            "Predicted score: 0.5710006952285767\n",
            "Predicted sentiment: Negative\n"
          ]
        }
      ],
      "source": [
        "from transformers import AlbertForSequenceClassification, AlbertTokenizer, pipeline\n",
        "\n",
        "# Set up the few-shot pipeline\n",
        "def create_few_shot_pipeline(model):\n",
        "    # Load the fine-tuned ALBERT model\n",
        "    tokenizer = AlbertTokenizer.from_pretrained('albert-base-v2')\n",
        "\n",
        "    few_shot_pipeline = pipeline(\n",
        "        task=\"text-classification\",\n",
        "        model=model,\n",
        "        tokenizer=tokenizer\n",
        "    )\n",
        "\n",
        "    return few_shot_pipeline\n",
        "\n",
        "# Instantiate the ALBERT model for sequence classification\n",
        "# model = AlbertForSequenceClassification.from_pretrained('albert-base-v2')\n",
        "\n",
        "# Create the few-shot pipeline with your fine-tuned ALBERT model\n",
        "few_shot_pipeline = create_few_shot_pipeline(model)####PFREV FINE TUNED MODEL WILL BE USED\n",
        "\n",
        "# Define your few-shot texts and labels for training\n",
        "few_shot_texts = [\n",
        "    \"The GeoSolutions technology will leverage Benefon's GPS solutions by providing Location Based Search Technology, a Communities Platform, location relevant multimedia content and a new and powerful commercial model.\",\n",
        "    \"Ahlstrom Corporation STOCK EXCHANGE ANNOUNCEMENT 7.2.2007 at 10.30 A total of 56,955 new shares of Ahlstrom Corporation have been subscribed with option rights under the company's stock option programs I 2001 and II 2001.\",\n",
        "    \"$ESI on lows, down $1.50 to $2.50 BK a real possibility\"\n",
        "]\n",
        "few_shot_labels = [\"Positive\", \"Neutral\", \"Negative\"]  # Adjust labels accordingly\n",
        "\n",
        "#\n",
        "#########################################################\n",
        "################ to  stop overfittinng ####################\n",
        "# ############################################################\n",
        "# for text, label in zip(few_shot_texts, few_shot_labels):\n",
        "#     few_shot_pipeline(text)\n",
        "#\n",
        "#\n",
        "#\n",
        "#\n",
        "# Ask the user for input and predict\n",
        "user_input = input(\"Enter a statement: \")\n",
        "\n",
        "result = few_shot_pipeline(user_input)\n",
        "\n",
        "# Extract the predicted label from the result\n",
        "predicted_label = result[0]['label']\n",
        "predicted_score = result[0]['score']\n",
        "\n",
        "print(\"Predicted label:\", predicted_label)\n",
        "print(\"Predicted score:\", predicted_score)\n",
        "\n",
        "# Map the internal label indices to the actual labels\n",
        "label_map = {\n",
        "    \"LABEL_0\": \"Negative\",\n",
        "    \"LABEL_1\": \"Neutral\",\n",
        "    \"LABEL_2\": \"Positive\"\n",
        "}\n",
        "\n",
        "# Get the predicted sentiment label\n",
        "predicted_sentiment = label_map.get(predicted_label, \"Unknown\")\n",
        "print(\"Predicted sentiment:\", predicted_sentiment)\n"
      ]
    },
    {
      "cell_type": "code",
      "execution_count": 20,
      "metadata": {
        "id": "V2JHOy-xsD_p"
      },
      "outputs": [],
      "source": [
        "# Define the path to save the model (including the filename with the .pth extension)\n",
        "save_model_path = \"/content/drive/MyDrive/Final_Albert/fewshoted_model.pth\"\n",
        "\n",
        "# Save the model's state_dict() to a .pth file\n",
        "torch.save(model.state_dict(), save_model_path)\n"
      ]
    },
    {
      "cell_type": "code",
      "execution_count": 21,
      "metadata": {
        "colab": {
          "base_uri": "https://localhost:8080/"
        },
        "id": "vWqM5K9Psg8w",
        "outputId": "39d90038-16b1-452f-e2ad-2698220d96a9"
      },
      "outputs": [
        {
          "name": "stderr",
          "output_type": "stream",
          "text": [
            "Some weights of AlbertForSequenceClassification were not initialized from the model checkpoint at albert-base-v2 and are newly initialized: ['classifier.bias', 'classifier.weight']\n",
            "You should probably TRAIN this model on a down-stream task to be able to use it for predictions and inference.\n"
          ]
        },
        {
          "data": {
            "text/plain": [
              "AlbertForSequenceClassification(\n",
              "  (albert): AlbertModel(\n",
              "    (embeddings): AlbertEmbeddings(\n",
              "      (word_embeddings): Embedding(30000, 128, padding_idx=0)\n",
              "      (position_embeddings): Embedding(512, 128)\n",
              "      (token_type_embeddings): Embedding(2, 128)\n",
              "      (LayerNorm): LayerNorm((128,), eps=1e-12, elementwise_affine=True)\n",
              "      (dropout): Dropout(p=0, inplace=False)\n",
              "    )\n",
              "    (encoder): AlbertTransformer(\n",
              "      (embedding_hidden_mapping_in): Linear(in_features=128, out_features=768, bias=True)\n",
              "      (albert_layer_groups): ModuleList(\n",
              "        (0): AlbertLayerGroup(\n",
              "          (albert_layers): ModuleList(\n",
              "            (0): AlbertLayer(\n",
              "              (full_layer_layer_norm): LayerNorm((768,), eps=1e-12, elementwise_affine=True)\n",
              "              (attention): AlbertAttention(\n",
              "                (query): Linear(in_features=768, out_features=768, bias=True)\n",
              "                (key): Linear(in_features=768, out_features=768, bias=True)\n",
              "                (value): Linear(in_features=768, out_features=768, bias=True)\n",
              "                (attention_dropout): Dropout(p=0, inplace=False)\n",
              "                (output_dropout): Dropout(p=0, inplace=False)\n",
              "                (dense): Linear(in_features=768, out_features=768, bias=True)\n",
              "                (LayerNorm): LayerNorm((768,), eps=1e-12, elementwise_affine=True)\n",
              "              )\n",
              "              (ffn): Linear(in_features=768, out_features=3072, bias=True)\n",
              "              (ffn_output): Linear(in_features=3072, out_features=768, bias=True)\n",
              "              (activation): NewGELUActivation()\n",
              "              (dropout): Dropout(p=0, inplace=False)\n",
              "            )\n",
              "          )\n",
              "        )\n",
              "      )\n",
              "    )\n",
              "    (pooler): Linear(in_features=768, out_features=768, bias=True)\n",
              "    (pooler_activation): Tanh()\n",
              "  )\n",
              "  (dropout): Dropout(p=0.1, inplace=False)\n",
              "  (classifier): Linear(in_features=768, out_features=3, bias=True)\n",
              ")"
            ]
          },
          "execution_count": 21,
          "metadata": {},
          "output_type": "execute_result"
        }
      ],
      "source": [
        "from transformers import AlbertTokenizer, AlbertForSequenceClassification, AdamW\n",
        "\n",
        "tokenizer = AlbertTokenizer.from_pretrained('albert-base-v2')  # Use ALBERT tokenizer\n",
        "num_classes = len(df['sentiment'].unique())  # Assuming labels are integers\n",
        "\n",
        "model_path = '/content/drive/MyDrive/Final_Albert/fewshoted_model.pth'\n",
        "model = AlbertForSequenceClassification.from_pretrained('albert-base-v2', num_labels=num_classes)  # Initialize ALBERT model\n",
        "model.load_state_dict(torch.load(model_path, map_location=torch.device('cuda' if torch.cuda.is_available() else 'cpu')))\n",
        "model.eval()  # Set the model to evaluation mode\n"
      ]
    },
    {
      "cell_type": "code",
      "execution_count": 22,
      "metadata": {
        "colab": {
          "base_uri": "https://localhost:8080/"
        },
        "id": "rz77wUwhZ-xZ",
        "outputId": "951e499d-9589-4dac-a674-854712fba581"
      },
      "outputs": [
        {
          "name": "stdout",
          "output_type": "stream",
          "text": [
            "      True Label  Predicted Label\n",
            "0              2                2\n",
            "1              0                0\n",
            "2              1                0\n",
            "3              0                2\n",
            "4              1                2\n",
            "...          ...              ...\n",
            "1164           2                2\n",
            "1165           1                2\n",
            "1166           0                2\n",
            "1167           0                0\n",
            "1168           2                2\n",
            "\n",
            "[1169 rows x 2 columns]\n"
          ]
        }
      ],
      "source": [
        "import pandas as pd\n",
        "\n",
        "# Define a list to store data\n",
        "data = []\n",
        "\n",
        "# Evaluate the model on the validation dataset and store data\n",
        "model.eval()\n",
        "with torch.no_grad():\n",
        "    for batch in val_loader:\n",
        "        input_ids = batch['input_ids'].to(device)\n",
        "        attention_mask = batch['attention_mask'].to(device)\n",
        "        labels = batch['labels'].to(device)  # Assuming labels are also tensors\n",
        "\n",
        "        # Move model to the same device as input tensors\n",
        "        model = model.to(device)\n",
        "\n",
        "        # Make predictions\n",
        "        outputs = model(input_ids, attention_mask=attention_mask)\n",
        "        _, preds = torch.max(outputs.logits, dim=1)\n",
        "\n",
        "        # Append data to the list\n",
        "        for i, label in enumerate(labels):  # Iterate over labels directly\n",
        "            true_label = label.item()\n",
        "            predicted_label = preds[i].item()\n",
        "            data.append((true_label, predicted_label))\n",
        "\n",
        "# Create a DataFrame\n",
        "df_validation = pd.DataFrame(data, columns=['True Label', 'Predicted Label'])\n",
        "\n",
        "# Display the DataFrame\n",
        "print(df_validation)\n",
        "\n",
        "# Save the DataFrame to a CSV file\n",
        "df_validation.to_csv('your_file.csv', index=False)  # index=False prevents writing row indices\n"
      ]
    },
    {
      "cell_type": "code",
      "execution_count": 32,
      "metadata": {
        "colab": {
          "base_uri": "https://localhost:8080/"
        },
        "id": "4d9dj_lAaGg4",
        "outputId": "9efa76b7-1a1d-48ae-ff69-3eb233cd3b1a"
      },
      "outputs": [
        {
          "name": "stdout",
          "output_type": "stream",
          "text": [
            "CSV file saved to: /content/drive/MyDrive/Final_Albert/your_file.csv\n"
          ]
        }
      ],
      "source": [
        "import os\n",
        "\n",
        "# Define the directory where you want to save the CSV file\n",
        "save_directory = '/content/drive/MyDrive/Final_Albert'\n",
        "\n",
        "# Ensure the directory exists, create it if necessary\n",
        "os.makedirs(save_directory, exist_ok=True)\n",
        "\n",
        "# Define the file path\n",
        "csv_file_path = os.path.join(save_directory, 'your_file.csv')\n",
        "\n",
        "# Save the DataFrame to a CSV file\n",
        "df_validation.to_csv(csv_file_path, index=False)  # index=False prevents writing row indices\n",
        "\n",
        "print(f\"CSV file saved to: {csv_file_path}\")\n"
      ]
    },
    {
      "cell_type": "code",
      "execution_count": 1,
      "metadata": {
        "colab": {
          "base_uri": "https://localhost:8080/"
        },
        "id": "byxUCwfyaMEU",
        "outputId": "e53d1c6f-fb8d-442f-c916-14b410aad1a0"
      },
      "outputs": [
        {
          "name": "stdout",
          "output_type": "stream",
          "text": [
            "Accuracy: 0.2643284858853721\n",
            "Precision: 0.42125851515399776\n",
            "Recall: 0.2643284858853721\n",
            "F1-score: 0.19777588245254898\n"
          ]
        }
      ],
      "source": [
        "from sklearn.metrics import accuracy_score, precision_score, recall_score, f1_score, confusion_matrix\n",
        "import pandas as pd\n",
        "\n",
        "# Assuming you have loaded your dataset into a pandas DataFrame\n",
        "# Replace 'data.csv' with the path to your actual dataset\n",
        "df = pd.read_csv(r\"/content/drive/MyDrive/Final_Albert/your_file.csv\")\n",
        "\n",
        "# Extract true labels and predicted labels from the DataFrame\n",
        "true_labels = df['True Label']\n",
        "predicted_labels = df['Predicted Label']\n",
        "\n",
        "# Calculate accuracy\n",
        "accuracy = accuracy_score(true_labels, predicted_labels)\n",
        "print(\"Accuracy:\", accuracy)\n",
        "\n",
        "# Calculate precision\n",
        "precision = precision_score(true_labels, predicted_labels, average='weighted')\n",
        "print(\"Precision:\", precision)\n",
        "\n",
        "# Calculate recall\n",
        "recall = recall_score(true_labels, predicted_labels, average='weighted')\n",
        "print(\"Recall:\", recall)\n",
        "\n",
        "# Calculate F1-score\n",
        "f1 = f1_score(true_labels, predicted_labels, average='weighted')\n",
        "print(\"F1-score:\", f1)\n",
        "\n",
        "\n"
      ]
    },
    {
      "cell_type": "code",
      "execution_count": 2,
      "metadata": {
        "colab": {
          "base_uri": "https://localhost:8080/"
        },
        "id": "yyA9oR-jaOYI",
        "outputId": "37685707-e853-45d2-b445-03afacfc0e8d"
      },
      "outputs": [
        {
          "name": "stdout",
          "output_type": "stream",
          "text": [
            "Confusion Matrix:\n",
            "          Predicted 0  Predicted 1  Predicted 2\n",
            "Actual 0           64            7          133\n",
            "Actual 1          284           13          293\n",
            "Actual 2          140            3          232\n"
          ]
        }
      ],
      "source": [
        "import pandas as pd\n",
        "from sklearn.metrics import confusion_matrix\n",
        "\n",
        "\n",
        "# Extract true labels and predicted labels from the DataFrame\n",
        "true_labels = df['True Label']\n",
        "predicted_labels = df['Predicted Label']\n",
        "\n",
        "# Get unique labels\n",
        "labels = sorted(set(true_labels) | set(predicted_labels))\n",
        "\n",
        "# Calculate confusion matrix\n",
        "conf_matrix = confusion_matrix(true_labels, predicted_labels, labels=labels)\n",
        "\n",
        "# Create a DataFrame for the confusion matrix with headers\n",
        "confusion_df = pd.DataFrame(conf_matrix, index=['Actual ' + str(label) for label in labels], columns=['Predicted ' + str(label) for label in labels])\n",
        "print(\"Confusion Matrix:\")\n",
        "print(confusion_df)\n"
      ]
    },
    {
      "cell_type": "code",
      "execution_count": 4,
      "metadata": {
        "colab": {
          "base_uri": "https://localhost:8080/"
        },
        "id": "9LZrEQuVaTsg",
        "outputId": "5721c2bf-0afa-4642-bceb-a4d8d51bdb96"
      },
      "outputs": [
        {
          "name": "stdout",
          "output_type": "stream",
          "text": [
            "Accuracy for +ve class: 0.5132591958939264\n",
            "Recall for +ve class: 0.6186666666666667\n",
            "Precision for +ve class: 0.3525835866261398\n",
            "F1-score for +ve class: 0.4491771539206196\n"
          ]
        }
      ],
      "source": [
        "# Calculate the index for the positive class\n",
        "positive_class_index = labels.index(2)\n",
        "\n",
        "# Calculate true positives, false positives, false negatives for the positive class\n",
        "tp_positive = conf_matrix[positive_class_index, positive_class_index]\n",
        "fp_positive = conf_matrix[:, positive_class_index].sum() - tp_positive\n",
        "fn_positive = conf_matrix[positive_class_index, :].sum() - tp_positive\n",
        "tn_positive = conf_matrix.sum() - (tp_positive + fp_positive + fn_positive)\n",
        "\n",
        "# Calculate precision, recall, and F1-score for the positive class\n",
        "precision_positive = tp_positive / (tp_positive + fp_positive)\n",
        "recall_positive = tp_positive / (tp_positive + fn_positive)\n",
        "f1_positive = 2 * (precision_positive * recall_positive) / (precision_positive + recall_positive)\n",
        "accuracy_positive = (tp_positive + tn_positive) / (tp_positive + tn_positive + fp_positive + fn_positive)\n",
        "\n",
        "# Print the scores for the positive class\n",
        "print(\"Accuracy for +ve class:\", accuracy_positive)\n",
        "print(\"Recall for +ve class:\", recall_positive)\n",
        "print(\"Precision for +ve class:\", precision_positive)\n",
        "print(\"F1-score for +ve class:\", f1_positive)\n"
      ]
    },
    {
      "cell_type": "code",
      "execution_count": 37,
      "metadata": {
        "colab": {
          "base_uri": "https://localhost:8080/"
        },
        "id": "vSZsTYehaaSg",
        "outputId": "b5319da6-0aee-43f9-ee6f-8a66695147e3"
      },
      "outputs": [
        {
          "name": "stdout",
          "output_type": "stream",
          "text": [
            "Accuracy for neutral class (1): 0.49786142001710865\n",
            "Recall for neutral class (1): 0.022033898305084745\n",
            "Precision for neutral class (1): 0.5652173913043478\n",
            "F1-score for neutral class (1): 0.04241435562805873\n"
          ]
        }
      ],
      "source": [
        "# Calculate the index for the positive class (class 1)\n",
        "positive_class_index = labels.index(1)\n",
        "\n",
        "# Calculate true positives, false positives, false negatives for the positive class\n",
        "tp_positive = conf_matrix[positive_class_index, positive_class_index]\n",
        "fp_positive = conf_matrix[:, positive_class_index].sum() - tp_positive\n",
        "fn_positive = conf_matrix[positive_class_index, :].sum() - tp_positive\n",
        "\n",
        "# Calculate true negatives for the positive class (considering classes 0 and 2 as negative)\n",
        "tn_positive = conf_matrix.sum() - (tp_positive + fp_positive + fn_positive)\n",
        "\n",
        "# Calculate precision, recall, and F1-score for the positive class\n",
        "precision_positive = tp_positive / (tp_positive + fp_positive)\n",
        "recall_positive = tp_positive / (tp_positive + fn_positive)\n",
        "f1_positive = 2 * (precision_positive * recall_positive) / (precision_positive + recall_positive)\n",
        "accuracy_positive = (tp_positive + tn_positive) / (tp_positive + tn_positive + fp_positive + fn_positive)\n",
        "\n",
        "# Print the scores for the positive class\n",
        "print(\"Accuracy for neutral class (1):\", accuracy_positive)\n",
        "print(\"Recall for neutral class (1):\", recall_positive)\n",
        "print(\"Precision for neutral class (1):\", precision_positive)\n",
        "print(\"F1-score for neutral class (1):\", f1_positive)\n"
      ]
    },
    {
      "cell_type": "code",
      "execution_count": 38,
      "metadata": {
        "colab": {
          "base_uri": "https://localhost:8080/"
        },
        "id": "RhFY-P0eae_r",
        "outputId": "8f42fa80-ed5e-4d7e-83c9-ec1762d382ce"
      },
      "outputs": [
        {
          "name": "stdout",
          "output_type": "stream",
          "text": [
            "Accuracy for class : 0.5175363558597091\n",
            "Recall for class : 0.3137254901960784\n",
            "Precision for class : 0.13114754098360656\n",
            "F1-score for class 0 : 0.18497109826589594\n"
          ]
        }
      ],
      "source": [
        "# Calculate the index for the positive class (class 0)\n",
        "positive_class_index = labels.index(0)\n",
        "\n",
        "# Calculate true positives, false positives, false negatives for the positive class\n",
        "tp_positive = conf_matrix[positive_class_index, positive_class_index]\n",
        "fp_positive = conf_matrix[:, positive_class_index].sum() - tp_positive\n",
        "fn_positive = conf_matrix[positive_class_index, :].sum() - tp_positive\n",
        "\n",
        "# Calculate true negatives for the positive class (considering classes 1 and 2 as negative)\n",
        "tn_positive = conf_matrix.sum() - (tp_positive + fp_positive + fn_positive)\n",
        "\n",
        "# Calculate precision, recall, and F1-score for the positive class\n",
        "precision_positive = tp_positive / (tp_positive + fp_positive)\n",
        "recall_positive = tp_positive / (tp_positive + fn_positive)\n",
        "f1_positive = 2 * (precision_positive * recall_positive) / (precision_positive + recall_positive)\n",
        "accuracy_positive = (tp_positive + tn_positive) / (tp_positive + tn_positive + fp_positive + fn_positive)\n",
        "\n",
        "# Print the scores for the positive class\n",
        "print(\"Accuracy for class :\", accuracy_positive)\n",
        "print(\"Recall for class :\", recall_positive)\n",
        "print(\"Precision for class :\", precision_positive)\n",
        "print(\"F1-score for class 0 :\", f1_positive)\n"
      ]
    },
    {
      "cell_type": "code",
      "execution_count": 39,
      "metadata": {
        "colab": {
          "base_uri": "https://localhost:8080/",
          "height": 564
        },
        "id": "XMbVS0VSag35",
        "outputId": "ae88f5cc-6aa2-452f-c122-0e39e4ad891c"
      },
      "outputs": [
        {
          "data": {
            "image/png": "[encoded data removed]",
            "text/plain": [
              "<Figure size 800x600 with 1 Axes>"
            ]
          },
          "metadata": {},
          "output_type": "display_data"
        }
      ],
      "source": [
        "from sklearn.metrics import roc_curve, roc_auc_score\n",
        "import matplotlib.pyplot as plt\n",
        "\n",
        "# Compute the ROC curve for each class\n",
        "fpr = {}\n",
        "tpr = {}\n",
        "roc_auc = {}\n",
        "\n",
        "for i in range(len(labels)):\n",
        "    fpr[i], tpr[i], _ = roc_curve(true_labels == i, predicted_labels == i)\n",
        "    roc_auc[i] = roc_auc_score(true_labels == i, predicted_labels == i)\n",
        "\n",
        "# Plot the ROC curves\n",
        "plt.figure(figsize=(8, 6))\n",
        "for i in range(len(labels)):\n",
        "    plt.plot(fpr[i], tpr[i], label=f'ROC curve (class {i}) (AUC = {roc_auc[i]:0.2f})')\n",
        "\n",
        "plt.plot([0, 1], [0, 1], color='gray', linestyle='--')\n",
        "plt.xlim([0.0, 1.0])\n",
        "plt.ylim([0.0, 1.05])\n",
        "plt.xlabel('False Positive Rate')\n",
        "plt.ylabel('True Positive Rate')\n",
        "plt.title('Receiver Operating Characteristic (ROC) Curve')\n",
        "plt.legend(loc='lower right')\n",
        "plt.show()\n",
        "\n"
      ]
    },
    {
      "cell_type": "code",
      "execution_count": 40,
      "metadata": {
        "colab": {
          "base_uri": "https://localhost:8080/",
          "height": 564
        },
        "id": "m_c0RQ6dajKW",
        "outputId": "2a8d6492-b77d-4236-f9c4-9475fae14606"
      },
      "outputs": [
        {
          "data": {
            "image/png": "[encoded data removed]",
            "text/plain": [
              "<Figure size 800x600 with 1 Axes>"
            ]
          },
          "metadata": {},
          "output_type": "display_data"
        }
      ],
      "source": [
        "import matplotlib.pyplot as plt\n",
        "\n",
        "# Count the frequency of each class label\n",
        "label_counts = df['True Label'].value_counts()\n",
        "\n",
        "# Plot the histogram\n",
        "plt.figure(figsize=(8, 6))\n",
        "plt.bar(label_counts.index, label_counts.values, color='skyblue')\n",
        "plt.xlabel('Class Label')\n",
        "plt.ylabel('Frequency')\n",
        "plt.title('Distribution of Class Labels')\n",
        "plt.xticks(label_counts.index)  # Ensure all class labels are shown on the x-axis\n",
        "plt.show()\n"
      ]
    },
    {
      "cell_type": "code",
      "execution_count": 42,
      "metadata": {
        "colab": {
          "base_uri": "https://localhost:8080/",
          "height": 564
        },
        "id": "r4iPg6t2amRo",
        "outputId": "0807eaa1-ee98-49bb-89a0-ca4cf5d0c256"
      },
      "outputs": [
        {
          "data": {
            "image/png": "[encoded data removed]",
            "text/plain": [
              "<Figure size 800x600 with 1 Axes>"
            ]
          },
          "metadata": {},
          "output_type": "display_data"
        }
      ],
      "source": [
        "import torch\n",
        "import pandas as pd\n",
        "from torch.utils.data import DataLoader, Dataset\n",
        "from tqdm import tqdm\n",
        "\n",
        "# Read the CSV file with a different encoding\n",
        "dff = pd.read_csv(r\"/content/drive/MyDrive/Final_Albert/data.csv\", names=[\"sentence\", 'sentiment'], encoding='ISO-8859-1')\n",
        "\n",
        "# Define the mapping for sentiment labels\n",
        "sentiment_map = {\n",
        "    'positive': 2,\n",
        "    'negative': 0,\n",
        "    'neutral': 1\n",
        "}\n",
        "dff['sentiment'] = dff['sentiment'].map(sentiment_map)\n",
        "\n",
        "# Drop rows with NaN values in the 'sentiment' column\n",
        "dff = dff.dropna(subset=['sentiment'])\n",
        "\n",
        "# Apply the mapping to the 'sentiment' column in the DataFrame\n",
        "dff['sentiment'] = dff['sentiment'].astype(int)\n",
        "\n",
        "\n",
        "label_counts = dff['sentiment'].value_counts()\n",
        "\n",
        "# Plot the histogram\n",
        "plt.figure(figsize=(8, 6))\n",
        "plt.bar(label_counts.index, label_counts.values, color='skyblue')\n",
        "plt.xlabel('Class Label')\n",
        "plt.ylabel('Frequency')\n",
        "plt.title('Distribution of Class Labels')\n",
        "plt.xticks(label_counts.index)  # Ensure all class labels are shown on the x-axis\n",
        "plt.show()\n"
      ]
    },
    {
      "cell_type": "code",
      "execution_count": null,
      "metadata": {
        "id": "p2znOFcGnMlV"
      },
      "outputs": [],
      "source": []
    }
  ],
  "metadata": {
    "accelerator": "GPU",
    "colab": {
      "gpuType": "T4",
      "provenance": []
    },
    "kernelspec": {
      "display_name": "Python 3",
      "name": "python3"
    },
    "language_info": {
      "codemirror_mode": {
        "name": "ipython",
        "version": 3
      },
      "file_extension": ".py",
      "mimetype": "text/x-python",
      "name": "python",
      "nbconvert_exporter": "python",
      "pygments_lexer": "ipython3",
      "version": "3.11.3"
    },
    "orig_nbformat": 4
  },
  "nbformat": 4,
  "nbformat_minor": 0
}
