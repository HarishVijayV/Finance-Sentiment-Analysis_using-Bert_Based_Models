{
  "cells": [
    {
      "cell_type": "code",
      "execution_count": 4,
      "metadata": {
        "id": "Fzu3FRK8biy8"
      },
      "outputs": [],
      "source": [
        "import torch\n",
        "import pandas as pd\n",
        "from torch.utils.data import DataLoader, Dataset\n",
        "from transformers import DistilBertTokenizer, DistilBertForSequenceClassification, AdamW\n",
        "from tqdm import tqdm\n",
        "\n",
        "\n",
        "# Read the CSV file with a different encoding\n",
        "df = pd.read_csv('/content/drive/MyDrive/Final_Distilbert/data.csv', names=[\"sentence\", 'sentiment'], encoding='ISO-8859-1')\n",
        "\n",
        "# Define the mapping for sentiment labels\n",
        "sentiment_map = {\n",
        "    'positive': 2,\n",
        "    'negative': 0,\n",
        "    'neutral': 1\n",
        "}\n",
        "df['sentiment'] = df['sentiment'].map(sentiment_map)\n",
        "\n",
        "# Drop rows with NaN values in the 'sentiment' column\n",
        "df = df.dropna(subset=['sentiment'])\n",
        "\n",
        "# Apply the mapping to the 'sentiment' column in the DataFrame\n",
        "df['sentiment'] = df['sentiment'].astype(int)"
      ]
    },
    {
      "cell_type": "code",
      "execution_count": 3,
      "metadata": {
        "colab": {
          "base_uri": "https://localhost:8080/"
        },
        "id": "1TaUkHXPepwT",
        "outputId": "87e6459a-8d0d-4758-aa78-ae50eaf322fa"
      },
      "outputs": [
        {
          "name": "stdout",
          "output_type": "stream",
          "text": [
            "Mounted at /content/drive\n"
          ]
        }
      ],
      "source": [
        "from google.colab import drive\n",
        "drive.mount('/content/drive')"
      ]
    },
    {
      "cell_type": "code",
      "execution_count": 5,
      "metadata": {
        "colab": {
          "base_uri": "https://localhost:8080/",
          "height": 596,
          "referenced_widgets": [
            "81424a452634470bb34d602ed220546d",
            "776b9882421148abaf1af040c1daf558",
            "ffeede0dcb0a4389b83468941f25376f",
            "e98311022f0345199692bc2fea928493",
            "9e9a6fb965a14a2386716825a465bc8f",
            "440870f604514a5a90506bcde5349bc0",
            "aad90e33be1b4fb69d0351bd47cd900a",
            "029b2f92f11c44dcafe1484732e39122",
            "82126bbaaed540cd805b565c39cf5637",
            "08e80e899f42467e8240de1d6adcf7a7",
            "a9e53209ec0e4c019664820dfcd71574",
            "74561217246047a38e015ad35e492b65",
            "af45148c20d4477087eee8d7c6bc6e93",
            "53fbeb9d1bd346c9bbbb47cf97cb7120",
            "c5c63b3df1ff4244b6bbdb20a025f545",
            "edc9d8f277ed4faf89bbc62a459f18a5",
            "a63525d65692454fa10679c06a1bf989",
            "d42b97da7c7f44d2bc66cef9ccc61f82",
            "2d4e75ae1fc84ab9a6aace610b518e18",
            "29604f2e61d64545b1a4fbfed1d5943c",
            "02c0fc0b83a445208edfcfbc202a834f",
            "024320eaf7904d9e9e570167d43db686",
            "ecf763e060e644e1bc7429842a060f84",
            "6a4cb967bba34936bf416d31b63d27f5",
            "6d029a14c348466bb08b3ed541cb991f",
            "c3a04e2a5d2e4b6c82bad14359c529a5",
            "6c2cc190b98f4ef28475eff22c9258e4",
            "87f0eb3018d3428f891220c07ed49c4b",
            "3628d3e4a4b44041b73224d828a7b5d1",
            "f1413efa53e7441c890b7a9a156f3b5f",
            "27314aaff8274c25b3ef75c6cdfa7c27",
            "564a58d5ff1e4f1da48b680658dc04d7",
            "1788def6f80249a7a9b2e2affab504dc",
            "6fd6ed8b3c304fd29afafda9dadb57db",
            "369d95c4aaaf417eb8d2ca076db7cf22",
            "2edd9c5d091a4db6b6e6d2274ab98927",
            "b15d0005382f4e2f8f71c41e1b5906dc",
            "584ac3b60a0e4fb7b95c7b912712172a",
            "75c6a026df8a47eb80f41089328b075e",
            "11506c27b59b4aabad7ab4a79395461b",
            "43ec544bd2664425875f618f8e308219",
            "f5ecbaef5fea41d199482c6523a3e47b",
            "37c790856e1f4e69afca3355cd7050fe",
            "4425e4444cd54052a747989955eafdc9",
            "0f6e57e8cb424155aa3c8d31770eefe0",
            "e82707570e8245e9a44880f604e39f21",
            "82aee66489db46f393956fc400ae6031",
            "90e752240cfc454b931b9c09d6696997",
            "c011bffd73f64b5b8277f9f577ee7367",
            "c5d14edc724d42b7a871d949646ff736",
            "62b8ee09d8d8487484eba0f64d8b0367",
            "ebd9be305c714c0d81115b32b390f1fc",
            "586a00742c954c11b9ab8abc6689cedd",
            "f6fbbc1b22a14e40a65baf10b572d9cf",
            "693f125b30564c63a28702e475c4e8b1"
          ]
        },
        "id": "pdiKSwiGbiy9",
        "outputId": "c4da6098-0845-4750-d9c1-eb2764d5ac22"
      },
      "outputs": [
        {
          "name": "stderr",
          "output_type": "stream",
          "text": [
            "/usr/local/lib/python3.10/dist-packages/huggingface_hub/utils/_token.py:88: UserWarning: \n",
            "The secret `HF_TOKEN` does not exist in your Colab secrets.\n",
            "To authenticate with the Hugging Face Hub, create a token in your settings tab (https://huggingface.co/settings/tokens), set it as secret in your Google Colab and restart your session.\n",
            "You will be able to reuse this secret in all of your notebooks.\n",
            "Please note that authentication is recommended but still optional to access public models or datasets.\n",
            "  warnings.warn(\n"
          ]
        },
        {
          "data": {
            "application/vnd.jupyter.widget-view+json": {
              "model_id": "81424a452634470bb34d602ed220546d",
              "version_major": 2,
              "version_minor": 0
            },
            "text/plain": [
              "tokenizer_config.json:   0%|          | 0.00/28.0 [00:00<?, ?B/s]"
            ]
          },
          "metadata": {},
          "output_type": "display_data"
        },
        {
          "data": {
            "application/vnd.jupyter.widget-view+json": {
              "model_id": "74561217246047a38e015ad35e492b65",
              "version_major": 2,
              "version_minor": 0
            },
            "text/plain": [
              "vocab.txt:   0%|          | 0.00/232k [00:00<?, ?B/s]"
            ]
          },
          "metadata": {},
          "output_type": "display_data"
        },
        {
          "data": {
            "application/vnd.jupyter.widget-view+json": {
              "model_id": "ecf763e060e644e1bc7429842a060f84",
              "version_major": 2,
              "version_minor": 0
            },
            "text/plain": [
              "tokenizer.json:   0%|          | 0.00/466k [00:00<?, ?B/s]"
            ]
          },
          "metadata": {},
          "output_type": "display_data"
        },
        {
          "data": {
            "application/vnd.jupyter.widget-view+json": {
              "model_id": "6fd6ed8b3c304fd29afafda9dadb57db",
              "version_major": 2,
              "version_minor": 0
            },
            "text/plain": [
              "config.json:   0%|          | 0.00/483 [00:00<?, ?B/s]"
            ]
          },
          "metadata": {},
          "output_type": "display_data"
        },
        {
          "data": {
            "application/vnd.jupyter.widget-view+json": {
              "model_id": "0f6e57e8cb424155aa3c8d31770eefe0",
              "version_major": 2,
              "version_minor": 0
            },
            "text/plain": [
              "model.safetensors:   0%|          | 0.00/268M [00:00<?, ?B/s]"
            ]
          },
          "metadata": {},
          "output_type": "display_data"
        },
        {
          "name": "stderr",
          "output_type": "stream",
          "text": [
            "Some weights of DistilBertForSequenceClassification were not initialized from the model checkpoint at distilbert-base-uncased and are newly initialized: ['classifier.bias', 'classifier.weight', 'pre_classifier.bias', 'pre_classifier.weight']\n",
            "You should probably TRAIN this model on a down-stream task to be able to use it for predictions and inference.\n",
            "/usr/local/lib/python3.10/dist-packages/transformers/optimization.py:429: FutureWarning: This implementation of AdamW is deprecated and will be removed in a future version. Use the PyTorch implementation torch.optim.AdamW instead, or set `no_deprecation_warning=True` to disable this warning\n",
            "  warnings.warn(\n",
            "Epoch 1/4: 100%|██████████| 293/293 [00:48<00:00,  5.98batches/s]\n"
          ]
        },
        {
          "name": "stdout",
          "output_type": "stream",
          "text": [
            "Average training loss: 0.6334699760016321\n",
            "Average validation loss: 0.473294142331626, Validation accuracy: 0.7784431137724551\n"
          ]
        },
        {
          "name": "stderr",
          "output_type": "stream",
          "text": [
            "Epoch 2/4: 100%|██████████| 293/293 [00:50<00:00,  5.82batches/s]\n"
          ]
        },
        {
          "name": "stdout",
          "output_type": "stream",
          "text": [
            "Average training loss: 0.33892543512196266\n",
            "Average validation loss: 0.44152066161906395, Validation accuracy: 0.7818648417450813\n"
          ]
        },
        {
          "name": "stderr",
          "output_type": "stream",
          "text": [
            "Epoch 3/4: 100%|██████████| 293/293 [00:50<00:00,  5.77batches/s]\n"
          ]
        },
        {
          "name": "stdout",
          "output_type": "stream",
          "text": [
            "Average training loss: 0.31270366216733186\n",
            "Average validation loss: 0.4416519329958671, Validation accuracy: 0.7792985457656116\n"
          ]
        },
        {
          "name": "stderr",
          "output_type": "stream",
          "text": [
            "Epoch 4/4: 100%|██████████| 293/293 [00:50<00:00,  5.76batches/s]\n"
          ]
        },
        {
          "name": "stdout",
          "output_type": "stream",
          "text": [
            "Average training loss: 0.30618097932545196\n",
            "Average validation loss: 0.4416717211338314, Validation accuracy: 0.7801539777587682\n",
            "Training complete!\n"
          ]
        }
      ],
      "source": [
        "\n",
        "class CustomDataset(Dataset):\n",
        "    def __init__(self, dataframe, tokenizer, max_len):\n",
        "        self.dataframe = dataframe\n",
        "        self.tokenizer = tokenizer\n",
        "        self.max_len = max_len\n",
        "\n",
        "    def __len__(self):\n",
        "        return len(self.dataframe)\n",
        "\n",
        "    def __getitem__(self, idx):\n",
        "        text = self.dataframe.loc[idx, 'sentence']\n",
        "        label = self.dataframe.loc[idx, 'sentiment']\n",
        "        encoding = self.tokenizer(text,\n",
        "                                  add_special_tokens=True,\n",
        "                                  max_length=self.max_len,\n",
        "                                  truncation=True,\n",
        "                                  padding='max_length',\n",
        "                                  return_tensors='pt')\n",
        "        return {\n",
        "            'input_ids': encoding['input_ids'].flatten(),\n",
        "            'attention_mask': encoding['attention_mask'].flatten(),\n",
        "            'labels': torch.tensor(label, dtype=torch.long)\n",
        "        }\n",
        "\n",
        "# Initialize the DistilBERT tokenizer and model\n",
        "tokenizer = DistilBertTokenizer.from_pretrained('distilbert-base-uncased')\n",
        "num_classes = len(df['sentiment'].unique())  # Assuming labels are integers\n",
        "model = DistilBertForSequenceClassification.from_pretrained('distilbert-base-uncased', num_labels=num_classes)\n",
        "\n",
        "# Define hyperparameters\n",
        "batch_size = 16\n",
        "max_len = 128\n",
        "num_epochs = 4\n",
        "learning_rate = 2e-5\n",
        "\n",
        "# Create instances of custom dataset\n",
        "dataset = CustomDataset(dataframe=df, tokenizer=tokenizer, max_len=max_len)\n",
        "\n",
        "# Split dataset into train and validation\n",
        "train_size = int(0.8 * len(dataset))\n",
        "val_size = len(dataset) - train_size\n",
        "train_dataset, val_dataset = torch.utils.data.random_split(dataset, [train_size, val_size])\n",
        "\n",
        "# Create data loaders\n",
        "train_loader = DataLoader(train_dataset, batch_size=batch_size, shuffle=True)\n",
        "val_loader = DataLoader(val_dataset, batch_size=batch_size, shuffle=False)\n",
        "\n",
        "# Set device\n",
        "device = torch.device('cuda' if torch.cuda.is_available() else 'cpu')\n",
        "model.to(device)\n",
        "\n",
        "# Define optimizer and scheduler\n",
        "optimizer = AdamW(model.parameters(), lr=learning_rate)\n",
        "scheduler = torch.optim.lr_scheduler.StepLR(optimizer, step_size=1, gamma=0.1)\n",
        "\n",
        "# Define training loop\n",
        "for epoch in range(num_epochs):\n",
        "    model.train()\n",
        "    total_loss = 0\n",
        "    for batch in tqdm(train_loader, desc=f'Epoch {epoch + 1}/{num_epochs}', unit='batches'):\n",
        "        input_ids = batch['input_ids'].to(device)\n",
        "        attention_mask = batch['attention_mask'].to(device)\n",
        "        labels = batch['labels'].to(device)\n",
        "\n",
        "        optimizer.zero_grad()\n",
        "        outputs = model(input_ids, attention_mask=attention_mask, labels=labels)\n",
        "        loss = outputs.loss\n",
        "        total_loss += loss.item()\n",
        "        loss.backward()\n",
        "        optimizer.step()\n",
        "    avg_train_loss = total_loss / len(train_loader)\n",
        "    print(f'Average training loss: {avg_train_loss}')\n",
        "\n",
        "    # Validation\n",
        "    model.eval()\n",
        "    val_loss = 0\n",
        "    num_correct = 0\n",
        "    num_samples = 0\n",
        "    with torch.no_grad():\n",
        "        for batch in val_loader:\n",
        "            input_ids = batch['input_ids'].to(device)\n",
        "            attention_mask = batch['attention_mask'].to(device)\n",
        "            labels = batch['labels'].to(device)\n",
        "\n",
        "            outputs = model(input_ids, attention_mask=attention_mask, labels=labels)\n",
        "            loss = outputs.loss\n",
        "            val_loss += loss.item()\n",
        "\n",
        "            _, preds = torch.max(outputs.logits, dim=1)\n",
        "            num_correct += (preds == labels).sum().item()\n",
        "            num_samples += labels.size(0)\n",
        "\n",
        "    avg_val_loss = val_loss / len(val_loader)\n",
        "    val_accuracy = num_correct / num_samples\n",
        "    print(f'Average validation loss: {avg_val_loss}, Validation accuracy: {val_accuracy}')\n",
        "\n",
        "    # Update the learning rate\n",
        "    scheduler.step()\n",
        "\n",
        "print('Training complete!')\n",
        "# Save the model after training\n",
        "torch.save(model.state_dict(), 'distilbert_model.pth')"
      ]
    },
    {
      "cell_type": "code",
      "execution_count": 6,
      "metadata": {
        "id": "s_73phjYJcZR"
      },
      "outputs": [],
      "source": [
        "# torch.save(model.state_dict(), '/content/drive/MyDrive/Final_Distilbert/distilbert_model.pth')"
      ]
    },
    {
      "cell_type": "code",
      "execution_count": null,
      "metadata": {
        "id": "A88fbo5YHjcm"
      },
      "outputs": [],
      "source": [
        "# from google.colab import drive\n",
        "# drive.mount('/content/drive')"
      ]
    },
    {
      "cell_type": "code",
      "execution_count": null,
      "metadata": {
        "id": "xflh8dYKdg6f"
      },
      "outputs": [],
      "source": []
    },
    {
      "cell_type": "code",
      "execution_count": 7,
      "metadata": {
        "colab": {
          "base_uri": "https://localhost:8080/"
        },
        "id": "dmj9T44dbiy9",
        "outputId": "edf0c486-cfe3-49a7-acf9-f1dd53919aef"
      },
      "outputs": [
        {
          "name": "stderr",
          "output_type": "stream",
          "text": [
            "Some weights of DistilBertForSequenceClassification were not initialized from the model checkpoint at distilbert-base-uncased and are newly initialized: ['classifier.bias', 'classifier.weight', 'pre_classifier.bias', 'pre_classifier.weight']\n",
            "You should probably TRAIN this model on a down-stream task to be able to use it for predictions and inference.\n"
          ]
        },
        {
          "data": {
            "text/plain": [
              "DistilBertForSequenceClassification(\n",
              "  (distilbert): DistilBertModel(\n",
              "    (embeddings): Embeddings(\n",
              "      (word_embeddings): Embedding(30522, 768, padding_idx=0)\n",
              "      (position_embeddings): Embedding(512, 768)\n",
              "      (LayerNorm): LayerNorm((768,), eps=1e-12, elementwise_affine=True)\n",
              "      (dropout): Dropout(p=0.1, inplace=False)\n",
              "    )\n",
              "    (transformer): Transformer(\n",
              "      (layer): ModuleList(\n",
              "        (0-5): 6 x TransformerBlock(\n",
              "          (attention): MultiHeadSelfAttention(\n",
              "            (dropout): Dropout(p=0.1, inplace=False)\n",
              "            (q_lin): Linear(in_features=768, out_features=768, bias=True)\n",
              "            (k_lin): Linear(in_features=768, out_features=768, bias=True)\n",
              "            (v_lin): Linear(in_features=768, out_features=768, bias=True)\n",
              "            (out_lin): Linear(in_features=768, out_features=768, bias=True)\n",
              "          )\n",
              "          (sa_layer_norm): LayerNorm((768,), eps=1e-12, elementwise_affine=True)\n",
              "          (ffn): FFN(\n",
              "            (dropout): Dropout(p=0.1, inplace=False)\n",
              "            (lin1): Linear(in_features=768, out_features=3072, bias=True)\n",
              "            (lin2): Linear(in_features=3072, out_features=768, bias=True)\n",
              "            (activation): GELUActivation()\n",
              "          )\n",
              "          (output_layer_norm): LayerNorm((768,), eps=1e-12, elementwise_affine=True)\n",
              "        )\n",
              "      )\n",
              "    )\n",
              "  )\n",
              "  (pre_classifier): Linear(in_features=768, out_features=768, bias=True)\n",
              "  (classifier): Linear(in_features=768, out_features=3, bias=True)\n",
              "  (dropout): Dropout(p=0.2, inplace=False)\n",
              ")"
            ]
          },
          "execution_count": 7,
          "metadata": {},
          "output_type": "execute_result"
        }
      ],
      "source": [
        "# Inference\n",
        "from transformers import DistilBertForSequenceClassification, DistilBertTokenizer, pipeline\n",
        "tokenizer = DistilBertTokenizer.from_pretrained('distilbert-base-uncased')\n",
        "num_classes = len(df['sentiment'].unique())  # Assuming labels are integers\n",
        "\n",
        "model_path = r\"/content/drive/MyDrive/Final_Distilbert/distilbert_model.pth\"\n",
        "model = DistilBertForSequenceClassification.from_pretrained('distilbert-base-uncased', num_labels=num_classes)\n",
        "model.load_state_dict(torch.load(model_path, map_location=torch.device('cuda' if torch.cuda.is_available() else 'cpu')))\n",
        "model.eval()  # Set the model to evaluation mode"
      ]
    },
    {
      "cell_type": "code",
      "execution_count": 8,
      "metadata": {
        "colab": {
          "base_uri": "https://localhost:8080/"
        },
        "id": "gwOqC7ZVbiy9",
        "outputId": "cf24c9e6-4677-4a20-f6a1-953ca73e2a61"
      },
      "outputs": [
        {
          "name": "stdout",
          "output_type": "stream",
          "text": [
            "0\n"
          ]
        }
      ],
      "source": [
        "#new_sentence_pos=\"The GeoSolutions technology will leverage Benefon 's GPS solutions by providing Location Based Search Technology , a Communities Platform , location relevant multimedia content and a new and powerful commercial model .\"\n",
        "new_sentence_pos = \"The company reported higher than expected earnings for the quarter\"\n",
        "new_sentence_neg = \" huge loss for the company.\"\n",
        "#new_sentence_neg = \"$ESI on lows, down $1.50 to $2.50 BK a real possibility\"\n",
        "\n",
        "new_sentence_neut = \"The company announced its quarterly earnings report.\"\n",
        "#new_sentence_neut =\"Ahlstrom Corporation STOCK EXCHANGE ANNOUNCEMENT 7.2.2007 at 10.30 A total of 56,955 new shares of Ahlstrom Corporation have been subscribed with option rights under the company 's stock option programs I 2001 and II 2001 .\"\n",
        "\n",
        "inputs = tokenizer(new_sentence_neg, return_tensors='pt')\n",
        "with torch.no_grad():\n",
        "    outputs = model(**inputs)\n",
        "    logits = outputs.logits\n",
        "    predicted_label = torch.argmax(logits, dim=1).item()\n",
        "print(predicted_label)\n",
        "\n",
        "\n",
        "\n",
        "#####################!!!!!not classifying negativee properly!!!###############################"
      ]
    },
    {
      "cell_type": "code",
      "execution_count": 9,
      "metadata": {
        "colab": {
          "base_uri": "https://localhost:8080/"
        },
        "id": "BcgxrjuQbiy9",
        "outputId": "df77fac1-d6f8-4aa6-b1ce-4184105aea92"
      },
      "outputs": [
        {
          "name": "stdout",
          "output_type": "stream",
          "text": [
            "2\n"
          ]
        }
      ],
      "source": [
        "inputs = tokenizer(new_sentence_pos, return_tensors='pt')\n",
        "with torch.no_grad():\n",
        "    outputs = model(**inputs)\n",
        "    logits = outputs.logits\n",
        "    predicted_label = torch.argmax(logits, dim=1).item()\n",
        "print(predicted_label)"
      ]
    },
    {
      "cell_type": "code",
      "execution_count": 10,
      "metadata": {
        "colab": {
          "base_uri": "https://localhost:8080/"
        },
        "id": "sDfvEV-pbiy-",
        "outputId": "b226fe58-5618-4055-dd78-14c9fb96ead6"
      },
      "outputs": [
        {
          "name": "stdout",
          "output_type": "stream",
          "text": [
            "1\n"
          ]
        }
      ],
      "source": [
        "inputs = tokenizer(new_sentence_neut, return_tensors='pt')\n",
        "with torch.no_grad():\n",
        "    outputs = model(**inputs)\n",
        "    logits = outputs.logits\n",
        "    predicted_label = torch.argmax(logits, dim=1).item()\n",
        "print(predicted_label)"
      ]
    },
    {
      "cell_type": "code",
      "execution_count": 12,
      "metadata": {
        "colab": {
          "base_uri": "https://localhost:8080/"
        },
        "id": "e1nQpTm_biy-",
        "outputId": "e505bc65-72ce-4332-fe88-b05759a8e622"
      },
      "outputs": [
        {
          "name": "stdout",
          "output_type": "stream",
          "text": [
            "Enter a statement: it was a profitable year\n",
            "Predicted label: LABEL_2\n",
            "Predicted score: 0.9143717288970947\n",
            "Predicted sentiment: Positive\n"
          ]
        }
      ],
      "source": [
        "from transformers import DistilBertForSequenceClassification, DistilBertTokenizer, pipeline\n",
        "\n",
        "# Set up the few-shot pipeline\n",
        "def create_few_shot_pipeline(model):\n",
        "    # Load the fine-tuned DistilBERT model\n",
        "    tokenizer = DistilBertTokenizer.from_pretrained('distilbert-base-uncased')\n",
        "\n",
        "    few_shot_pipeline = pipeline(\n",
        "        task=\"text-classification\",\n",
        "        model=model,\n",
        "        tokenizer=tokenizer\n",
        "    )\n",
        "\n",
        "    return few_shot_pipeline\n",
        "\n",
        "# Define the path to your fine-tuned DistilBERT model (if applicable)\n",
        "# model_path = \"/content/drive/MyDrive/Final_distilbert\"\n",
        "\n",
        "# Instantiate the DistilBERT model for sequence classification\n",
        "# model = DistilBertForSequenceClassification.from_pretrained('distilbert-base-uncased')\n",
        "\n",
        "# Create the few-shot pipeline with your fine-tuned model\n",
        "few_shot_pipeline = create_few_shot_pipeline(model)\n",
        "\n",
        "# Define your few-shot texts and labels for training\n",
        "few_shot_texts = [\n",
        "    \"The GeoSolutions technology will leverage Benefon's GPS solutions by providing Location Based Search Technology, a Communities Platform, location relevant multimedia content and a new and powerful commercial model.\",\n",
        "    \"Ahlstrom Corporation STOCK EXCHANGE ANNOUNCEMENT 7.2.2007 at 10.30 A total of 56,955 new shares of Ahlstrom Corporation have been subscribed with option rights under the company's stock option programs I 2001 and II 2001.\",\n",
        "    \"$ESI on lows, down $1.50 to $2.50 BK a real possibility\"\n",
        "]\n",
        "few_shot_labels = [\"Positive\", \"Neutral\", \"Negative\"]  # Adjust labels accordingly\n",
        "\n",
        "# Train the pipeline with your few-shot data\n",
        "#\n",
        "#########################################################\n",
        "################ to  stop overfittinng ####################\n",
        "############################################################\n",
        "# for text, label in zip(few_shot_texts, few_shot_labels):\n",
        "#     few_shot_pipeline(text)\n",
        "\n",
        "#\n",
        "#\n",
        "#\n",
        "# Ask the user for input and predict\n",
        "user_input = input(\"Enter a statement: \")\n",
        "\n",
        "result = few_shot_pipeline(user_input)\n",
        "\n",
        "# Extract the predicted label from the result\n",
        "predicted_label = result[0]['label']\n",
        "predicted_score = result[0]['score']\n",
        "\n",
        "print(\"Predicted label:\", predicted_label)\n",
        "print(\"Predicted score:\", predicted_score)\n",
        "\n",
        "# Map the internal label indices to the actual labels\n",
        "label_map = {\n",
        "    \"LABEL_0\": \"Negative\",\n",
        "    \"LABEL_1\": \"Neutral\",\n",
        "    \"LABEL_2\": \"Positive\"\n",
        "}\n",
        "\n",
        "# Get the predicted sentiment label\n",
        "predicted_sentiment = label_map.get(predicted_label, \"Unknown\")\n",
        "print(\"Predicted sentiment:\", predicted_sentiment)\n"
      ]
    },
    {
      "cell_type": "code",
      "execution_count": 15,
      "metadata": {
        "id": "lLDlXMJ3deIs"
      },
      "outputs": [],
      "source": [
        "# # Define the path to save the model (including the filename with the .pth extension)\n",
        "# save_model_path = \"/content/drive/MyDrive/Final_Distilbert/fewshoted_model.pth\"\n",
        "\n",
        "# # Save the model's state_dict() to a .pth file\n",
        "# torch.save(model.state_dict(), save_model_path)\n"
      ]
    },
    {
      "cell_type": "code",
      "execution_count": 14,
      "metadata": {
        "id": "hYKTwSORNhEG"
      },
      "outputs": [],
      "source": [
        "# # Define the directory path where you want to save your model\n",
        "# save_model_path = \"/content/drive/MyDrive/Final_Distilbert\"\n",
        "\n",
        "# # Save the model and tokenizer (optional) using the save_pretrained() method\n",
        "# model.save_pretrained(save_model_path)\n"
      ]
    },
    {
      "cell_type": "code",
      "execution_count": 16,
      "metadata": {
        "colab": {
          "base_uri": "https://localhost:8080/"
        },
        "id": "h-nXB0coeS0c",
        "outputId": "b4deda3c-a19c-4ae1-80d8-5bf00a8cf079"
      },
      "outputs": [
        {
          "name": "stderr",
          "output_type": "stream",
          "text": [
            "Some weights of DistilBertForSequenceClassification were not initialized from the model checkpoint at distilbert-base-uncased and are newly initialized: ['classifier.bias', 'classifier.weight', 'pre_classifier.bias', 'pre_classifier.weight']\n",
            "You should probably TRAIN this model on a down-stream task to be able to use it for predictions and inference.\n"
          ]
        },
        {
          "data": {
            "text/plain": [
              "DistilBertForSequenceClassification(\n",
              "  (distilbert): DistilBertModel(\n",
              "    (embeddings): Embeddings(\n",
              "      (word_embeddings): Embedding(30522, 768, padding_idx=0)\n",
              "      (position_embeddings): Embedding(512, 768)\n",
              "      (LayerNorm): LayerNorm((768,), eps=1e-12, elementwise_affine=True)\n",
              "      (dropout): Dropout(p=0.1, inplace=False)\n",
              "    )\n",
              "    (transformer): Transformer(\n",
              "      (layer): ModuleList(\n",
              "        (0-5): 6 x TransformerBlock(\n",
              "          (attention): MultiHeadSelfAttention(\n",
              "            (dropout): Dropout(p=0.1, inplace=False)\n",
              "            (q_lin): Linear(in_features=768, out_features=768, bias=True)\n",
              "            (k_lin): Linear(in_features=768, out_features=768, bias=True)\n",
              "            (v_lin): Linear(in_features=768, out_features=768, bias=True)\n",
              "            (out_lin): Linear(in_features=768, out_features=768, bias=True)\n",
              "          )\n",
              "          (sa_layer_norm): LayerNorm((768,), eps=1e-12, elementwise_affine=True)\n",
              "          (ffn): FFN(\n",
              "            (dropout): Dropout(p=0.1, inplace=False)\n",
              "            (lin1): Linear(in_features=768, out_features=3072, bias=True)\n",
              "            (lin2): Linear(in_features=3072, out_features=768, bias=True)\n",
              "            (activation): GELUActivation()\n",
              "          )\n",
              "          (output_layer_norm): LayerNorm((768,), eps=1e-12, elementwise_affine=True)\n",
              "        )\n",
              "      )\n",
              "    )\n",
              "  )\n",
              "  (pre_classifier): Linear(in_features=768, out_features=768, bias=True)\n",
              "  (classifier): Linear(in_features=768, out_features=3, bias=True)\n",
              "  (dropout): Dropout(p=0.2, inplace=False)\n",
              ")"
            ]
          },
          "execution_count": 16,
          "metadata": {},
          "output_type": "execute_result"
        }
      ],
      "source": [
        "from transformers import DistilBertTokenizer, DistilBertForSequenceClassification, AdamW\n",
        "\n",
        "tokenizer = DistilBertTokenizer.from_pretrained('distilbert-base-uncased')\n",
        "num_classes = len(df['sentiment'].unique())  # Assuming labels are integers\n",
        "\n",
        "model_path = '/content/drive/MyDrive/Final_Distilbert/fewshoted_model.pth'\n",
        "model = DistilBertForSequenceClassification.from_pretrained('distilbert-base-uncased', num_labels=num_classes)\n",
        "model.load_state_dict(torch.load(model_path, map_location=torch.device('cuda' if torch.cuda.is_available() else 'cpu')))\n",
        "model.eval()  # Set the model to evaluation mode\n"
      ]
    },
    {
      "cell_type": "markdown",
      "metadata": {
        "id": "RYUZew15eTrd"
      },
      "source": [
        "using the above finetuned then fewshoted and updated in the same name model to predict accuracy etc.."
      ]
    },
    {
      "cell_type": "code",
      "execution_count": 17,
      "metadata": {
        "colab": {
          "base_uri": "https://localhost:8080/"
        },
        "id": "UIar-gdkMqQ4",
        "outputId": "6bc2b253-fd14-4eb7-f4ec-8fdaeac06ff5"
      },
      "outputs": [
        {
          "name": "stdout",
          "output_type": "stream",
          "text": [
            "      True Label  Predicted Label\n",
            "0              2                2\n",
            "1              1                1\n",
            "2              2                2\n",
            "3              1                1\n",
            "4              1                1\n",
            "...          ...              ...\n",
            "1164           0                1\n",
            "1165           1                1\n",
            "1166           1                1\n",
            "1167           1                1\n",
            "1168           2                0\n",
            "\n",
            "[1169 rows x 2 columns]\n"
          ]
        }
      ],
      "source": [
        "import pandas as pd\n",
        "\n",
        "# Define a list to store data\n",
        "data = []\n",
        "\n",
        "# Evaluate the model on the validation dataset and store data\n",
        "model.eval()\n",
        "with torch.no_grad():\n",
        "    for batch in val_loader:\n",
        "        input_ids = batch['input_ids'].to(device)\n",
        "        attention_mask = batch['attention_mask'].to(device)\n",
        "        labels = batch['labels'].to(device)  # Assuming labels are also tensors\n",
        "\n",
        "        # Move model to the same device as input tensors\n",
        "        model = model.to(device)\n",
        "\n",
        "        # Make predictions\n",
        "        outputs = model(input_ids, attention_mask=attention_mask)\n",
        "        _, preds = torch.max(outputs.logits, dim=1)\n",
        "\n",
        "        # Append data to the list\n",
        "        for i, label in enumerate(labels):  # Iterate over labels directly\n",
        "            true_label = label.item()\n",
        "            predicted_label = preds[i].item()\n",
        "            data.append((true_label, predicted_label))\n",
        "\n",
        "# Create a DataFrame\n",
        "df_validation = pd.DataFrame(data, columns=['True Label', 'Predicted Label'])\n",
        "\n",
        "# Display the DataFrame\n",
        "print(df_validation)\n",
        "\n",
        "# Save the DataFrame to a CSV file\n",
        "df_validation.to_csv('your_file.csv', index=False)  # index=False prevents writing row indices\n"
      ]
    },
    {
      "cell_type": "code",
      "execution_count": 18,
      "metadata": {
        "colab": {
          "base_uri": "https://localhost:8080/"
        },
        "id": "FzuLs4YsOPHB",
        "outputId": "95ed9e76-438d-4dee-a3f5-35cd63ba28ac"
      },
      "outputs": [
        {
          "name": "stdout",
          "output_type": "stream",
          "text": [
            "CSV file saved to: /content/drive/MyDrive/Final_Distilbert/your_file.csv\n"
          ]
        }
      ],
      "source": [
        "# import os\n",
        "\n",
        "# # Define the directory where you want to save the CSV file\n",
        "# save_directory = '/content/drive/MyDrive/Final_Distilbert'\n",
        "\n",
        "# # Ensure the directory exists, create it if necessary\n",
        "# os.makedirs(save_directory, exist_ok=True)\n",
        "\n",
        "# # Define the file path\n",
        "# csv_file_path = os.path.join(save_directory, 'your_file.csv')\n",
        "\n",
        "# # Save the DataFrame to a CSV file\n",
        "# df_validation.to_csv(csv_file_path, index=False)  # index=False prevents writing row indices\n",
        "\n",
        "# print(f\"CSV file saved to: {csv_file_path}\")\n"
      ]
    },
    {
      "cell_type": "markdown",
      "metadata": {
        "id": "rJhYUkGgPZFG"
      },
      "source": [
        "# Overall Evaluation"
      ]
    },
    {
      "cell_type": "code",
      "execution_count": 1,
      "metadata": {
        "colab": {
          "base_uri": "https://localhost:8080/"
        },
        "id": "K_ks6o7ePQlJ",
        "outputId": "40592fcc-6c78-453d-c49f-25be0c3b6b9f"
      },
      "outputs": [
        {
          "name": "stdout",
          "output_type": "stream",
          "text": [
            "Accuracy: 0.7801539777587682\n",
            "Precision: 0.7781082290268851\n",
            "Recall: 0.7801539777587682\n",
            "F1-score: 0.7790810049003107\n"
          ]
        }
      ],
      "source": [
        "from sklearn.metrics import accuracy_score, precision_score, recall_score, f1_score, confusion_matrix\n",
        "import pandas as pd\n",
        "\n",
        "# Assuming you have loaded your dataset into a pandas DataFrame\n",
        "# Replace 'data.csv' with the path to your actual dataset\n",
        "df = pd.read_csv(r\"/content/drive/MyDrive/Final_Distilbert/your_file.csv\")\n",
        "\n",
        "# Extract true labels and predicted labels from the DataFrame\n",
        "true_labels = df['True Label']\n",
        "predicted_labels = df['Predicted Label']\n",
        "\n",
        "# Calculate accuracy\n",
        "accuracy = accuracy_score(true_labels, predicted_labels)\n",
        "print(\"Accuracy:\", accuracy)\n",
        "\n",
        "# Calculate precision\n",
        "precision = precision_score(true_labels, predicted_labels, average='weighted')\n",
        "print(\"Precision:\", precision)\n",
        "\n",
        "# Calculate recall\n",
        "recall = recall_score(true_labels, predicted_labels, average='weighted')\n",
        "print(\"Recall:\", recall)\n",
        "\n",
        "# Calculate F1-score\n",
        "f1 = f1_score(true_labels, predicted_labels, average='weighted')\n",
        "print(\"F1-score:\", f1)\n",
        "\n",
        "\n"
      ]
    },
    {
      "cell_type": "markdown",
      "metadata": {
        "id": "lyJ0QRh2PpSe"
      },
      "source": [
        "# Confusion Matrix"
      ]
    },
    {
      "cell_type": "code",
      "execution_count": 2,
      "metadata": {
        "colab": {
          "base_uri": "https://localhost:8080/"
        },
        "id": "OCMCq2WIPk7J",
        "outputId": "4ba289f5-b925-4a5f-9384-0f72d0d9e140"
      },
      "outputs": [
        {
          "name": "stdout",
          "output_type": "stream",
          "text": [
            "Confusion Matrix:\n",
            "          Predicted 0  Predicted 1  Predicted 2\n",
            "Actual 0           72           71           17\n",
            "Actual 1           61          506           45\n",
            "Actual 2           20           43          334\n"
          ]
        }
      ],
      "source": [
        "import pandas as pd\n",
        "from sklearn.metrics import confusion_matrix\n",
        "\n",
        "\n",
        "# Extract true labels and predicted labels from the DataFrame\n",
        "true_labels = df['True Label']\n",
        "predicted_labels = df['Predicted Label']\n",
        "\n",
        "# Get unique labels\n",
        "labels = sorted(set(true_labels) | set(predicted_labels))\n",
        "\n",
        "# Calculate confusion matrix\n",
        "conf_matrix = confusion_matrix(true_labels, predicted_labels, labels=labels)\n",
        "\n",
        "# Create a DataFrame for the confusion matrix with headers\n",
        "confusion_df = pd.DataFrame(conf_matrix, index=['Actual ' + str(label) for label in labels], columns=['Predicted ' + str(label) for label in labels])\n",
        "print(\"Confusion Matrix:\")\n",
        "print(confusion_df)\n"
      ]
    },
    {
      "cell_type": "markdown",
      "metadata": {
        "id": "JdekR8DDQEVL"
      },
      "source": [
        "# Evaluation-Positive class"
      ]
    },
    {
      "cell_type": "code",
      "execution_count": 4,
      "metadata": {
        "colab": {
          "base_uri": "https://localhost:8080/"
        },
        "id": "O-R12wIWQBK4",
        "outputId": "c21c36e7-1181-4cb1-b324-39fa997c6032"
      },
      "outputs": [
        {
          "name": "stdout",
          "output_type": "stream",
          "text": [
            "Accuracy for +ve class: 0.893071000855432\n",
            "Recall for +ve class: 0.8413098236775819\n",
            "Precision for +ve class: 0.8434343434343434\n",
            "F1-score for +ve class: 0.8423707440100882\n"
          ]
        }
      ],
      "source": [
        "# Calculate the index for the positive class\n",
        "positive_class_index = labels.index(2)\n",
        "\n",
        "# Calculate true positives, false positives, false negatives for the positive class\n",
        "tp_positive = conf_matrix[positive_class_index, positive_class_index]\n",
        "fp_positive = conf_matrix[:, positive_class_index].sum() - tp_positive\n",
        "fn_positive = conf_matrix[positive_class_index, :].sum() - tp_positive\n",
        "tn_positive = conf_matrix.sum() - (tp_positive + fp_positive + fn_positive)\n",
        "\n",
        "# Calculate precision, recall, and F1-score for the positive class\n",
        "precision_positive = tp_positive / (tp_positive + fp_positive)\n",
        "recall_positive = tp_positive / (tp_positive + fn_positive)\n",
        "f1_positive = 2 * (precision_positive * recall_positive) / (precision_positive + recall_positive)\n",
        "accuracy_positive = (tp_positive + tn_positive) / (tp_positive + tn_positive + fp_positive + fn_positive)\n",
        "\n",
        "# Print the scores for the positive class\n",
        "print(\"Accuracy for +ve class:\", accuracy_positive)\n",
        "print(\"Recall for +ve class:\", recall_positive)\n",
        "print(\"Precision for +ve class:\", precision_positive)\n",
        "print(\"F1-score for +ve class:\", f1_positive)\n"
      ]
    },
    {
      "cell_type": "markdown",
      "metadata": {
        "id": "RH9SiXLmQLjh"
      },
      "source": [
        "# Evaluation-Neutral class"
      ]
    },
    {
      "cell_type": "code",
      "execution_count": 23,
      "metadata": {
        "colab": {
          "base_uri": "https://localhost:8080/"
        },
        "id": "JF_P-mffQDod",
        "outputId": "9f988b58-7221-4038-f386-5987dc071cf5"
      },
      "outputs": [
        {
          "name": "stdout",
          "output_type": "stream",
          "text": [
            "Accuracy for neutral class (1): 0.8118049615055604\n",
            "Recall for neutral class (1): 0.826797385620915\n",
            "Precision for neutral class (1): 0.8161290322580645\n",
            "F1-score for neutral class (1): 0.8214285714285714\n"
          ]
        }
      ],
      "source": [
        "# Calculate the index for the positive class (class 1)\n",
        "positive_class_index = labels.index(1)\n",
        "\n",
        "# Calculate true positives, false positives, false negatives for the positive class\n",
        "tp_positive = conf_matrix[positive_class_index, positive_class_index]\n",
        "fp_positive = conf_matrix[:, positive_class_index].sum() - tp_positive\n",
        "fn_positive = conf_matrix[positive_class_index, :].sum() - tp_positive\n",
        "\n",
        "# Calculate true negatives for the positive class (considering classes 0 and 2 as negative)\n",
        "tn_positive = conf_matrix.sum() - (tp_positive + fp_positive + fn_positive)\n",
        "\n",
        "# Calculate precision, recall, and F1-score for the positive class\n",
        "precision_positive = tp_positive / (tp_positive + fp_positive)\n",
        "recall_positive = tp_positive / (tp_positive + fn_positive)\n",
        "f1_positive = 2 * (precision_positive * recall_positive) / (precision_positive + recall_positive)\n",
        "accuracy_positive = (tp_positive + tn_positive) / (tp_positive + tn_positive + fp_positive + fn_positive)\n",
        "\n",
        "# Print the scores for the positive class\n",
        "print(\"Accuracy for neutral class (1):\", accuracy_positive)\n",
        "print(\"Recall for neutral class (1):\", recall_positive)\n",
        "print(\"Precision for neutral class (1):\", precision_positive)\n",
        "print(\"F1-score for neutral class (1):\", f1_positive)\n"
      ]
    },
    {
      "cell_type": "markdown",
      "metadata": {
        "id": "nCW7qKG7QOH_"
      },
      "source": [
        "# Evaluation-Negative class"
      ]
    },
    {
      "cell_type": "code",
      "execution_count": 24,
      "metadata": {
        "colab": {
          "base_uri": "https://localhost:8080/"
        },
        "id": "0V15_TYbQP4s",
        "outputId": "f9acb8ee-17aa-42cf-d7d9-6eb03abb1510"
      },
      "outputs": [
        {
          "name": "stdout",
          "output_type": "stream",
          "text": [
            "Accuracy for class : 0.8554319931565441\n",
            "Recall for class : 0.45\n",
            "Precision for class : 0.47058823529411764\n",
            "F1-score for class 0 : 0.46006389776357826\n"
          ]
        }
      ],
      "source": [
        "# Calculate the index for the positive class (class 0)\n",
        "positive_class_index = labels.index(0)\n",
        "\n",
        "# Calculate true positives, false positives, false negatives for the positive class\n",
        "tp_positive = conf_matrix[positive_class_index, positive_class_index]\n",
        "fp_positive = conf_matrix[:, positive_class_index].sum() - tp_positive\n",
        "fn_positive = conf_matrix[positive_class_index, :].sum() - tp_positive\n",
        "\n",
        "# Calculate true negatives for the positive class (considering classes 1 and 2 as negative)\n",
        "tn_positive = conf_matrix.sum() - (tp_positive + fp_positive + fn_positive)\n",
        "\n",
        "# Calculate precision, recall, and F1-score for the positive class\n",
        "precision_positive = tp_positive / (tp_positive + fp_positive)\n",
        "recall_positive = tp_positive / (tp_positive + fn_positive)\n",
        "f1_positive = 2 * (precision_positive * recall_positive) / (precision_positive + recall_positive)\n",
        "accuracy_positive = (tp_positive + tn_positive) / (tp_positive + tn_positive + fp_positive + fn_positive)\n",
        "\n",
        "# Print the scores for the positive class\n",
        "print(\"Accuracy for class :\", accuracy_positive)\n",
        "print(\"Recall for class :\", recall_positive)\n",
        "print(\"Precision for class :\", precision_positive)\n",
        "print(\"F1-score for class 0 :\", f1_positive)\n"
      ]
    },
    {
      "cell_type": "markdown",
      "metadata": {
        "id": "t0e2rk-gQtV3"
      },
      "source": [
        "# ROC-AUC"
      ]
    },
    {
      "cell_type": "code",
      "execution_count": 25,
      "metadata": {
        "colab": {
          "base_uri": "https://localhost:8080/",
          "height": 564
        },
        "id": "EbHOAqfAQYmD",
        "outputId": "2d14548b-d56c-4147-de5f-0598f229188f"
      },
      "outputs": [
        {
          "data": {
            "image/png": "[encoded data removed]",
            "text/plain": [
              "<Figure size 800x600 with 1 Axes>"
            ]
          },
          "metadata": {},
          "output_type": "display_data"
        }
      ],
      "source": [
        "from sklearn.metrics import roc_curve, roc_auc_score\n",
        "import matplotlib.pyplot as plt\n",
        "\n",
        "# Compute the ROC curve for each class\n",
        "fpr = {}\n",
        "tpr = {}\n",
        "roc_auc = {}\n",
        "\n",
        "for i in range(len(labels)):\n",
        "    fpr[i], tpr[i], _ = roc_curve(true_labels == i, predicted_labels == i)\n",
        "    roc_auc[i] = roc_auc_score(true_labels == i, predicted_labels == i)\n",
        "\n",
        "# Plot the ROC curves\n",
        "plt.figure(figsize=(8, 6))\n",
        "for i in range(len(labels)):\n",
        "    plt.plot(fpr[i], tpr[i], label=f'ROC curve (class {i}) (AUC = {roc_auc[i]:0.2f})')\n",
        "\n",
        "plt.plot([0, 1], [0, 1], color='gray', linestyle='--')\n",
        "plt.xlim([0.0, 1.0])\n",
        "plt.ylim([0.0, 1.05])\n",
        "plt.xlabel('False Positive Rate')\n",
        "plt.ylabel('True Positive Rate')\n",
        "plt.title('Receiver Operating Characteristic (ROC) Curve')\n",
        "plt.legend(loc='lower right')\n",
        "plt.show()\n"
      ]
    },
    {
      "cell_type": "markdown",
      "metadata": {
        "id": "Ew9MOK1NQxQ7"
      },
      "source": [
        "# Validation dataset-distribution"
      ]
    },
    {
      "cell_type": "code",
      "execution_count": 26,
      "metadata": {
        "colab": {
          "base_uri": "https://localhost:8080/",
          "height": 564
        },
        "id": "XmYmTcRqQqD8",
        "outputId": "74f7cf22-aaf4-4a15-ede8-da60a3b1e149"
      },
      "outputs": [
        {
          "data": {
            "image/png": "[encoded data removed]",
            "text/plain": [
              "<Figure size 800x600 with 1 Axes>"
            ]
          },
          "metadata": {},
          "output_type": "display_data"
        }
      ],
      "source": [
        "import matplotlib.pyplot as plt\n",
        "\n",
        "# Count the frequency of each class label\n",
        "label_counts = df['True Label'].value_counts()\n",
        "\n",
        "# Plot the histogram\n",
        "plt.figure(figsize=(8, 6))\n",
        "plt.bar(label_counts.index, label_counts.values, color='skyblue')\n",
        "plt.xlabel('Class Label')\n",
        "plt.ylabel('Frequency')\n",
        "plt.title('Distribution of Class Labels')\n",
        "plt.xticks(label_counts.index)  # Ensure all class labels are shown on the x-axis\n",
        "plt.show()\n"
      ]
    },
    {
      "cell_type": "markdown",
      "metadata": {
        "id": "Nl51pkDgQ-Nv"
      },
      "source": [
        "# complete dataset distribution"
      ]
    },
    {
      "cell_type": "code",
      "execution_count": 27,
      "metadata": {
        "colab": {
          "base_uri": "https://localhost:8080/",
          "height": 564
        },
        "id": "5FsVA-mDQ08G",
        "outputId": "b48b39c3-23e9-41b1-bfbe-f4aaae8abae4"
      },
      "outputs": [
        {
          "data": {
            "image/png": "[encoded data removed]",
            "text/plain": [
              "<Figure size 800x600 with 1 Axes>"
            ]
          },
          "metadata": {},
          "output_type": "display_data"
        }
      ],
      "source": [
        "import torch\n",
        "import pandas as pd\n",
        "from torch.utils.data import DataLoader, Dataset\n",
        "from tqdm import tqdm\n",
        "\n",
        "# Read the CSV file with a different encoding\n",
        "dff = pd.read_csv(r\"/content/drive/MyDrive/Final_Distilbert/data.csv\", names=[\"sentence\", 'sentiment'], encoding='ISO-8859-1')\n",
        "\n",
        "# Define the mapping for sentiment labels\n",
        "sentiment_map = {\n",
        "    'positive': 2,\n",
        "    'negative': 0,\n",
        "    'neutral': 1\n",
        "}\n",
        "dff['sentiment'] = dff['sentiment'].map(sentiment_map)\n",
        "\n",
        "# Drop rows with NaN values in the 'sentiment' column\n",
        "dff = dff.dropna(subset=['sentiment'])\n",
        "\n",
        "# Apply the mapping to the 'sentiment' column in the DataFrame\n",
        "dff['sentiment'] = dff['sentiment'].astype(int)\n",
        "\n",
        "\n",
        "label_counts = dff['sentiment'].value_counts()\n",
        "\n",
        "# Plot the histogram\n",
        "plt.figure(figsize=(8, 6))\n",
        "plt.bar(label_counts.index, label_counts.values, color='skyblue')\n",
        "plt.xlabel('Class Label')\n",
        "plt.ylabel('Frequency')\n",
        "plt.title('Distribution of Class Labels')\n",
        "plt.xticks(label_counts.index)  # Ensure all class labels are shown on the x-axis\n",
        "plt.show()\n"
      ]
    },
    {
      "cell_type": "code",
      "execution_count": null,
      "metadata": {
        "id": "FkdWC8L7RF18"
      },
      "outputs": [],
      "source": []
    }
  ],
  "metadata": {
    "accelerator": "GPU",
    "colab": {
      "gpuType": "T4",
      "provenance": []
    },
    "kernelspec": {
      "display_name": "Python 3",
      "name": "python3"
    },
    "language_info": {
      "codemirror_mode": {
        "name": "ipython",
        "version": 3
      },
      "file_extension": ".py",
      "mimetype": "text/x-python",
      "name": "python",
      "nbconvert_exporter": "python",
      "pygments_lexer": "ipython3",
      "version": "3.11.3"
    },
    "orig_nbformat": 4,
    "widgets": {
      "application/vnd.jupyter.widget-state+json": {
        "024320eaf7904d9e9e570167d43db686": {
          "model_module": "@jupyter-widgets/controls",
          "model_module_version": "1.5.0",
          "model_name": "DescriptionStyleModel",
          "state": {
            "_model_module": "@jupyter-widgets/controls",
            "_model_module_version": "1.5.0",
            "_model_name": "DescriptionStyleModel",
            "_view_count": null,
            "_view_module": "@jupyter-widgets/base",
            "_view_module_version": "1.2.0",
            "_view_name": "StyleView",
            "description_width": ""
          }
        },
        "029b2f92f11c44dcafe1484732e39122": {
          "model_module": "@jupyter-widgets/base",
          "model_module_version": "1.2.0",
          "model_name": "LayoutModel",
          "state": {
            "_model_module": "@jupyter-widgets/base",
            "_model_module_version": "1.2.0",
            "_model_name": "LayoutModel",
            "_view_count": null,
            "_view_module": "@jupyter-widgets/base",
            "_view_module_version": "1.2.0",
            "_view_name": "LayoutView",
            "align_content": null,
            "align_items": null,
            "align_self": null,
            "border": null,
            "bottom": null,
            "display": null,
            "flex": null,
            "flex_flow": null,
            "grid_area": null,
            "grid_auto_columns": null,
            "grid_auto_flow": null,
            "grid_auto_rows": null,
            "grid_column": null,
            "grid_gap": null,
            "grid_row": null,
            "grid_template_areas": null,
            "grid_template_columns": null,
            "grid_template_rows": null,
            "height": null,
            "justify_content": null,
            "justify_items": null,
            "left": null,
            "margin": null,
            "max_height": null,
            "max_width": null,
            "min_height": null,
            "min_width": null,
            "object_fit": null,
            "object_position": null,
            "order": null,
            "overflow": null,
            "overflow_x": null,
            "overflow_y": null,
            "padding": null,
            "right": null,
            "top": null,
            "visibility": null,
            "width": null
          }
        },
        "02c0fc0b83a445208edfcfbc202a834f": {
          "model_module": "@jupyter-widgets/base",
          "model_module_version": "1.2.0",
          "model_name": "LayoutModel",
          "state": {
            "_model_module": "@jupyter-widgets/base",
            "_model_module_version": "1.2.0",
            "_model_name": "LayoutModel",
            "_view_count": null,
            "_view_module": "@jupyter-widgets/base",
            "_view_module_version": "1.2.0",
            "_view_name": "LayoutView",
            "align_content": null,
            "align_items": null,
            "align_self": null,
            "border": null,
            "bottom": null,
            "display": null,
            "flex": null,
            "flex_flow": null,
            "grid_area": null,
            "grid_auto_columns": null,
            "grid_auto_flow": null,
            "grid_auto_rows": null,
            "grid_column": null,
            "grid_gap": null,
            "grid_row": null,
            "grid_template_areas": null,
            "grid_template_columns": null,
            "grid_template_rows": null,
            "height": null,
            "justify_content": null,
            "justify_items": null,
            "left": null,
            "margin": null,
            "max_height": null,
            "max_width": null,
            "min_height": null,
            "min_width": null,
            "object_fit": null,
            "object_position": null,
            "order": null,
            "overflow": null,
            "overflow_x": null,
            "overflow_y": null,
            "padding": null,
            "right": null,
            "top": null,
            "visibility": null,
            "width": null
          }
        },
        "08e80e899f42467e8240de1d6adcf7a7": {
          "model_module": "@jupyter-widgets/base",
          "model_module_version": "1.2.0",
          "model_name": "LayoutModel",
          "state": {
            "_model_module": "@jupyter-widgets/base",
            "_model_module_version": "1.2.0",
            "_model_name": "LayoutModel",
            "_view_count": null,
            "_view_module": "@jupyter-widgets/base",
            "_view_module_version": "1.2.0",
            "_view_name": "LayoutView",
            "align_content": null,
            "align_items": null,
            "align_self": null,
            "border": null,
            "bottom": null,
            "display": null,
            "flex": null,
            "flex_flow": null,
            "grid_area": null,
            "grid_auto_columns": null,
            "grid_auto_flow": null,
            "grid_auto_rows": null,
            "grid_column": null,
            "grid_gap": null,
            "grid_row": null,
            "grid_template_areas": null,
            "grid_template_columns": null,
            "grid_template_rows": null,
            "height": null,
            "justify_content": null,
            "justify_items": null,
            "left": null,
            "margin": null,
            "max_height": null,
            "max_width": null,
            "min_height": null,
            "min_width": null,
            "object_fit": null,
            "object_position": null,
            "order": null,
            "overflow": null,
            "overflow_x": null,
            "overflow_y": null,
            "padding": null,
            "right": null,
            "top": null,
            "visibility": null,
            "width": null
          }
        },
        "0f6e57e8cb424155aa3c8d31770eefe0": {
          "model_module": "@jupyter-widgets/controls",
          "model_module_version": "1.5.0",
          "model_name": "HBoxModel",
          "state": {
            "_dom_classes": [],
            "_model_module": "@jupyter-widgets/controls",
            "_model_module_version": "1.5.0",
            "_model_name": "HBoxModel",
            "_view_count": null,
            "_view_module": "@jupyter-widgets/controls",
            "_view_module_version": "1.5.0",
            "_view_name": "HBoxView",
            "box_style": "",
            "children": [
              "IPY_MODEL_e82707570e8245e9a44880f604e39f21",
              "IPY_MODEL_82aee66489db46f393956fc400ae6031",
              "IPY_MODEL_90e752240cfc454b931b9c09d6696997"
            ],
            "layout": "IPY_MODEL_c011bffd73f64b5b8277f9f577ee7367"
          }
        },
        "11506c27b59b4aabad7ab4a79395461b": {
          "model_module": "@jupyter-widgets/controls",
          "model_module_version": "1.5.0",
          "model_name": "DescriptionStyleModel",
          "state": {
            "_model_module": "@jupyter-widgets/controls",
            "_model_module_version": "1.5.0",
            "_model_name": "DescriptionStyleModel",
            "_view_count": null,
            "_view_module": "@jupyter-widgets/base",
            "_view_module_version": "1.2.0",
            "_view_name": "StyleView",
            "description_width": ""
          }
        },
        "1788def6f80249a7a9b2e2affab504dc": {
          "model_module": "@jupyter-widgets/controls",
          "model_module_version": "1.5.0",
          "model_name": "DescriptionStyleModel",
          "state": {
            "_model_module": "@jupyter-widgets/controls",
            "_model_module_version": "1.5.0",
            "_model_name": "DescriptionStyleModel",
            "_view_count": null,
            "_view_module": "@jupyter-widgets/base",
            "_view_module_version": "1.2.0",
            "_view_name": "StyleView",
            "description_width": ""
          }
        },
        "27314aaff8274c25b3ef75c6cdfa7c27": {
          "model_module": "@jupyter-widgets/controls",
          "model_module_version": "1.5.0",
          "model_name": "ProgressStyleModel",
          "state": {
            "_model_module": "@jupyter-widgets/controls",
            "_model_module_version": "1.5.0",
            "_model_name": "ProgressStyleModel",
            "_view_count": null,
            "_view_module": "@jupyter-widgets/base",
            "_view_module_version": "1.2.0",
            "_view_name": "StyleView",
            "bar_color": null,
            "description_width": ""
          }
        },
        "29604f2e61d64545b1a4fbfed1d5943c": {
          "model_module": "@jupyter-widgets/controls",
          "model_module_version": "1.5.0",
          "model_name": "ProgressStyleModel",
          "state": {
            "_model_module": "@jupyter-widgets/controls",
            "_model_module_version": "1.5.0",
            "_model_name": "ProgressStyleModel",
            "_view_count": null,
            "_view_module": "@jupyter-widgets/base",
            "_view_module_version": "1.2.0",
            "_view_name": "StyleView",
            "bar_color": null,
            "description_width": ""
          }
        },
        "2d4e75ae1fc84ab9a6aace610b518e18": {
          "model_module": "@jupyter-widgets/base",
          "model_module_version": "1.2.0",
          "model_name": "LayoutModel",
          "state": {
            "_model_module": "@jupyter-widgets/base",
            "_model_module_version": "1.2.0",
            "_model_name": "LayoutModel",
            "_view_count": null,
            "_view_module": "@jupyter-widgets/base",
            "_view_module_version": "1.2.0",
            "_view_name": "LayoutView",
            "align_content": null,
            "align_items": null,
            "align_self": null,
            "border": null,
            "bottom": null,
            "display": null,
            "flex": null,
            "flex_flow": null,
            "grid_area": null,
            "grid_auto_columns": null,
            "grid_auto_flow": null,
            "grid_auto_rows": null,
            "grid_column": null,
            "grid_gap": null,
            "grid_row": null,
            "grid_template_areas": null,
            "grid_template_columns": null,
            "grid_template_rows": null,
            "height": null,
            "justify_content": null,
            "justify_items": null,
            "left": null,
            "margin": null,
            "max_height": null,
            "max_width": null,
            "min_height": null,
            "min_width": null,
            "object_fit": null,
            "object_position": null,
            "order": null,
            "overflow": null,
            "overflow_x": null,
            "overflow_y": null,
            "padding": null,
            "right": null,
            "top": null,
            "visibility": null,
            "width": null
          }
        },
        "2edd9c5d091a4db6b6e6d2274ab98927": {
          "model_module": "@jupyter-widgets/controls",
          "model_module_version": "1.5.0",
          "model_name": "FloatProgressModel",
          "state": {
            "_dom_classes": [],
            "_model_module": "@jupyter-widgets/controls",
            "_model_module_version": "1.5.0",
            "_model_name": "FloatProgressModel",
            "_view_count": null,
            "_view_module": "@jupyter-widgets/controls",
            "_view_module_version": "1.5.0",
            "_view_name": "ProgressView",
            "bar_style": "success",
            "description": "",
            "description_tooltip": null,
            "layout": "IPY_MODEL_43ec544bd2664425875f618f8e308219",
            "max": 483,
            "min": 0,
            "orientation": "horizontal",
            "style": "IPY_MODEL_f5ecbaef5fea41d199482c6523a3e47b",
            "value": 483
          }
        },
        "3628d3e4a4b44041b73224d828a7b5d1": {
          "model_module": "@jupyter-widgets/controls",
          "model_module_version": "1.5.0",
          "model_name": "DescriptionStyleModel",
          "state": {
            "_model_module": "@jupyter-widgets/controls",
            "_model_module_version": "1.5.0",
            "_model_name": "DescriptionStyleModel",
            "_view_count": null,
            "_view_module": "@jupyter-widgets/base",
            "_view_module_version": "1.2.0",
            "_view_name": "StyleView",
            "description_width": ""
          }
        },
        "369d95c4aaaf417eb8d2ca076db7cf22": {
          "model_module": "@jupyter-widgets/controls",
          "model_module_version": "1.5.0",
          "model_name": "HTMLModel",
          "state": {
            "_dom_classes": [],
            "_model_module": "@jupyter-widgets/controls",
            "_model_module_version": "1.5.0",
            "_model_name": "HTMLModel",
            "_view_count": null,
            "_view_module": "@jupyter-widgets/controls",
            "_view_module_version": "1.5.0",
            "_view_name": "HTMLView",
            "description": "",
            "description_tooltip": null,
            "layout": "IPY_MODEL_75c6a026df8a47eb80f41089328b075e",
            "placeholder": "​",
            "style": "IPY_MODEL_11506c27b59b4aabad7ab4a79395461b",
            "value": "config.json: 100%"
          }
        },
        "37c790856e1f4e69afca3355cd7050fe": {
          "model_module": "@jupyter-widgets/base",
          "model_module_version": "1.2.0",
          "model_name": "LayoutModel",
          "state": {
            "_model_module": "@jupyter-widgets/base",
            "_model_module_version": "1.2.0",
            "_model_name": "LayoutModel",
            "_view_count": null,
            "_view_module": "@jupyter-widgets/base",
            "_view_module_version": "1.2.0",
            "_view_name": "LayoutView",
            "align_content": null,
            "align_items": null,
            "align_self": null,
            "border": null,
            "bottom": null,
            "display": null,
            "flex": null,
            "flex_flow": null,
            "grid_area": null,
            "grid_auto_columns": null,
            "grid_auto_flow": null,
            "grid_auto_rows": null,
            "grid_column": null,
            "grid_gap": null,
            "grid_row": null,
            "grid_template_areas": null,
            "grid_template_columns": null,
            "grid_template_rows": null,
            "height": null,
            "justify_content": null,
            "justify_items": null,
            "left": null,
            "margin": null,
            "max_height": null,
            "max_width": null,
            "min_height": null,
            "min_width": null,
            "object_fit": null,
            "object_position": null,
            "order": null,
            "overflow": null,
            "overflow_x": null,
            "overflow_y": null,
            "padding": null,
            "right": null,
            "top": null,
            "visibility": null,
            "width": null
          }
        },
        "43ec544bd2664425875f618f8e308219": {
          "model_module": "@jupyter-widgets/base",
          "model_module_version": "1.2.0",
          "model_name": "LayoutModel",
          "state": {
            "_model_module": "@jupyter-widgets/base",
            "_model_module_version": "1.2.0",
            "_model_name": "LayoutModel",
            "_view_count": null,
            "_view_module": "@jupyter-widgets/base",
            "_view_module_version": "1.2.0",
            "_view_name": "LayoutView",
            "align_content": null,
            "align_items": null,
            "align_self": null,
            "border": null,
            "bottom": null,
            "display": null,
            "flex": null,
            "flex_flow": null,
            "grid_area": null,
            "grid_auto_columns": null,
            "grid_auto_flow": null,
            "grid_auto_rows": null,
            "grid_column": null,
            "grid_gap": null,
            "grid_row": null,
            "grid_template_areas": null,
            "grid_template_columns": null,
            "grid_template_rows": null,
            "height": null,
            "justify_content": null,
            "justify_items": null,
            "left": null,
            "margin": null,
            "max_height": null,
            "max_width": null,
            "min_height": null,
            "min_width": null,
            "object_fit": null,
            "object_position": null,
            "order": null,
            "overflow": null,
            "overflow_x": null,
            "overflow_y": null,
            "padding": null,
            "right": null,
            "top": null,
            "visibility": null,
            "width": null
          }
        },
        "440870f604514a5a90506bcde5349bc0": {
          "model_module": "@jupyter-widgets/base",
          "model_module_version": "1.2.0",
          "model_name": "LayoutModel",
          "state": {
            "_model_module": "@jupyter-widgets/base",
            "_model_module_version": "1.2.0",
            "_model_name": "LayoutModel",
            "_view_count": null,
            "_view_module": "@jupyter-widgets/base",
            "_view_module_version": "1.2.0",
            "_view_name": "LayoutView",
            "align_content": null,
            "align_items": null,
            "align_self": null,
            "border": null,
            "bottom": null,
            "display": null,
            "flex": null,
            "flex_flow": null,
            "grid_area": null,
            "grid_auto_columns": null,
            "grid_auto_flow": null,
            "grid_auto_rows": null,
            "grid_column": null,
            "grid_gap": null,
            "grid_row": null,
            "grid_template_areas": null,
            "grid_template_columns": null,
            "grid_template_rows": null,
            "height": null,
            "justify_content": null,
            "justify_items": null,
            "left": null,
            "margin": null,
            "max_height": null,
            "max_width": null,
            "min_height": null,
            "min_width": null,
            "object_fit": null,
            "object_position": null,
            "order": null,
            "overflow": null,
            "overflow_x": null,
            "overflow_y": null,
            "padding": null,
            "right": null,
            "top": null,
            "visibility": null,
            "width": null
          }
        },
        "4425e4444cd54052a747989955eafdc9": {
          "model_module": "@jupyter-widgets/controls",
          "model_module_version": "1.5.0",
          "model_name": "DescriptionStyleModel",
          "state": {
            "_model_module": "@jupyter-widgets/controls",
            "_model_module_version": "1.5.0",
            "_model_name": "DescriptionStyleModel",
            "_view_count": null,
            "_view_module": "@jupyter-widgets/base",
            "_view_module_version": "1.2.0",
            "_view_name": "StyleView",
            "description_width": ""
          }
        },
        "53fbeb9d1bd346c9bbbb47cf97cb7120": {
          "model_module": "@jupyter-widgets/controls",
          "model_module_version": "1.5.0",
          "model_name": "FloatProgressModel",
          "state": {
            "_dom_classes": [],
            "_model_module": "@jupyter-widgets/controls",
            "_model_module_version": "1.5.0",
            "_model_name": "FloatProgressModel",
            "_view_count": null,
            "_view_module": "@jupyter-widgets/controls",
            "_view_module_version": "1.5.0",
            "_view_name": "ProgressView",
            "bar_style": "success",
            "description": "",
            "description_tooltip": null,
            "layout": "IPY_MODEL_2d4e75ae1fc84ab9a6aace610b518e18",
            "max": 231508,
            "min": 0,
            "orientation": "horizontal",
            "style": "IPY_MODEL_29604f2e61d64545b1a4fbfed1d5943c",
            "value": 231508
          }
        },
        "564a58d5ff1e4f1da48b680658dc04d7": {
          "model_module": "@jupyter-widgets/base",
          "model_module_version": "1.2.0",
          "model_name": "LayoutModel",
          "state": {
            "_model_module": "@jupyter-widgets/base",
            "_model_module_version": "1.2.0",
            "_model_name": "LayoutModel",
            "_view_count": null,
            "_view_module": "@jupyter-widgets/base",
            "_view_module_version": "1.2.0",
            "_view_name": "LayoutView",
            "align_content": null,
            "align_items": null,
            "align_self": null,
            "border": null,
            "bottom": null,
            "display": null,
            "flex": null,
            "flex_flow": null,
            "grid_area": null,
            "grid_auto_columns": null,
            "grid_auto_flow": null,
            "grid_auto_rows": null,
            "grid_column": null,
            "grid_gap": null,
            "grid_row": null,
            "grid_template_areas": null,
            "grid_template_columns": null,
            "grid_template_rows": null,
            "height": null,
            "justify_content": null,
            "justify_items": null,
            "left": null,
            "margin": null,
            "max_height": null,
            "max_width": null,
            "min_height": null,
            "min_width": null,
            "object_fit": null,
            "object_position": null,
            "order": null,
            "overflow": null,
            "overflow_x": null,
            "overflow_y": null,
            "padding": null,
            "right": null,
            "top": null,
            "visibility": null,
            "width": null
          }
        },
        "584ac3b60a0e4fb7b95c7b912712172a": {
          "model_module": "@jupyter-widgets/base",
          "model_module_version": "1.2.0",
          "model_name": "LayoutModel",
          "state": {
            "_model_module": "@jupyter-widgets/base",
            "_model_module_version": "1.2.0",
            "_model_name": "LayoutModel",
            "_view_count": null,
            "_view_module": "@jupyter-widgets/base",
            "_view_module_version": "1.2.0",
            "_view_name": "LayoutView",
            "align_content": null,
            "align_items": null,
            "align_self": null,
            "border": null,
            "bottom": null,
            "display": null,
            "flex": null,
            "flex_flow": null,
            "grid_area": null,
            "grid_auto_columns": null,
            "grid_auto_flow": null,
            "grid_auto_rows": null,
            "grid_column": null,
            "grid_gap": null,
            "grid_row": null,
            "grid_template_areas": null,
            "grid_template_columns": null,
            "grid_template_rows": null,
            "height": null,
            "justify_content": null,
            "justify_items": null,
            "left": null,
            "margin": null,
            "max_height": null,
            "max_width": null,
            "min_height": null,
            "min_width": null,
            "object_fit": null,
            "object_position": null,
            "order": null,
            "overflow": null,
            "overflow_x": null,
            "overflow_y": null,
            "padding": null,
            "right": null,
            "top": null,
            "visibility": null,
            "width": null
          }
        },
        "586a00742c954c11b9ab8abc6689cedd": {
          "model_module": "@jupyter-widgets/controls",
          "model_module_version": "1.5.0",
          "model_name": "ProgressStyleModel",
          "state": {
            "_model_module": "@jupyter-widgets/controls",
            "_model_module_version": "1.5.0",
            "_model_name": "ProgressStyleModel",
            "_view_count": null,
            "_view_module": "@jupyter-widgets/base",
            "_view_module_version": "1.2.0",
            "_view_name": "StyleView",
            "bar_color": null,
            "description_width": ""
          }
        },
        "62b8ee09d8d8487484eba0f64d8b0367": {
          "model_module": "@jupyter-widgets/controls",
          "model_module_version": "1.5.0",
          "model_name": "DescriptionStyleModel",
          "state": {
            "_model_module": "@jupyter-widgets/controls",
            "_model_module_version": "1.5.0",
            "_model_name": "DescriptionStyleModel",
            "_view_count": null,
            "_view_module": "@jupyter-widgets/base",
            "_view_module_version": "1.2.0",
            "_view_name": "StyleView",
            "description_width": ""
          }
        },
        "693f125b30564c63a28702e475c4e8b1": {
          "model_module": "@jupyter-widgets/controls",
          "model_module_version": "1.5.0",
          "model_name": "DescriptionStyleModel",
          "state": {
            "_model_module": "@jupyter-widgets/controls",
            "_model_module_version": "1.5.0",
            "_model_name": "DescriptionStyleModel",
            "_view_count": null,
            "_view_module": "@jupyter-widgets/base",
            "_view_module_version": "1.2.0",
            "_view_name": "StyleView",
            "description_width": ""
          }
        },
        "6a4cb967bba34936bf416d31b63d27f5": {
          "model_module": "@jupyter-widgets/controls",
          "model_module_version": "1.5.0",
          "model_name": "HTMLModel",
          "state": {
            "_dom_classes": [],
            "_model_module": "@jupyter-widgets/controls",
            "_model_module_version": "1.5.0",
            "_model_name": "HTMLModel",
            "_view_count": null,
            "_view_module": "@jupyter-widgets/controls",
            "_view_module_version": "1.5.0",
            "_view_name": "HTMLView",
            "description": "",
            "description_tooltip": null,
            "layout": "IPY_MODEL_87f0eb3018d3428f891220c07ed49c4b",
            "placeholder": "​",
            "style": "IPY_MODEL_3628d3e4a4b44041b73224d828a7b5d1",
            "value": "tokenizer.json: 100%"
          }
        },
        "6c2cc190b98f4ef28475eff22c9258e4": {
          "model_module": "@jupyter-widgets/base",
          "model_module_version": "1.2.0",
          "model_name": "LayoutModel",
          "state": {
            "_model_module": "@jupyter-widgets/base",
            "_model_module_version": "1.2.0",
            "_model_name": "LayoutModel",
            "_view_count": null,
            "_view_module": "@jupyter-widgets/base",
            "_view_module_version": "1.2.0",
            "_view_name": "LayoutView",
            "align_content": null,
            "align_items": null,
            "align_self": null,
            "border": null,
            "bottom": null,
            "display": null,
            "flex": null,
            "flex_flow": null,
            "grid_area": null,
            "grid_auto_columns": null,
            "grid_auto_flow": null,
            "grid_auto_rows": null,
            "grid_column": null,
            "grid_gap": null,
            "grid_row": null,
            "grid_template_areas": null,
            "grid_template_columns": null,
            "grid_template_rows": null,
            "height": null,
            "justify_content": null,
            "justify_items": null,
            "left": null,
            "margin": null,
            "max_height": null,
            "max_width": null,
            "min_height": null,
            "min_width": null,
            "object_fit": null,
            "object_position": null,
            "order": null,
            "overflow": null,
            "overflow_x": null,
            "overflow_y": null,
            "padding": null,
            "right": null,
            "top": null,
            "visibility": null,
            "width": null
          }
        },
        "6d029a14c348466bb08b3ed541cb991f": {
          "model_module": "@jupyter-widgets/controls",
          "model_module_version": "1.5.0",
          "model_name": "FloatProgressModel",
          "state": {
            "_dom_classes": [],
            "_model_module": "@jupyter-widgets/controls",
            "_model_module_version": "1.5.0",
            "_model_name": "FloatProgressModel",
            "_view_count": null,
            "_view_module": "@jupyter-widgets/controls",
            "_view_module_version": "1.5.0",
            "_view_name": "ProgressView",
            "bar_style": "success",
            "description": "",
            "description_tooltip": null,
            "layout": "IPY_MODEL_f1413efa53e7441c890b7a9a156f3b5f",
            "max": 466062,
            "min": 0,
            "orientation": "horizontal",
            "style": "IPY_MODEL_27314aaff8274c25b3ef75c6cdfa7c27",
            "value": 466062
          }
        },
        "6fd6ed8b3c304fd29afafda9dadb57db": {
          "model_module": "@jupyter-widgets/controls",
          "model_module_version": "1.5.0",
          "model_name": "HBoxModel",
          "state": {
            "_dom_classes": [],
            "_model_module": "@jupyter-widgets/controls",
            "_model_module_version": "1.5.0",
            "_model_name": "HBoxModel",
            "_view_count": null,
            "_view_module": "@jupyter-widgets/controls",
            "_view_module_version": "1.5.0",
            "_view_name": "HBoxView",
            "box_style": "",
            "children": [
              "IPY_MODEL_369d95c4aaaf417eb8d2ca076db7cf22",
              "IPY_MODEL_2edd9c5d091a4db6b6e6d2274ab98927",
              "IPY_MODEL_b15d0005382f4e2f8f71c41e1b5906dc"
            ],
            "layout": "IPY_MODEL_584ac3b60a0e4fb7b95c7b912712172a"
          }
        },
        "74561217246047a38e015ad35e492b65": {
          "model_module": "@jupyter-widgets/controls",
          "model_module_version": "1.5.0",
          "model_name": "HBoxModel",
          "state": {
            "_dom_classes": [],
            "_model_module": "@jupyter-widgets/controls",
            "_model_module_version": "1.5.0",
            "_model_name": "HBoxModel",
            "_view_count": null,
            "_view_module": "@jupyter-widgets/controls",
            "_view_module_version": "1.5.0",
            "_view_name": "HBoxView",
            "box_style": "",
            "children": [
              "IPY_MODEL_af45148c20d4477087eee8d7c6bc6e93",
              "IPY_MODEL_53fbeb9d1bd346c9bbbb47cf97cb7120",
              "IPY_MODEL_c5c63b3df1ff4244b6bbdb20a025f545"
            ],
            "layout": "IPY_MODEL_edc9d8f277ed4faf89bbc62a459f18a5"
          }
        },
        "75c6a026df8a47eb80f41089328b075e": {
          "model_module": "@jupyter-widgets/base",
          "model_module_version": "1.2.0",
          "model_name": "LayoutModel",
          "state": {
            "_model_module": "@jupyter-widgets/base",
            "_model_module_version": "1.2.0",
            "_model_name": "LayoutModel",
            "_view_count": null,
            "_view_module": "@jupyter-widgets/base",
            "_view_module_version": "1.2.0",
            "_view_name": "LayoutView",
            "align_content": null,
            "align_items": null,
            "align_self": null,
            "border": null,
            "bottom": null,
            "display": null,
            "flex": null,
            "flex_flow": null,
            "grid_area": null,
            "grid_auto_columns": null,
            "grid_auto_flow": null,
            "grid_auto_rows": null,
            "grid_column": null,
            "grid_gap": null,
            "grid_row": null,
            "grid_template_areas": null,
            "grid_template_columns": null,
            "grid_template_rows": null,
            "height": null,
            "justify_content": null,
            "justify_items": null,
            "left": null,
            "margin": null,
            "max_height": null,
            "max_width": null,
            "min_height": null,
            "min_width": null,
            "object_fit": null,
            "object_position": null,
            "order": null,
            "overflow": null,
            "overflow_x": null,
            "overflow_y": null,
            "padding": null,
            "right": null,
            "top": null,
            "visibility": null,
            "width": null
          }
        },
        "776b9882421148abaf1af040c1daf558": {
          "model_module": "@jupyter-widgets/controls",
          "model_module_version": "1.5.0",
          "model_name": "HTMLModel",
          "state": {
            "_dom_classes": [],
            "_model_module": "@jupyter-widgets/controls",
            "_model_module_version": "1.5.0",
            "_model_name": "HTMLModel",
            "_view_count": null,
            "_view_module": "@jupyter-widgets/controls",
            "_view_module_version": "1.5.0",
            "_view_name": "HTMLView",
            "description": "",
            "description_tooltip": null,
            "layout": "IPY_MODEL_440870f604514a5a90506bcde5349bc0",
            "placeholder": "​",
            "style": "IPY_MODEL_aad90e33be1b4fb69d0351bd47cd900a",
            "value": "tokenizer_config.json: 100%"
          }
        },
        "81424a452634470bb34d602ed220546d": {
          "model_module": "@jupyter-widgets/controls",
          "model_module_version": "1.5.0",
          "model_name": "HBoxModel",
          "state": {
            "_dom_classes": [],
            "_model_module": "@jupyter-widgets/controls",
            "_model_module_version": "1.5.0",
            "_model_name": "HBoxModel",
            "_view_count": null,
            "_view_module": "@jupyter-widgets/controls",
            "_view_module_version": "1.5.0",
            "_view_name": "HBoxView",
            "box_style": "",
            "children": [
              "IPY_MODEL_776b9882421148abaf1af040c1daf558",
              "IPY_MODEL_ffeede0dcb0a4389b83468941f25376f",
              "IPY_MODEL_e98311022f0345199692bc2fea928493"
            ],
            "layout": "IPY_MODEL_9e9a6fb965a14a2386716825a465bc8f"
          }
        },
        "82126bbaaed540cd805b565c39cf5637": {
          "model_module": "@jupyter-widgets/controls",
          "model_module_version": "1.5.0",
          "model_name": "ProgressStyleModel",
          "state": {
            "_model_module": "@jupyter-widgets/controls",
            "_model_module_version": "1.5.0",
            "_model_name": "ProgressStyleModel",
            "_view_count": null,
            "_view_module": "@jupyter-widgets/base",
            "_view_module_version": "1.2.0",
            "_view_name": "StyleView",
            "bar_color": null,
            "description_width": ""
          }
        },
        "82aee66489db46f393956fc400ae6031": {
          "model_module": "@jupyter-widgets/controls",
          "model_module_version": "1.5.0",
          "model_name": "FloatProgressModel",
          "state": {
            "_dom_classes": [],
            "_model_module": "@jupyter-widgets/controls",
            "_model_module_version": "1.5.0",
            "_model_name": "FloatProgressModel",
            "_view_count": null,
            "_view_module": "@jupyter-widgets/controls",
            "_view_module_version": "1.5.0",
            "_view_name": "ProgressView",
            "bar_style": "success",
            "description": "",
            "description_tooltip": null,
            "layout": "IPY_MODEL_ebd9be305c714c0d81115b32b390f1fc",
            "max": 267954768,
            "min": 0,
            "orientation": "horizontal",
            "style": "IPY_MODEL_586a00742c954c11b9ab8abc6689cedd",
            "value": 267954768
          }
        },
        "87f0eb3018d3428f891220c07ed49c4b": {
          "model_module": "@jupyter-widgets/base",
          "model_module_version": "1.2.0",
          "model_name": "LayoutModel",
          "state": {
            "_model_module": "@jupyter-widgets/base",
            "_model_module_version": "1.2.0",
            "_model_name": "LayoutModel",
            "_view_count": null,
            "_view_module": "@jupyter-widgets/base",
            "_view_module_version": "1.2.0",
            "_view_name": "LayoutView",
            "align_content": null,
            "align_items": null,
            "align_self": null,
            "border": null,
            "bottom": null,
            "display": null,
            "flex": null,
            "flex_flow": null,
            "grid_area": null,
            "grid_auto_columns": null,
            "grid_auto_flow": null,
            "grid_auto_rows": null,
            "grid_column": null,
            "grid_gap": null,
            "grid_row": null,
            "grid_template_areas": null,
            "grid_template_columns": null,
            "grid_template_rows": null,
            "height": null,
            "justify_content": null,
            "justify_items": null,
            "left": null,
            "margin": null,
            "max_height": null,
            "max_width": null,
            "min_height": null,
            "min_width": null,
            "object_fit": null,
            "object_position": null,
            "order": null,
            "overflow": null,
            "overflow_x": null,
            "overflow_y": null,
            "padding": null,
            "right": null,
            "top": null,
            "visibility": null,
            "width": null
          }
        },
        "90e752240cfc454b931b9c09d6696997": {
          "model_module": "@jupyter-widgets/controls",
          "model_module_version": "1.5.0",
          "model_name": "HTMLModel",
          "state": {
            "_dom_classes": [],
            "_model_module": "@jupyter-widgets/controls",
            "_model_module_version": "1.5.0",
            "_model_name": "HTMLModel",
            "_view_count": null,
            "_view_module": "@jupyter-widgets/controls",
            "_view_module_version": "1.5.0",
            "_view_name": "HTMLView",
            "description": "",
            "description_tooltip": null,
            "layout": "IPY_MODEL_f6fbbc1b22a14e40a65baf10b572d9cf",
            "placeholder": "​",
            "style": "IPY_MODEL_693f125b30564c63a28702e475c4e8b1",
            "value": " 268M/268M [00:01&lt;00:00, 180MB/s]"
          }
        },
        "9e9a6fb965a14a2386716825a465bc8f": {
          "model_module": "@jupyter-widgets/base",
          "model_module_version": "1.2.0",
          "model_name": "LayoutModel",
          "state": {
            "_model_module": "@jupyter-widgets/base",
            "_model_module_version": "1.2.0",
            "_model_name": "LayoutModel",
            "_view_count": null,
            "_view_module": "@jupyter-widgets/base",
            "_view_module_version": "1.2.0",
            "_view_name": "LayoutView",
            "align_content": null,
            "align_items": null,
            "align_self": null,
            "border": null,
            "bottom": null,
            "display": null,
            "flex": null,
            "flex_flow": null,
            "grid_area": null,
            "grid_auto_columns": null,
            "grid_auto_flow": null,
            "grid_auto_rows": null,
            "grid_column": null,
            "grid_gap": null,
            "grid_row": null,
            "grid_template_areas": null,
            "grid_template_columns": null,
            "grid_template_rows": null,
            "height": null,
            "justify_content": null,
            "justify_items": null,
            "left": null,
            "margin": null,
            "max_height": null,
            "max_width": null,
            "min_height": null,
            "min_width": null,
            "object_fit": null,
            "object_position": null,
            "order": null,
            "overflow": null,
            "overflow_x": null,
            "overflow_y": null,
            "padding": null,
            "right": null,
            "top": null,
            "visibility": null,
            "width": null
          }
        },
        "a63525d65692454fa10679c06a1bf989": {
          "model_module": "@jupyter-widgets/base",
          "model_module_version": "1.2.0",
          "model_name": "LayoutModel",
          "state": {
            "_model_module": "@jupyter-widgets/base",
            "_model_module_version": "1.2.0",
            "_model_name": "LayoutModel",
            "_view_count": null,
            "_view_module": "@jupyter-widgets/base",
            "_view_module_version": "1.2.0",
            "_view_name": "LayoutView",
            "align_content": null,
            "align_items": null,
            "align_self": null,
            "border": null,
            "bottom": null,
            "display": null,
            "flex": null,
            "flex_flow": null,
            "grid_area": null,
            "grid_auto_columns": null,
            "grid_auto_flow": null,
            "grid_auto_rows": null,
            "grid_column": null,
            "grid_gap": null,
            "grid_row": null,
            "grid_template_areas": null,
            "grid_template_columns": null,
            "grid_template_rows": null,
            "height": null,
            "justify_content": null,
            "justify_items": null,
            "left": null,
            "margin": null,
            "max_height": null,
            "max_width": null,
            "min_height": null,
            "min_width": null,
            "object_fit": null,
            "object_position": null,
            "order": null,
            "overflow": null,
            "overflow_x": null,
            "overflow_y": null,
            "padding": null,
            "right": null,
            "top": null,
            "visibility": null,
            "width": null
          }
        },
        "a9e53209ec0e4c019664820dfcd71574": {
          "model_module": "@jupyter-widgets/controls",
          "model_module_version": "1.5.0",
          "model_name": "DescriptionStyleModel",
          "state": {
            "_model_module": "@jupyter-widgets/controls",
            "_model_module_version": "1.5.0",
            "_model_name": "DescriptionStyleModel",
            "_view_count": null,
            "_view_module": "@jupyter-widgets/base",
            "_view_module_version": "1.2.0",
            "_view_name": "StyleView",
            "description_width": ""
          }
        },
        "aad90e33be1b4fb69d0351bd47cd900a": {
          "model_module": "@jupyter-widgets/controls",
          "model_module_version": "1.5.0",
          "model_name": "DescriptionStyleModel",
          "state": {
            "_model_module": "@jupyter-widgets/controls",
            "_model_module_version": "1.5.0",
            "_model_name": "DescriptionStyleModel",
            "_view_count": null,
            "_view_module": "@jupyter-widgets/base",
            "_view_module_version": "1.2.0",
            "_view_name": "StyleView",
            "description_width": ""
          }
        },
        "af45148c20d4477087eee8d7c6bc6e93": {
          "model_module": "@jupyter-widgets/controls",
          "model_module_version": "1.5.0",
          "model_name": "HTMLModel",
          "state": {
            "_dom_classes": [],
            "_model_module": "@jupyter-widgets/controls",
            "_model_module_version": "1.5.0",
            "_model_name": "HTMLModel",
            "_view_count": null,
            "_view_module": "@jupyter-widgets/controls",
            "_view_module_version": "1.5.0",
            "_view_name": "HTMLView",
            "description": "",
            "description_tooltip": null,
            "layout": "IPY_MODEL_a63525d65692454fa10679c06a1bf989",
            "placeholder": "​",
            "style": "IPY_MODEL_d42b97da7c7f44d2bc66cef9ccc61f82",
            "value": "vocab.txt: 100%"
          }
        },
        "b15d0005382f4e2f8f71c41e1b5906dc": {
          "model_module": "@jupyter-widgets/controls",
          "model_module_version": "1.5.0",
          "model_name": "HTMLModel",
          "state": {
            "_dom_classes": [],
            "_model_module": "@jupyter-widgets/controls",
            "_model_module_version": "1.5.0",
            "_model_name": "HTMLModel",
            "_view_count": null,
            "_view_module": "@jupyter-widgets/controls",
            "_view_module_version": "1.5.0",
            "_view_name": "HTMLView",
            "description": "",
            "description_tooltip": null,
            "layout": "IPY_MODEL_37c790856e1f4e69afca3355cd7050fe",
            "placeholder": "​",
            "style": "IPY_MODEL_4425e4444cd54052a747989955eafdc9",
            "value": " 483/483 [00:00&lt;00:00, 23.0kB/s]"
          }
        },
        "c011bffd73f64b5b8277f9f577ee7367": {
          "model_module": "@jupyter-widgets/base",
          "model_module_version": "1.2.0",
          "model_name": "LayoutModel",
          "state": {
            "_model_module": "@jupyter-widgets/base",
            "_model_module_version": "1.2.0",
            "_model_name": "LayoutModel",
            "_view_count": null,
            "_view_module": "@jupyter-widgets/base",
            "_view_module_version": "1.2.0",
            "_view_name": "LayoutView",
            "align_content": null,
            "align_items": null,
            "align_self": null,
            "border": null,
            "bottom": null,
            "display": null,
            "flex": null,
            "flex_flow": null,
            "grid_area": null,
            "grid_auto_columns": null,
            "grid_auto_flow": null,
            "grid_auto_rows": null,
            "grid_column": null,
            "grid_gap": null,
            "grid_row": null,
            "grid_template_areas": null,
            "grid_template_columns": null,
            "grid_template_rows": null,
            "height": null,
            "justify_content": null,
            "justify_items": null,
            "left": null,
            "margin": null,
            "max_height": null,
            "max_width": null,
            "min_height": null,
            "min_width": null,
            "object_fit": null,
            "object_position": null,
            "order": null,
            "overflow": null,
            "overflow_x": null,
            "overflow_y": null,
            "padding": null,
            "right": null,
            "top": null,
            "visibility": null,
            "width": null
          }
        },
        "c3a04e2a5d2e4b6c82bad14359c529a5": {
          "model_module": "@jupyter-widgets/controls",
          "model_module_version": "1.5.0",
          "model_name": "HTMLModel",
          "state": {
            "_dom_classes": [],
            "_model_module": "@jupyter-widgets/controls",
            "_model_module_version": "1.5.0",
            "_model_name": "HTMLModel",
            "_view_count": null,
            "_view_module": "@jupyter-widgets/controls",
            "_view_module_version": "1.5.0",
            "_view_name": "HTMLView",
            "description": "",
            "description_tooltip": null,
            "layout": "IPY_MODEL_564a58d5ff1e4f1da48b680658dc04d7",
            "placeholder": "​",
            "style": "IPY_MODEL_1788def6f80249a7a9b2e2affab504dc",
            "value": " 466k/466k [00:00&lt;00:00, 17.3MB/s]"
          }
        },
        "c5c63b3df1ff4244b6bbdb20a025f545": {
          "model_module": "@jupyter-widgets/controls",
          "model_module_version": "1.5.0",
          "model_name": "HTMLModel",
          "state": {
            "_dom_classes": [],
            "_model_module": "@jupyter-widgets/controls",
            "_model_module_version": "1.5.0",
            "_model_name": "HTMLModel",
            "_view_count": null,
            "_view_module": "@jupyter-widgets/controls",
            "_view_module_version": "1.5.0",
            "_view_name": "HTMLView",
            "description": "",
            "description_tooltip": null,
            "layout": "IPY_MODEL_02c0fc0b83a445208edfcfbc202a834f",
            "placeholder": "​",
            "style": "IPY_MODEL_024320eaf7904d9e9e570167d43db686",
            "value": " 232k/232k [00:00&lt;00:00, 6.45MB/s]"
          }
        },
        "c5d14edc724d42b7a871d949646ff736": {
          "model_module": "@jupyter-widgets/base",
          "model_module_version": "1.2.0",
          "model_name": "LayoutModel",
          "state": {
            "_model_module": "@jupyter-widgets/base",
            "_model_module_version": "1.2.0",
            "_model_name": "LayoutModel",
            "_view_count": null,
            "_view_module": "@jupyter-widgets/base",
            "_view_module_version": "1.2.0",
            "_view_name": "LayoutView",
            "align_content": null,
            "align_items": null,
            "align_self": null,
            "border": null,
            "bottom": null,
            "display": null,
            "flex": null,
            "flex_flow": null,
            "grid_area": null,
            "grid_auto_columns": null,
            "grid_auto_flow": null,
            "grid_auto_rows": null,
            "grid_column": null,
            "grid_gap": null,
            "grid_row": null,
            "grid_template_areas": null,
            "grid_template_columns": null,
            "grid_template_rows": null,
            "height": null,
            "justify_content": null,
            "justify_items": null,
            "left": null,
            "margin": null,
            "max_height": null,
            "max_width": null,
            "min_height": null,
            "min_width": null,
            "object_fit": null,
            "object_position": null,
            "order": null,
            "overflow": null,
            "overflow_x": null,
            "overflow_y": null,
            "padding": null,
            "right": null,
            "top": null,
            "visibility": null,
            "width": null
          }
        },
        "d42b97da7c7f44d2bc66cef9ccc61f82": {
          "model_module": "@jupyter-widgets/controls",
          "model_module_version": "1.5.0",
          "model_name": "DescriptionStyleModel",
          "state": {
            "_model_module": "@jupyter-widgets/controls",
            "_model_module_version": "1.5.0",
            "_model_name": "DescriptionStyleModel",
            "_view_count": null,
            "_view_module": "@jupyter-widgets/base",
            "_view_module_version": "1.2.0",
            "_view_name": "StyleView",
            "description_width": ""
          }
        },
        "e82707570e8245e9a44880f604e39f21": {
          "model_module": "@jupyter-widgets/controls",
          "model_module_version": "1.5.0",
          "model_name": "HTMLModel",
          "state": {
            "_dom_classes": [],
            "_model_module": "@jupyter-widgets/controls",
            "_model_module_version": "1.5.0",
            "_model_name": "HTMLModel",
            "_view_count": null,
            "_view_module": "@jupyter-widgets/controls",
            "_view_module_version": "1.5.0",
            "_view_name": "HTMLView",
            "description": "",
            "description_tooltip": null,
            "layout": "IPY_MODEL_c5d14edc724d42b7a871d949646ff736",
            "placeholder": "​",
            "style": "IPY_MODEL_62b8ee09d8d8487484eba0f64d8b0367",
            "value": "model.safetensors: 100%"
          }
        },
        "e98311022f0345199692bc2fea928493": {
          "model_module": "@jupyter-widgets/controls",
          "model_module_version": "1.5.0",
          "model_name": "HTMLModel",
          "state": {
            "_dom_classes": [],
            "_model_module": "@jupyter-widgets/controls",
            "_model_module_version": "1.5.0",
            "_model_name": "HTMLModel",
            "_view_count": null,
            "_view_module": "@jupyter-widgets/controls",
            "_view_module_version": "1.5.0",
            "_view_name": "HTMLView",
            "description": "",
            "description_tooltip": null,
            "layout": "IPY_MODEL_08e80e899f42467e8240de1d6adcf7a7",
            "placeholder": "​",
            "style": "IPY_MODEL_a9e53209ec0e4c019664820dfcd71574",
            "value": " 28.0/28.0 [00:00&lt;00:00, 1.23kB/s]"
          }
        },
        "ebd9be305c714c0d81115b32b390f1fc": {
          "model_module": "@jupyter-widgets/base",
          "model_module_version": "1.2.0",
          "model_name": "LayoutModel",
          "state": {
            "_model_module": "@jupyter-widgets/base",
            "_model_module_version": "1.2.0",
            "_model_name": "LayoutModel",
            "_view_count": null,
            "_view_module": "@jupyter-widgets/base",
            "_view_module_version": "1.2.0",
            "_view_name": "LayoutView",
            "align_content": null,
            "align_items": null,
            "align_self": null,
            "border": null,
            "bottom": null,
            "display": null,
            "flex": null,
            "flex_flow": null,
            "grid_area": null,
            "grid_auto_columns": null,
            "grid_auto_flow": null,
            "grid_auto_rows": null,
            "grid_column": null,
            "grid_gap": null,
            "grid_row": null,
            "grid_template_areas": null,
            "grid_template_columns": null,
            "grid_template_rows": null,
            "height": null,
            "justify_content": null,
            "justify_items": null,
            "left": null,
            "margin": null,
            "max_height": null,
            "max_width": null,
            "min_height": null,
            "min_width": null,
            "object_fit": null,
            "object_position": null,
            "order": null,
            "overflow": null,
            "overflow_x": null,
            "overflow_y": null,
            "padding": null,
            "right": null,
            "top": null,
            "visibility": null,
            "width": null
          }
        },
        "ecf763e060e644e1bc7429842a060f84": {
          "model_module": "@jupyter-widgets/controls",
          "model_module_version": "1.5.0",
          "model_name": "HBoxModel",
          "state": {
            "_dom_classes": [],
            "_model_module": "@jupyter-widgets/controls",
            "_model_module_version": "1.5.0",
            "_model_name": "HBoxModel",
            "_view_count": null,
            "_view_module": "@jupyter-widgets/controls",
            "_view_module_version": "1.5.0",
            "_view_name": "HBoxView",
            "box_style": "",
            "children": [
              "IPY_MODEL_6a4cb967bba34936bf416d31b63d27f5",
              "IPY_MODEL_6d029a14c348466bb08b3ed541cb991f",
              "IPY_MODEL_c3a04e2a5d2e4b6c82bad14359c529a5"
            ],
            "layout": "IPY_MODEL_6c2cc190b98f4ef28475eff22c9258e4"
          }
        },
        "edc9d8f277ed4faf89bbc62a459f18a5": {
          "model_module": "@jupyter-widgets/base",
          "model_module_version": "1.2.0",
          "model_name": "LayoutModel",
          "state": {
            "_model_module": "@jupyter-widgets/base",
            "_model_module_version": "1.2.0",
            "_model_name": "LayoutModel",
            "_view_count": null,
            "_view_module": "@jupyter-widgets/base",
            "_view_module_version": "1.2.0",
            "_view_name": "LayoutView",
            "align_content": null,
            "align_items": null,
            "align_self": null,
            "border": null,
            "bottom": null,
            "display": null,
            "flex": null,
            "flex_flow": null,
            "grid_area": null,
            "grid_auto_columns": null,
            "grid_auto_flow": null,
            "grid_auto_rows": null,
            "grid_column": null,
            "grid_gap": null,
            "grid_row": null,
            "grid_template_areas": null,
            "grid_template_columns": null,
            "grid_template_rows": null,
            "height": null,
            "justify_content": null,
            "justify_items": null,
            "left": null,
            "margin": null,
            "max_height": null,
            "max_width": null,
            "min_height": null,
            "min_width": null,
            "object_fit": null,
            "object_position": null,
            "order": null,
            "overflow": null,
            "overflow_x": null,
            "overflow_y": null,
            "padding": null,
            "right": null,
            "top": null,
            "visibility": null,
            "width": null
          }
        },
        "f1413efa53e7441c890b7a9a156f3b5f": {
          "model_module": "@jupyter-widgets/base",
          "model_module_version": "1.2.0",
          "model_name": "LayoutModel",
          "state": {
            "_model_module": "@jupyter-widgets/base",
            "_model_module_version": "1.2.0",
            "_model_name": "LayoutModel",
            "_view_count": null,
            "_view_module": "@jupyter-widgets/base",
            "_view_module_version": "1.2.0",
            "_view_name": "LayoutView",
            "align_content": null,
            "align_items": null,
            "align_self": null,
            "border": null,
            "bottom": null,
            "display": null,
            "flex": null,
            "flex_flow": null,
            "grid_area": null,
            "grid_auto_columns": null,
            "grid_auto_flow": null,
            "grid_auto_rows": null,
            "grid_column": null,
            "grid_gap": null,
            "grid_row": null,
            "grid_template_areas": null,
            "grid_template_columns": null,
            "grid_template_rows": null,
            "height": null,
            "justify_content": null,
            "justify_items": null,
            "left": null,
            "margin": null,
            "max_height": null,
            "max_width": null,
            "min_height": null,
            "min_width": null,
            "object_fit": null,
            "object_position": null,
            "order": null,
            "overflow": null,
            "overflow_x": null,
            "overflow_y": null,
            "padding": null,
            "right": null,
            "top": null,
            "visibility": null,
            "width": null
          }
        },
        "f5ecbaef5fea41d199482c6523a3e47b": {
          "model_module": "@jupyter-widgets/controls",
          "model_module_version": "1.5.0",
          "model_name": "ProgressStyleModel",
          "state": {
            "_model_module": "@jupyter-widgets/controls",
            "_model_module_version": "1.5.0",
            "_model_name": "ProgressStyleModel",
            "_view_count": null,
            "_view_module": "@jupyter-widgets/base",
            "_view_module_version": "1.2.0",
            "_view_name": "StyleView",
            "bar_color": null,
            "description_width": ""
          }
        },
        "f6fbbc1b22a14e40a65baf10b572d9cf": {
          "model_module": "@jupyter-widgets/base",
          "model_module_version": "1.2.0",
          "model_name": "LayoutModel",
          "state": {
            "_model_module": "@jupyter-widgets/base",
            "_model_module_version": "1.2.0",
            "_model_name": "LayoutModel",
            "_view_count": null,
            "_view_module": "@jupyter-widgets/base",
            "_view_module_version": "1.2.0",
            "_view_name": "LayoutView",
            "align_content": null,
            "align_items": null,
            "align_self": null,
            "border": null,
            "bottom": null,
            "display": null,
            "flex": null,
            "flex_flow": null,
            "grid_area": null,
            "grid_auto_columns": null,
            "grid_auto_flow": null,
            "grid_auto_rows": null,
            "grid_column": null,
            "grid_gap": null,
            "grid_row": null,
            "grid_template_areas": null,
            "grid_template_columns": null,
            "grid_template_rows": null,
            "height": null,
            "justify_content": null,
            "justify_items": null,
            "left": null,
            "margin": null,
            "max_height": null,
            "max_width": null,
            "min_height": null,
            "min_width": null,
            "object_fit": null,
            "object_position": null,
            "order": null,
            "overflow": null,
            "overflow_x": null,
            "overflow_y": null,
            "padding": null,
            "right": null,
            "top": null,
            "visibility": null,
            "width": null
          }
        },
        "ffeede0dcb0a4389b83468941f25376f": {
          "model_module": "@jupyter-widgets/controls",
          "model_module_version": "1.5.0",
          "model_name": "FloatProgressModel",
          "state": {
            "_dom_classes": [],
            "_model_module": "@jupyter-widgets/controls",
            "_model_module_version": "1.5.0",
            "_model_name": "FloatProgressModel",
            "_view_count": null,
            "_view_module": "@jupyter-widgets/controls",
            "_view_module_version": "1.5.0",
            "_view_name": "ProgressView",
            "bar_style": "success",
            "description": "",
            "description_tooltip": null,
            "layout": "IPY_MODEL_029b2f92f11c44dcafe1484732e39122",
            "max": 28,
            "min": 0,
            "orientation": "horizontal",
            "style": "IPY_MODEL_82126bbaaed540cd805b565c39cf5637",
            "value": 28
          }
        }
      }
    }
  },
  "nbformat": 4,
  "nbformat_minor": 0
}
